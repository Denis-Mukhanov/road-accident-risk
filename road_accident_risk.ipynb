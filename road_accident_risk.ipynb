{
 "cells": [
  {
   "cell_type": "markdown",
   "id": "df8526e5",
   "metadata": {},
   "source": [
    "[![image.png](https://i.postimg.cc/Df6QS0kf/image.png)](https://postimg.cc/s1BG8Vgb)"
   ]
  },
  {
   "cell_type": "markdown",
   "id": "f62ff4c4",
   "metadata": {},
   "source": [
    "<div style=\"padding:20px 20px 20px; \n",
    "            color:#004346;\n",
    "            font-size:40px;\n",
    "            display:fill;\n",
    "            text-align:center;\n",
    "            border-radius:20px;\n",
    "            border: 5px double;\n",
    "            border-color:#201E20;\n",
    "            background-color: #E8F1F2;\n",
    "            overflow:hidden;\n",
    "            font-weight:400\"> \n",
    "<p style=\"font-weight: bold; text-align: center;\">Оценка риска ДТП</p>\n",
    "\n",
    "</div>"
   ]
  },
  {
   "cell_type": "markdown",
   "id": "78fa8c52",
   "metadata": {},
   "source": [
    "<div style=\"padding:0px 40px 30px; \n",
    "            color:#004346;\n",
    "            font-size:110%;\n",
    "            display:fill;\n",
    "            border-radius:20px;\n",
    "            border: 5px double;\n",
    "            border-color:#201E20;\n",
    "            background-color: #E8F1F2;\n",
    "            overflow:hidden;\n",
    "            font-weight:450;\"> \n",
    "    \n",
    "__Заказчик:__ Каршеринговая компания.\n",
    "    \n",
    "__Постановка задачи:__ Разработать систему, которая может оценить риск ДТП по выбранному маршруту движения для водителей, которые арендуют автомобили.\n",
    "    \n",
    "__Описание задачи:__  Система должна предсказывать вероятность возникновения ДТП с любым повреждением транспортного средства. При выборе маршрута и совершении бронирования автомобиля, водителю будет предоставляться оценка уровня риска. В случае высокого уровня риска, водитель получит предупреждение и рекомендации по выбору безопасного маршрута.\n",
    "    \n",
    "__Оценка результата:__ Качество системы будет оцениваться на основе точности предсказаний.\n",
    "    \n",
    "__Описание данных:__ Исторические данные, предоставленные заказчиком, включают информацию о маршрутах движения, участниках ДТП, условиях происшествия, состоянии дороги и факте о виновности водителя в происшествии. \n",
    "    \n",
    "</div>    "
   ]
  },
  {
   "cell_type": "markdown",
   "id": "91782a82",
   "metadata": {},
   "source": [
    "<div style=\"padding:0px 20px 10px; \n",
    "            color:#004346;\n",
    "            font-size:15px;\n",
    "            display:fill;\n",
    "            text-align:center;\n",
    "            border-radius:20px;\n",
    "            border: 5px double;\n",
    "            border-color:#201E20;\n",
    "            background-color: #E8F1F2;\n",
    "            overflow:hidden;\n",
    "            font-weight:400\"> \n",
    "\n",
    "# Используемые библиотеки\n",
    "\n",
    "</div>"
   ]
  },
  {
   "cell_type": "code",
   "execution_count": 771,
   "id": "77e1fbef",
   "metadata": {},
   "outputs": [],
   "source": [
    "import pandas as pd\n",
    "import numpy as np\n",
    "import matplotlib.pyplot as plt\n",
    "import seaborn as sns\n",
    "\n",
    "import phik\n",
    "import psycopg2\n",
    "import sqlalchemy\n",
    "from sqlalchemy import create_engine\n",
    "\n",
    "from sklearn.model_selection import train_test_split\n",
    "from sklearn.compose import ColumnTransformer, make_column_transformer\n",
    "from sklearn.preprocessing import StandardScaler, OneHotEncoder\n",
    "\n",
    "from sklearn.linear_model import LogisticRegression\n",
    "from sklearn.pipeline import Pipeline\n",
    "from sklearn.model_selection import GridSearchCV, StratifiedKFold\n",
    "\n",
    "from catboost import CatBoostClassifier, Pool, cv\n",
    "from sklearn.model_selection import cross_validate\n",
    "from sklearn.metrics import make_scorer, accuracy_score, precision_score, recall_score\n",
    "import optuna\n",
    "from sklearn.model_selection import KFold\n",
    "\n",
    "import torch\n",
    "import torch.nn as nn\n",
    "import torch.optim as optim\n",
    "from torch.utils.data import Dataset\n",
    "from torch.utils.data import DataLoader\n",
    "from skorch.classifier import NeuralNetClassifier\n",
    "from skorch.dataset import ValidSplit\n",
    "from skorch.callbacks import EpochScoring, EarlyStopping\n",
    "from sklearn.model_selection import cross_val_score\n",
    "\n",
    "import shap\n",
    "from sklearn.metrics import confusion_matrix\n",
    "\n",
    "# константы\n",
    "RANDOM_SEED = 42\n",
    "SPLITS = 4\n",
    "\n",
    "# настройки блокнота\n",
    "torch.manual_seed(RANDOM_SEED)\n",
    "np.random.seed(RANDOM_SEED)"
   ]
  },
  {
   "cell_type": "markdown",
   "id": "b8215886",
   "metadata": {},
   "source": [
    "## Подключение к базе данных"
   ]
  },
  {
   "cell_type": "code",
   "execution_count": 409,
   "id": "2599183f",
   "metadata": {},
   "outputs": [],
   "source": [
    "# конфигурация для подключения к базе данных\n",
    "db_config = {\n",
    "'user': 'praktikum_student', # имя пользователя\n",
    "'pwd': 'Sdf4$2;d-d30pp', # пароль\n",
    "'host': 'rc1b-wcoijxj3yxfsf3fs.mdb.yandexcloud.net',\n",
    "'port': 6432, # порт подключения\n",
    "'db': 'data-science-vehicle-db' # название базы данных\n",
    "} \n",
    "\n",
    "# создание подключения к базе данных\n",
    "connection = psycopg2.connect(\n",
    "    user=db_config['user'],\n",
    "    password=db_config['pwd'],\n",
    "    host=db_config['host'],\n",
    "    port=db_config['port'],\n",
    "    database=db_config['db']\n",
    ")\n",
    "\n",
    "# создаем курсора для выполнения запросов\n",
    "cursor = connection.cursor()"
   ]
  },
  {
   "cell_type": "markdown",
   "id": "ad1a9422",
   "metadata": {},
   "source": [
    "#### функция для выполнения запросов"
   ]
  },
  {
   "cell_type": "code",
   "execution_count": 410,
   "id": "938f3045",
   "metadata": {},
   "outputs": [],
   "source": [
    "# функция для выполнения запросов\n",
    "def request(query):\n",
    "    try:\n",
    "        cursor.execute(query)\n",
    "        result = cursor.fetchall()\n",
    "        result_df = pd.DataFrame(result, columns=[desc[0] for desc in cursor.description])\n",
    "        return result_df\n",
    "    except Exception as e:\n",
    "        print(f'Error: {e}')\n",
    "        connection.rollback()  # откат транзакции, для избежания блокировки"
   ]
  },
  {
   "cell_type": "code",
   "execution_count": 411,
   "id": "f7d75765",
   "metadata": {},
   "outputs": [
    {
     "data": {
      "text/html": [
       "<div>\n",
       "<style scoped>\n",
       "    .dataframe tbody tr th:only-of-type {\n",
       "        vertical-align: middle;\n",
       "    }\n",
       "\n",
       "    .dataframe tbody tr th {\n",
       "        vertical-align: top;\n",
       "    }\n",
       "\n",
       "    .dataframe thead th {\n",
       "        text-align: right;\n",
       "    }\n",
       "</style>\n",
       "<table border=\"1\" class=\"dataframe\">\n",
       "  <thead>\n",
       "    <tr style=\"text-align: right;\">\n",
       "      <th></th>\n",
       "      <th>case_id</th>\n",
       "      <th>county_city_location</th>\n",
       "      <th>county_location</th>\n",
       "      <th>distance</th>\n",
       "      <th>direction</th>\n",
       "    </tr>\n",
       "  </thead>\n",
       "  <tbody>\n",
       "    <tr>\n",
       "      <th>0</th>\n",
       "      <td>4083072</td>\n",
       "      <td>1942</td>\n",
       "      <td>los angeles</td>\n",
       "      <td>528.0</td>\n",
       "      <td>north</td>\n",
       "    </tr>\n",
       "  </tbody>\n",
       "</table>\n",
       "</div>"
      ],
      "text/plain": [
       "   case_id county_city_location county_location  distance direction\n",
       "0  4083072                 1942     los angeles     528.0     north"
      ]
     },
     "metadata": {},
     "output_type": "display_data"
    }
   ],
   "source": [
    "# тестовый запрос\n",
    "query = '''\n",
    "SELECT case_id, county_city_location, county_location, distance, direction\n",
    "FROM collisions\n",
    "LIMIT 1;\n",
    "'''\n",
    "display(request(query))"
   ]
  },
  {
   "cell_type": "markdown",
   "id": "ac73bef5",
   "metadata": {},
   "source": [
    "<div style=\"padding: 30px 25px; border: 2px #6495ed solid\">\n",
    "\n",
    "- Подключение к базе данных успешно установлено.\n",
    "- Функция для выполнения запросов работает корректно.\n",
    "    \n",
    "</div>"
   ]
  },
  {
   "cell_type": "markdown",
   "id": "26cf00ee",
   "metadata": {
    "ExecuteTime": {
     "end_time": "2022-05-05T04:58:05.692448Z",
     "start_time": "2022-05-05T04:58:05.688565Z"
    }
   },
   "source": [
    "<div style=\"padding:0px 20px 10px; \n",
    "            color:#004346;\n",
    "            font-size:15px;\n",
    "            display:fill;\n",
    "            text-align:center;\n",
    "            border-radius:20px;\n",
    "            border: 5px double;\n",
    "            border-color:#201E20;\n",
    "            background-color: #E8F1F2;\n",
    "            overflow:hidden;\n",
    "            font-weight:400\"> \n",
    "\n",
    "# Первичное исследование таблиц базы данных\n",
    "\n",
    "</div>"
   ]
  },
  {
   "cell_type": "markdown",
   "id": "4168c39d",
   "metadata": {},
   "source": [
    "- Проверим все ли таблицы имеют набор данных;\n",
    "- Посмотрим количество таблиц;\n",
    "- Имеется ли общий ключ для связи таблиц."
   ]
  },
  {
   "cell_type": "code",
   "execution_count": 412,
   "id": "04cc0aa3",
   "metadata": {},
   "outputs": [],
   "source": [
    "# создание engine для подключения к базе данных\n",
    "engine = sqlalchemy.create_engine(\n",
    "    f\"postgresql://{db_config['user']}:{db_config['pwd']}@{db_config['host']}:{db_config['port']}/{db_config['db']}\"\n",
    ")\n",
    "# получение метаданных таблицы\n",
    "metadata = sqlalchemy.MetaData()\n",
    "metadata.reflect(bind=engine)"
   ]
  },
  {
   "cell_type": "markdown",
   "id": "0292ae05",
   "metadata": {},
   "source": [
    "__Общая информация о таблицах__"
   ]
  },
  {
   "cell_type": "code",
   "execution_count": 413,
   "id": "3722ce61",
   "metadata": {},
   "outputs": [
    {
     "name": "stdout",
     "output_type": "stream",
     "text": [
      "\n",
      "Таблица: case_ids;\n",
      "Количество записей: 1400000;\n",
      "Признаки: ['case_id', 'db_year'];\n",
      "Первичный ключ: Отсутствует     \n",
      "           \n",
      "\n",
      "Таблица: collisions;\n",
      "Количество записей: 1400000;\n",
      "Признаки: ['case_id', 'county_city_location', 'county_location', 'distance', 'direction', 'intersection', 'weather_1', 'location_type', 'collision_damage', 'party_count', 'primary_collision_factor', 'pcf_violation_category', 'type_of_collision', 'motor_vehicle_involved_with', 'road_surface', 'road_condition_1', 'lighting', 'control_device', 'collision_date', 'collision_time'];\n",
      "Первичный ключ: Отсутствует     \n",
      "           \n",
      "\n",
      "Таблица: parties;\n",
      "Количество записей: 2752408;\n",
      "Признаки: ['id', 'case_id', 'party_number', 'party_type', 'at_fault', 'insurance_premium', 'party_sobriety', 'party_drug_physical', 'cellphone_in_use'];\n",
      "Первичный ключ: Отсутствует     \n",
      "           \n",
      "\n",
      "Таблица: vehicles;\n",
      "Количество записей: 1021234;\n",
      "Признаки: ['id', 'case_id', 'party_number', 'vehicle_type', 'vehicle_transmission', 'vehicle_age'];\n",
      "Первичный ключ: Отсутствует     \n",
      "           \n"
     ]
    }
   ],
   "source": [
    "for table_name, table in metadata.tables.items():\n",
    "    query = f'SELECT COUNT(*) FROM {table_name};'\n",
    "    print(f'''\n",
    "Таблица: {table_name};\n",
    "Количество записей: {request(query).iloc[0][0]};\n",
    "Признаки: {table.columns.keys()};\n",
    "Первичный ключ: {table.primary_key.columns.keys() if table.primary_key else 'Отсутствует'}     \n",
    "           ''')"
   ]
  },
  {
   "cell_type": "markdown",
   "id": "f392820f",
   "metadata": {},
   "source": [
    "<div style=\"padding: 30px 25px; border: 2px #6495ed solid\">\n",
    "\n",
    "- В базе данных есть три основные таблицы, c наборами данных, но без явно указанных первичных ключей.\n",
    "\n",
    "- Таблица __'collisions'__ — общая информация о ДТП:\n",
    "    - Из описания данных известно, имеет уникальный `case_id`, который является уникальным идентификатором для каждого зарегистрированного происшествия;\n",
    "    - Эта таблица содержит общую информацию о происшествии, включая место, дату и время его происхождения, погодные условия, серьезность происшествия и другие характеристики.\n",
    "    \n",
    "- Таблица __'parties'__ — информация об участниках ДТП:\n",
    "    - Имеет неуникальный `case_id`, который связан с соответствующим ДТП в таблице 'collisions'.\n",
    "    - Каждая строка в этой таблице описывает одну из сторон, участвующих в ДТП. Например, если в ДТП участвуют две машины, то в этой таблице будет две строки с совпадающим `case_id`.\n",
    "    - Для создания уникального идентификатора участника можно использовать комбинацию `case_id` и `party_number`.\n",
    "\n",
    "- Таблица __'vehicles'__ — информация о пострадавших машинах:\n",
    "    - Имеет неуникальные `case_id` и неуникальные `party_number`, которые связаны с таблицами 'collisions' и 'parties'.\n",
    "    - Данная таблица содержит информацию о пострадавших машинах, и каждая строка описывает одно транспортное средство.\n",
    "    - Для создания уникального идентификатора машины можно использовать комбинацию `case_id` и `party_number`.\n",
    "\n",
    "\n",
    "</div>"
   ]
  },
  {
   "cell_type": "markdown",
   "id": "f46e745c",
   "metadata": {},
   "source": [
    "<div style=\"padding:0px 20px 10px; \n",
    "            color:#004346;\n",
    "            font-size:15px;\n",
    "            display:fill;\n",
    "            text-align:center;\n",
    "            border-radius:20px;\n",
    "            border: 5px double;\n",
    "            border-color:#201E20;\n",
    "            background-color: #E8F1F2;\n",
    "            overflow:hidden;\n",
    "            font-weight:400\"> \n",
    "\n",
    "# Анализ факторов ДТП\n",
    "\n",
    "</div>"
   ]
  },
  {
   "cell_type": "markdown",
   "id": "acc3ea87",
   "metadata": {},
   "source": [
    "## Зависимость количества аварий от месяца"
   ]
  },
  {
   "cell_type": "code",
   "execution_count": 414,
   "id": "aa7af3b4",
   "metadata": {},
   "outputs": [
    {
     "data": {
      "text/html": [
       "<div>\n",
       "<style scoped>\n",
       "    .dataframe tbody tr th:only-of-type {\n",
       "        vertical-align: middle;\n",
       "    }\n",
       "\n",
       "    .dataframe tbody tr th {\n",
       "        vertical-align: top;\n",
       "    }\n",
       "\n",
       "    .dataframe thead th {\n",
       "        text-align: right;\n",
       "    }\n",
       "</style>\n",
       "<table border=\"1\" class=\"dataframe\">\n",
       "  <thead>\n",
       "    <tr style=\"text-align: right;\">\n",
       "      <th></th>\n",
       "      <th>month_num</th>\n",
       "      <th>month</th>\n",
       "      <th>collision_count</th>\n",
       "    </tr>\n",
       "  </thead>\n",
       "  <tbody>\n",
       "    <tr>\n",
       "      <th>0</th>\n",
       "      <td>1</td>\n",
       "      <td>January</td>\n",
       "      <td>132044</td>\n",
       "    </tr>\n",
       "    <tr>\n",
       "      <th>1</th>\n",
       "      <td>2</td>\n",
       "      <td>February</td>\n",
       "      <td>128858</td>\n",
       "    </tr>\n",
       "    <tr>\n",
       "      <th>2</th>\n",
       "      <td>3</td>\n",
       "      <td>March</td>\n",
       "      <td>139581</td>\n",
       "    </tr>\n",
       "    <tr>\n",
       "      <th>3</th>\n",
       "      <td>4</td>\n",
       "      <td>April</td>\n",
       "      <td>130180</td>\n",
       "    </tr>\n",
       "    <tr>\n",
       "      <th>4</th>\n",
       "      <td>5</td>\n",
       "      <td>May</td>\n",
       "      <td>130316</td>\n",
       "    </tr>\n",
       "    <tr>\n",
       "      <th>5</th>\n",
       "      <td>6</td>\n",
       "      <td>June</td>\n",
       "      <td>102594</td>\n",
       "    </tr>\n",
       "    <tr>\n",
       "      <th>6</th>\n",
       "      <td>7</td>\n",
       "      <td>July</td>\n",
       "      <td>102227</td>\n",
       "    </tr>\n",
       "    <tr>\n",
       "      <th>7</th>\n",
       "      <td>8</td>\n",
       "      <td>August</td>\n",
       "      <td>104089</td>\n",
       "    </tr>\n",
       "    <tr>\n",
       "      <th>8</th>\n",
       "      <td>9</td>\n",
       "      <td>September</td>\n",
       "      <td>105159</td>\n",
       "    </tr>\n",
       "    <tr>\n",
       "      <th>9</th>\n",
       "      <td>10</td>\n",
       "      <td>October</td>\n",
       "      <td>112237</td>\n",
       "    </tr>\n",
       "    <tr>\n",
       "      <th>10</th>\n",
       "      <td>11</td>\n",
       "      <td>November</td>\n",
       "      <td>104770</td>\n",
       "    </tr>\n",
       "    <tr>\n",
       "      <th>11</th>\n",
       "      <td>12</td>\n",
       "      <td>December</td>\n",
       "      <td>107945</td>\n",
       "    </tr>\n",
       "  </tbody>\n",
       "</table>\n",
       "</div>"
      ],
      "text/plain": [
       "    month_num      month  collision_count\n",
       "0           1  January             132044\n",
       "1           2  February            128858\n",
       "2           3  March               139581\n",
       "3           4  April               130180\n",
       "4           5  May                 130316\n",
       "5           6  June                102594\n",
       "6           7  July                102227\n",
       "7           8  August              104089\n",
       "8           9  September           105159\n",
       "9          10  October             112237\n",
       "10         11  November            104770\n",
       "11         12  December            107945"
      ]
     },
     "metadata": {},
     "output_type": "display_data"
    }
   ],
   "source": [
    "# sql запрос\n",
    "query = '''\n",
    "SELECT CAST(EXTRACT(MONTH FROM COLLISION_DATE) AS INTEGER) AS month_num,\n",
    "       TO_CHAR(COLLISION_DATE, 'Month') AS month,\n",
    "       COUNT(*) AS collision_count\n",
    "FROM collisions\n",
    "GROUP BY month, month_num\n",
    "ORDER BY month_num;\n",
    "'''\n",
    "\n",
    "df = request(query)\n",
    "display(df)"
   ]
  },
  {
   "cell_type": "code",
   "execution_count": 415,
   "id": "2bf84b54",
   "metadata": {},
   "outputs": [
    {
     "data": {
      "image/png": "[encoded data removed]",
      "text/plain": [
       "<Figure size 1000x400 with 1 Axes>"
      ]
     },
     "metadata": {},
     "output_type": "display_data"
    }
   ],
   "source": [
    "# визуолизация результатов\n",
    "plt.figure(figsize=(10, 4))\n",
    "plt.bar(df['month'], df['collision_count'], color='teal')\n",
    "plt.xlabel('Месяц')\n",
    "plt.ylabel('Количество аварий')\n",
    "plt.title('Количество аварий по месяцам')\n",
    "plt.xticks(rotation=45, ha='right')\n",
    "plt.show()"
   ]
  },
  {
   "cell_type": "markdown",
   "id": "fbea0f73",
   "metadata": {},
   "source": [
    "- Видно, что количество аварий имеет явные сезонные колебания в течение года.\n",
    "- Наибольшее количество аварий обычно происходит в марте и октябре, что может быть связано с изменениями погоды и дорожных условий в эти месяцы.\n",
    "- Наименьшее количество аварий зафиксировано в июне и июле, возможно, из-за летнего сезона и лучших дорожных условий.\n",
    "- Аварийное количество кажется стабильным в период с августа по декабрь."
   ]
  },
  {
   "cell_type": "markdown",
   "id": "f9609f71",
   "metadata": {},
   "source": [
    "## Аналитические задачи\n",
    "\n",
    "Эти задачи позволят лучше понять данные и провести дополнительный анализ для определения факторов, влияющих на возникновение ДТП, а также выявить потенциальные меры для предотвращения аварий.\n"
   ]
  },
  {
   "cell_type": "markdown",
   "id": "4f08fde6",
   "metadata": {},
   "source": [
    "__Задача 1:__\n",
    "\n",
    "__Анализ серьезности повреждений транспортного средства, исходя из состояния дороги в момент ДТП.__\n",
    "- Исследовать связь между состоянием дороги (ROAD_SURFACE) в момент ДТП и серьезностью повреждений транспортного средства (COLLISION_DAMAGE). \n",
    "- Определить, какие состояния дороги преобладают при различных уровнях серьезности повреждений, и сделайте выводы о влиянии состояния дороги на серьезность ДТП.\n",
    "\n",
    "__Задача 2:__\n",
    "\n",
    "__Анализ частых причин ДТП.__\n",
    "- Используя таблицу \"parties\", определить самые частые причины ДТП (PCF_VIOLATION_CATEGORY). \n",
    "- Выстроить рейтинг причин в порядке убывания частоты аварий. \n",
    "- Определить рекомендации на основе этого анализа, чтобы предотвратить наиболее распространенные типы ДТП.\n",
    "\n",
    "__Задача 3:__\n",
    "\n",
    "__Анализ влияния уровня освещения на вероятность возникновения ДТП.__\n",
    "- Сравнить количество ДТП в зависимости от уровня освещения (LIGHTING). \n",
    "- Определить, в какое время суток и в каких условиях освещения ДТП происходят наиболее часто. \n",
    "- Проанализировать, как уровень освещения влияет на вероятность возникновения ДТП.\n",
    "\n",
    "__Задача 4:__\n",
    "\n",
    "__Анализ распределения количества участников в ДТП.__\n",
    "- Изучить количество участников (PARTY_COUNT) в каждом ДТП и определите распределение этой величины. \n",
    "- Определить, как часто происходят ДТП с большим количеством участников и сравните это с количеством ДТП с небольшим числом участников.\n",
    "\n",
    "__Задача 5:__\n",
    "\n",
    "__Анализ зависимости вероятности возникновения ДТП от погодных условий.__\n",
    "- Изучить влияние погодных условий (WEATHER_1) на вероятность возникновения ДТП. \n",
    "- Сравнить количество ДТП в различных погодных условиях и определите, какие погодные условия сопровождаются наибольшим риском возникновения аварий.\n",
    "\n",
    "__Задача 6:__\n",
    "\n",
    "__Анализ влияния уровня опьянения участников на тяжесть ДТП.__\n",
    "- Исследовать связь между уровнем опьянения участников ДТП (PARTY_SOBRIETY) и серьезностью аварий (COLLISION_DAMAGE). \n",
    "- Определить, какие уровни опьянения преобладают при различных уровнях серьезности повреждений транспортного средства. \n",
    "- Сравнить количество исходящихся аварий для каждого уровня опьянения и выявите, насколько опьянение участников влияет на тяжесть ДТП.\n",
    "\n",
    "__Задача 7:__\n",
    "__Анализ частоты ДТП в зависимости от времени суток и сотоянии дороги.__\n",
    "- Объединить таблицы \"collisions\" и \"vehicles\" по общему ключу \"case_id\".\n",
    "- Используя полученные данные для вычисления количества ДТП для каждого времени суток (утро, день, вечер, ночь) и типа дороги (городская, загородная, автострада).\n",
    "\n",
    "__Задача 8:__\n",
    "__Анализ влияния возраста автомобиля на тип аварий__\n",
    "- Объединить таблицы \"collisions\" и \" vehicles\" по общему ключу \"case_id\" и получить данные о типах ДТП и возрасте автомобилей.\n",
    "- Используя полученные данные, проанализируйте селичество и тип ДТП и связь их и возрастом автомобилей."
   ]
  },
  {
   "cell_type": "markdown",
   "id": "2d2e1ce0",
   "metadata": {},
   "source": [
    "### Анализ частых причин ДТП.\n",
    "Данный анализ поможет сосредоточить внимание на наиболее значимых проблемах и разработать эффективные стратегии для снижения аварийности и повышения безопасности на дорогах."
   ]
  },
  {
   "cell_type": "code",
   "execution_count": 416,
   "id": "d1567adc",
   "metadata": {},
   "outputs": [
    {
     "data": {
      "text/html": [
       "<div>\n",
       "<style scoped>\n",
       "    .dataframe tbody tr th:only-of-type {\n",
       "        vertical-align: middle;\n",
       "    }\n",
       "\n",
       "    .dataframe tbody tr th {\n",
       "        vertical-align: top;\n",
       "    }\n",
       "\n",
       "    .dataframe thead th {\n",
       "        text-align: right;\n",
       "    }\n",
       "</style>\n",
       "<table border=\"1\" class=\"dataframe\">\n",
       "  <thead>\n",
       "    <tr style=\"text-align: right;\">\n",
       "      <th></th>\n",
       "      <th>pcf_violation_category</th>\n",
       "      <th>collision_count</th>\n",
       "    </tr>\n",
       "  </thead>\n",
       "  <tbody>\n",
       "    <tr>\n",
       "      <th>0</th>\n",
       "      <td>speeding</td>\n",
       "      <td>438439</td>\n",
       "    </tr>\n",
       "    <tr>\n",
       "      <th>1</th>\n",
       "      <td>improper turning</td>\n",
       "      <td>238987</td>\n",
       "    </tr>\n",
       "    <tr>\n",
       "      <th>2</th>\n",
       "      <td>automobile right of way</td>\n",
       "      <td>158291</td>\n",
       "    </tr>\n",
       "    <tr>\n",
       "      <th>3</th>\n",
       "      <td>dui</td>\n",
       "      <td>110476</td>\n",
       "    </tr>\n",
       "    <tr>\n",
       "      <th>4</th>\n",
       "      <td>unsafe lane change</td>\n",
       "      <td>93962</td>\n",
       "    </tr>\n",
       "    <tr>\n",
       "      <th>5</th>\n",
       "      <td>traffic signals and signs</td>\n",
       "      <td>72751</td>\n",
       "    </tr>\n",
       "    <tr>\n",
       "      <th>6</th>\n",
       "      <td>unsafe starting or backing</td>\n",
       "      <td>55674</td>\n",
       "    </tr>\n",
       "    <tr>\n",
       "      <th>7</th>\n",
       "      <td>unknown</td>\n",
       "      <td>39558</td>\n",
       "    </tr>\n",
       "    <tr>\n",
       "      <th>8</th>\n",
       "      <td>wrong side of road</td>\n",
       "      <td>33631</td>\n",
       "    </tr>\n",
       "    <tr>\n",
       "      <th>9</th>\n",
       "      <td>following too closely</td>\n",
       "      <td>30033</td>\n",
       "    </tr>\n",
       "  </tbody>\n",
       "</table>\n",
       "</div>"
      ],
      "text/plain": [
       "       pcf_violation_category  collision_count\n",
       "0                    speeding           438439\n",
       "1            improper turning           238987\n",
       "2     automobile right of way           158291\n",
       "3                         dui           110476\n",
       "4          unsafe lane change            93962\n",
       "5   traffic signals and signs            72751\n",
       "6  unsafe starting or backing            55674\n",
       "7                     unknown            39558\n",
       "8          wrong side of road            33631\n",
       "9       following too closely            30033"
      ]
     },
     "metadata": {},
     "output_type": "display_data"
    }
   ],
   "source": [
    "# sql запрос\n",
    "query = '''\n",
    "SELECT PCF_VIOLATION_CATEGORY, \n",
    "       COUNT(*) AS collision_count\n",
    "FROM collisions\n",
    "GROUP BY PCF_VIOLATION_CATEGORY\n",
    "ORDER BY collision_count DESC\n",
    "LIMIT 10;\n",
    "'''\n",
    "\n",
    "df = request(query)\n",
    "display(df)"
   ]
  },
  {
   "cell_type": "code",
   "execution_count": 417,
   "id": "c4f46f3f",
   "metadata": {
    "code_folding": []
   },
   "outputs": [
    {
     "data": {
      "image/png": "[encoded data removed]",
      "text/plain": [
       "<Figure size 900x400 with 1 Axes>"
      ]
     },
     "metadata": {},
     "output_type": "display_data"
    }
   ],
   "source": [
    "# визуолизация результатов\n",
    "plt.figure(figsize=(9, 4))\n",
    "sns.barplot(x='collision_count', y='pcf_violation_category', data=df, color='teal')\n",
    "plt.xlabel('Количество аварий')\n",
    "plt.ylabel('Причина ДТП')\n",
    "plt.title('Рейтинг причин ДТП')\n",
    "plt.show()"
   ]
  },
  {
   "cell_type": "markdown",
   "id": "2689c4b0",
   "metadata": {},
   "source": [
    "__Из результатов запроса видно, что самыми частыми причинами ДТП в данной базе данных являются:__\n",
    "- Превышение скорости (Speeding) - 438,439 аварий.\n",
    "- Неправильный поворот (Improper Turning) - 238,987 аварий.\n",
    "- Автомобильное право проезда (Automobile Right of Way) - 158,291 аварий.\n",
    "- Вождение или езда на велосипеде в состоянии алкогольного или наркотического опьянения (DUI - Driving Under the Influence) - 110,476 аварий.\n",
    "\n",
    "__Основываясь на этом анализе, можно предложить следующие рекомендации для предотвращения наиболее распространенных типов ДТП:__\n",
    "- Повышать осведомленность и образованность водителей: Продвигать информационные кампании, обучающие водителей о безопасных практиках вождения, в том числе о соблюдении ограничений скорости и правильном повороте.\n",
    "- Развивать системы контроля скорости: Внедрение автоматических систем контроля скорости на дорогах может снизить количество ДТП, связанных с превышением скорости.\n",
    "- Расширить сеть камер наблюдения на дорогах: Установка камер на опасных участках дорог поможет отслеживать нарушения и устранять их.\n",
    "- Поддерживать безопасные дорожные условия: Проводить регулярный мониторинг дорожного покрытия и инфраструктуры, чтобы обеспечить безопасное движение.\n",
    "- Установить технологию, которая интегрирует алко-тест в систему зажигания автомобиля. Это поможет предотвращать аварии, связанные с вождением в состоянии алкогольного опьянения."
   ]
  },
  {
   "cell_type": "markdown",
   "id": "cb46a15b",
   "metadata": {},
   "source": [
    "### Анализ зависимости вероятности возникновения ДТП от погодных условий."
   ]
  },
  {
   "cell_type": "code",
   "execution_count": 418,
   "id": "69e016ec",
   "metadata": {},
   "outputs": [
    {
     "data": {
      "text/html": [
       "<div>\n",
       "<style scoped>\n",
       "    .dataframe tbody tr th:only-of-type {\n",
       "        vertical-align: middle;\n",
       "    }\n",
       "\n",
       "    .dataframe tbody tr th {\n",
       "        vertical-align: top;\n",
       "    }\n",
       "\n",
       "    .dataframe thead th {\n",
       "        text-align: right;\n",
       "    }\n",
       "</style>\n",
       "<table border=\"1\" class=\"dataframe\">\n",
       "  <thead>\n",
       "    <tr style=\"text-align: right;\">\n",
       "      <th></th>\n",
       "      <th>weather_1</th>\n",
       "      <th>collision_count</th>\n",
       "    </tr>\n",
       "  </thead>\n",
       "  <tbody>\n",
       "    <tr>\n",
       "      <th>0</th>\n",
       "      <td>clear</td>\n",
       "      <td>1121048</td>\n",
       "    </tr>\n",
       "    <tr>\n",
       "      <th>1</th>\n",
       "      <td>cloudy</td>\n",
       "      <td>203030</td>\n",
       "    </tr>\n",
       "    <tr>\n",
       "      <th>2</th>\n",
       "      <td>raining</td>\n",
       "      <td>57976</td>\n",
       "    </tr>\n",
       "    <tr>\n",
       "      <th>3</th>\n",
       "      <td>None</td>\n",
       "      <td>7259</td>\n",
       "    </tr>\n",
       "    <tr>\n",
       "      <th>4</th>\n",
       "      <td>fog</td>\n",
       "      <td>6156</td>\n",
       "    </tr>\n",
       "    <tr>\n",
       "      <th>5</th>\n",
       "      <td>snowing</td>\n",
       "      <td>2571</td>\n",
       "    </tr>\n",
       "    <tr>\n",
       "      <th>6</th>\n",
       "      <td>other</td>\n",
       "      <td>1516</td>\n",
       "    </tr>\n",
       "    <tr>\n",
       "      <th>7</th>\n",
       "      <td>wind</td>\n",
       "      <td>444</td>\n",
       "    </tr>\n",
       "  </tbody>\n",
       "</table>\n",
       "</div>"
      ],
      "text/plain": [
       "  weather_1  collision_count\n",
       "0     clear          1121048\n",
       "1    cloudy           203030\n",
       "2   raining            57976\n",
       "3      None             7259\n",
       "4       fog             6156\n",
       "5   snowing             2571\n",
       "6     other             1516\n",
       "7      wind              444"
      ]
     },
     "metadata": {},
     "output_type": "display_data"
    }
   ],
   "source": [
    "# sql запрос\n",
    "query = '''\n",
    "SELECT WEATHER_1,\n",
    "       COUNT(*) AS collision_count\n",
    "FROM collisions\n",
    "GROUP BY WEATHER_1\n",
    "ORDER BY collision_count DESC;\n",
    "'''\n",
    "\n",
    "df = request(query)\n",
    "display(df)"
   ]
  },
  {
   "cell_type": "code",
   "execution_count": 419,
   "id": "86b63f68",
   "metadata": {},
   "outputs": [
    {
     "data": {
      "image/png": "[encoded data removed]",
      "text/plain": [
       "<Figure size 900x300 with 1 Axes>"
      ]
     },
     "metadata": {},
     "output_type": "display_data"
    }
   ],
   "source": [
    "# визуолизация результатов\n",
    "plt.figure(figsize=(9, 3))\n",
    "sns.barplot(x='collision_count', y='weather_1', data=df, color='teal')\n",
    "plt.xlabel('Количество аварий')\n",
    "plt.ylabel('Погодные условия')\n",
    "plt.title('Анализ зависимости ДТП от погодных условий')\n",
    "plt.ticklabel_format(style='plain', axis='x')\n",
    "\n",
    "plt.show()"
   ]
  },
  {
   "cell_type": "markdown",
   "id": "e71bc6e6",
   "metadata": {},
   "source": [
    "__На основе результатов анализа зависимости вероятности возникновения ДТП от погодных условий, получены следующие данные:__\n",
    "- В ясную погоду (clear) зарегистрировано наибольшее количество аварий - 1,121,048 случаев.\n",
    "- За ясной погодой следует облачная погода (cloudy) с 203,030 авариями.\n",
    "- Дождливая погода (raining) оказывается третьей по частоте причиной ДТП с 57,976 авариями.\n",
    "- В условиях без указания погоды (None) произошло 7,259 аварий.\n",
    "- Туман (fog) сопровождается 6,156 авариями.\n",
    "- В снежную погоду (snowing) попало 2,571 аварий.\n",
    "- Другие погодные условия (other) были отмечены в 1,516 случаев.\n",
    "- Ветрено (wind) связано с 444 авариями.\n",
    "\n",
    "__На основе этих результатов можно сделать следующие выводы рекомендации:__\n",
    "- В ясную погоду произошли большинство оварий, что говорит, о там, что другие факторы могут оказать большее влияние на риск аварии.\n",
    "- При вождении в облачную погоду и дождь также необходимо соблюдать повышенную осторожность и соблюдать дистанцию.\n",
    "- В условиях тумана и снегопада водителям следует снизить скорость движения, использовать фары и габариты, чтобы быть видимыми другим участникам дорожного движения.\n"
   ]
  },
  {
   "cell_type": "markdown",
   "id": "45a24dce",
   "metadata": {},
   "source": [
    "### Анализ влияния возраста автомобиля на тип аварий\n",
    "Для более удобного анализа, автомобили были разделены на две категории: \"Новые\" - автомобили возрастом менее или равно 5 лет, и \"Старые\" - автомобили старше 5 лет."
   ]
  },
  {
   "cell_type": "code",
   "execution_count": 420,
   "id": "d0926703",
   "metadata": {},
   "outputs": [
    {
     "data": {
      "text/html": [
       "<div>\n",
       "<style scoped>\n",
       "    .dataframe tbody tr th:only-of-type {\n",
       "        vertical-align: middle;\n",
       "    }\n",
       "\n",
       "    .dataframe tbody tr th {\n",
       "        vertical-align: top;\n",
       "    }\n",
       "\n",
       "    .dataframe thead th {\n",
       "        text-align: right;\n",
       "    }\n",
       "</style>\n",
       "<table border=\"1\" class=\"dataframe\">\n",
       "  <thead>\n",
       "    <tr style=\"text-align: right;\">\n",
       "      <th></th>\n",
       "      <th>vehicle_category</th>\n",
       "      <th>type_of_collision</th>\n",
       "      <th>collision_count</th>\n",
       "    </tr>\n",
       "  </thead>\n",
       "  <tbody>\n",
       "    <tr>\n",
       "      <th>0</th>\n",
       "      <td>Новые автомобили</td>\n",
       "      <td>rear end</td>\n",
       "      <td>210736</td>\n",
       "    </tr>\n",
       "    <tr>\n",
       "      <th>1</th>\n",
       "      <td>Новые автомобили</td>\n",
       "      <td>broadside</td>\n",
       "      <td>143999</td>\n",
       "    </tr>\n",
       "    <tr>\n",
       "      <th>2</th>\n",
       "      <td>Новые автомобили</td>\n",
       "      <td>sideswipe</td>\n",
       "      <td>75521</td>\n",
       "    </tr>\n",
       "    <tr>\n",
       "      <th>3</th>\n",
       "      <td>Новые автомобили</td>\n",
       "      <td>hit object</td>\n",
       "      <td>72027</td>\n",
       "    </tr>\n",
       "    <tr>\n",
       "      <th>4</th>\n",
       "      <td>Новые автомобили</td>\n",
       "      <td>other</td>\n",
       "      <td>41445</td>\n",
       "    </tr>\n",
       "    <tr>\n",
       "      <th>5</th>\n",
       "      <td>Новые автомобили</td>\n",
       "      <td>head-on</td>\n",
       "      <td>30937</td>\n",
       "    </tr>\n",
       "    <tr>\n",
       "      <th>6</th>\n",
       "      <td>Новые автомобили</td>\n",
       "      <td>overturned</td>\n",
       "      <td>18089</td>\n",
       "    </tr>\n",
       "    <tr>\n",
       "      <th>7</th>\n",
       "      <td>Старые автомобили</td>\n",
       "      <td>rear end</td>\n",
       "      <td>151661</td>\n",
       "    </tr>\n",
       "    <tr>\n",
       "      <th>8</th>\n",
       "      <td>Старые автомобили</td>\n",
       "      <td>broadside</td>\n",
       "      <td>98836</td>\n",
       "    </tr>\n",
       "    <tr>\n",
       "      <th>9</th>\n",
       "      <td>Старые автомобили</td>\n",
       "      <td>sideswipe</td>\n",
       "      <td>48290</td>\n",
       "    </tr>\n",
       "    <tr>\n",
       "      <th>10</th>\n",
       "      <td>Старые автомобили</td>\n",
       "      <td>hit object</td>\n",
       "      <td>35385</td>\n",
       "    </tr>\n",
       "    <tr>\n",
       "      <th>11</th>\n",
       "      <td>Старые автомобили</td>\n",
       "      <td>other</td>\n",
       "      <td>28733</td>\n",
       "    </tr>\n",
       "    <tr>\n",
       "      <th>12</th>\n",
       "      <td>Старые автомобили</td>\n",
       "      <td>head-on</td>\n",
       "      <td>21573</td>\n",
       "    </tr>\n",
       "    <tr>\n",
       "      <th>13</th>\n",
       "      <td>Старые автомобили</td>\n",
       "      <td>overturned</td>\n",
       "      <td>12149</td>\n",
       "    </tr>\n",
       "  </tbody>\n",
       "</table>\n",
       "</div>"
      ],
      "text/plain": [
       "     vehicle_category type_of_collision  collision_count\n",
       "0    Новые автомобили          rear end           210736\n",
       "1    Новые автомобили         broadside           143999\n",
       "2    Новые автомобили         sideswipe            75521\n",
       "3    Новые автомобили        hit object            72027\n",
       "4    Новые автомобили             other            41445\n",
       "5    Новые автомобили           head-on            30937\n",
       "6    Новые автомобили        overturned            18089\n",
       "7   Старые автомобили          rear end           151661\n",
       "8   Старые автомобили         broadside            98836\n",
       "9   Старые автомобили         sideswipe            48290\n",
       "10  Старые автомобили        hit object            35385\n",
       "11  Старые автомобили             other            28733\n",
       "12  Старые автомобили           head-on            21573\n",
       "13  Старые автомобили        overturned            12149"
      ]
     },
     "metadata": {},
     "output_type": "display_data"
    }
   ],
   "source": [
    "# sql запрос\n",
    "query = '''\n",
    "SELECT \n",
    "    CASE\n",
    "        WHEN VEHICLE_AGE > 5 THEN 'Старые автомобили'\n",
    "        ELSE 'Новые автомобили'\n",
    "    END AS vehicle_category,\n",
    "    TYPE_OF_COLLISION,\n",
    "    COUNT(*) AS collision_count\n",
    "FROM collisions c\n",
    "     JOIN vehicles v ON c.CASE_ID = v.CASE_ID\n",
    "WHERE VEHICLE_AGE IS NOT NULL AND\n",
    "      TYPE_OF_COLLISION IS NOT NULL\n",
    "GROUP BY vehicle_category, TYPE_OF_COLLISION\n",
    "ORDER BY vehicle_category, collision_count DESC;\n",
    "'''\n",
    "\n",
    "df = request(query)\n",
    "display(df)"
   ]
  },
  {
   "cell_type": "code",
   "execution_count": 421,
   "id": "0fb30cf0",
   "metadata": {},
   "outputs": [
    {
     "data": {
      "image/png": "[encoded data removed]",
      "text/plain": [
       "<Figure size 1000x600 with 1 Axes>"
      ]
     },
     "metadata": {},
     "output_type": "display_data"
    }
   ],
   "source": [
    "# визуолизация результатов\n",
    "plt.figure(figsize=(10, 6))\n",
    "sns.barplot(x='type_of_collision', y='collision_count', hue='vehicle_category', data=df)\n",
    "plt.xlabel('Тип аварии')\n",
    "plt.ylabel('Количество аварий')\n",
    "plt.title('Распределение типов аварий в зависимости от возраста автомобиля')\n",
    "plt.legend(title='Категория автомобиля', loc='upper right')\n",
    "plt.xticks(rotation=45, ha='right')\n",
    "plt.show()"
   ]
  },
  {
   "cell_type": "markdown",
   "id": "a9e11259",
   "metadata": {},
   "source": [
    "- Проведенный анализ показывает, что независимо от возрастной категории автомобилей, самыми частыми типами аварий являются \"rear end\" (столкновение сзади) и \"broadside\" (боковое столкновение). При этом количество столкновений в категории \"Старые автомобили\" ниже, чем в категории \"Новые автомобили\". Однако, это можно объяснить общим количеством старых автомобилей, которые могут быть менее представлены на дорогах по сравнению с новыми автомобилями.\n",
    "\n",
    "- Важно обратить внимание, что типы аварий остаются стабильными независимо от возраста автомобилей, что подчеркивает необходимость предоставления дополнительного внимания на профилактику  по предотвращению столкновений сзади и боковых столкновений, так как они являются наиболее распространенными.\n"
   ]
  },
  {
   "cell_type": "markdown",
   "id": "88e8cb5f",
   "metadata": {},
   "source": [
    "### Анализ частоты ДТП в зависимости от времени суток и состояния дороги."
   ]
  },
  {
   "cell_type": "code",
   "execution_count": 422,
   "id": "e9a55b2d",
   "metadata": {},
   "outputs": [
    {
     "data": {
      "text/html": [
       "<div>\n",
       "<style scoped>\n",
       "    .dataframe tbody tr th:only-of-type {\n",
       "        vertical-align: middle;\n",
       "    }\n",
       "\n",
       "    .dataframe tbody tr th {\n",
       "        vertical-align: top;\n",
       "    }\n",
       "\n",
       "    .dataframe thead th {\n",
       "        text-align: right;\n",
       "    }\n",
       "</style>\n",
       "<table border=\"1\" class=\"dataframe\">\n",
       "  <thead>\n",
       "    <tr style=\"text-align: right;\">\n",
       "      <th></th>\n",
       "      <th>time_of_day</th>\n",
       "      <th>road_surface</th>\n",
       "      <th>collision_count</th>\n",
       "    </tr>\n",
       "  </thead>\n",
       "  <tbody>\n",
       "    <tr>\n",
       "      <th>0</th>\n",
       "      <td>Вечер</td>\n",
       "      <td>dry</td>\n",
       "      <td>212148</td>\n",
       "    </tr>\n",
       "    <tr>\n",
       "      <th>1</th>\n",
       "      <td>Вечер</td>\n",
       "      <td>wet</td>\n",
       "      <td>20743</td>\n",
       "    </tr>\n",
       "    <tr>\n",
       "      <th>2</th>\n",
       "      <td>Вечер</td>\n",
       "      <td>snowy</td>\n",
       "      <td>941</td>\n",
       "    </tr>\n",
       "    <tr>\n",
       "      <th>3</th>\n",
       "      <td>Вечер</td>\n",
       "      <td>slippery</td>\n",
       "      <td>179</td>\n",
       "    </tr>\n",
       "    <tr>\n",
       "      <th>4</th>\n",
       "      <td>День</td>\n",
       "      <td>dry</td>\n",
       "      <td>415081</td>\n",
       "    </tr>\n",
       "    <tr>\n",
       "      <th>5</th>\n",
       "      <td>День</td>\n",
       "      <td>wet</td>\n",
       "      <td>33386</td>\n",
       "    </tr>\n",
       "    <tr>\n",
       "      <th>6</th>\n",
       "      <td>День</td>\n",
       "      <td>snowy</td>\n",
       "      <td>1708</td>\n",
       "    </tr>\n",
       "    <tr>\n",
       "      <th>7</th>\n",
       "      <td>День</td>\n",
       "      <td>slippery</td>\n",
       "      <td>330</td>\n",
       "    </tr>\n",
       "    <tr>\n",
       "      <th>8</th>\n",
       "      <td>Ночь</td>\n",
       "      <td>dry</td>\n",
       "      <td>63079</td>\n",
       "    </tr>\n",
       "    <tr>\n",
       "      <th>9</th>\n",
       "      <td>Ночь</td>\n",
       "      <td>wet</td>\n",
       "      <td>8966</td>\n",
       "    </tr>\n",
       "    <tr>\n",
       "      <th>10</th>\n",
       "      <td>Ночь</td>\n",
       "      <td>snowy</td>\n",
       "      <td>423</td>\n",
       "    </tr>\n",
       "    <tr>\n",
       "      <th>11</th>\n",
       "      <td>Ночь</td>\n",
       "      <td>slippery</td>\n",
       "      <td>114</td>\n",
       "    </tr>\n",
       "    <tr>\n",
       "      <th>12</th>\n",
       "      <td>Утро</td>\n",
       "      <td>dry</td>\n",
       "      <td>225446</td>\n",
       "    </tr>\n",
       "    <tr>\n",
       "      <th>13</th>\n",
       "      <td>Утро</td>\n",
       "      <td>wet</td>\n",
       "      <td>26775</td>\n",
       "    </tr>\n",
       "    <tr>\n",
       "      <th>14</th>\n",
       "      <td>Утро</td>\n",
       "      <td>snowy</td>\n",
       "      <td>1890</td>\n",
       "    </tr>\n",
       "    <tr>\n",
       "      <th>15</th>\n",
       "      <td>Утро</td>\n",
       "      <td>slippery</td>\n",
       "      <td>275</td>\n",
       "    </tr>\n",
       "  </tbody>\n",
       "</table>\n",
       "</div>"
      ],
      "text/plain": [
       "   time_of_day road_surface  collision_count\n",
       "0        Вечер          dry           212148\n",
       "1        Вечер          wet            20743\n",
       "2        Вечер        snowy              941\n",
       "3        Вечер     slippery              179\n",
       "4         День          dry           415081\n",
       "5         День          wet            33386\n",
       "6         День        snowy             1708\n",
       "7         День     slippery              330\n",
       "8         Ночь          dry            63079\n",
       "9         Ночь          wet             8966\n",
       "10        Ночь        snowy              423\n",
       "11        Ночь     slippery              114\n",
       "12        Утро          dry           225446\n",
       "13        Утро          wet            26775\n",
       "14        Утро        snowy             1890\n",
       "15        Утро     slippery              275"
      ]
     },
     "metadata": {},
     "output_type": "display_data"
    }
   ],
   "source": [
    "# sql запрос\n",
    "query = '''\n",
    "SELECT \n",
    "    CASE \n",
    "        WHEN EXTRACT(HOUR FROM collision_time) >= 0 AND EXTRACT(HOUR FROM collision_time) < 6 THEN 'Ночь'\n",
    "        WHEN EXTRACT(HOUR FROM collision_time) >= 6 AND EXTRACT(HOUR FROM collision_time) < 12 THEN 'Утро'\n",
    "        WHEN EXTRACT(HOUR FROM collision_time) >= 12 AND EXTRACT(HOUR FROM collision_time) < 18 THEN 'День'\n",
    "        WHEN EXTRACT(HOUR FROM collision_time) >= 18 AND EXTRACT(HOUR FROM collision_time) < 24 THEN 'Вечер'\n",
    "    END AS time_of_day,\n",
    "    road_surface,\n",
    "    COUNT(*) AS collision_count\n",
    "FROM collisions c\n",
    "     JOIN vehicles v ON c.case_id = v.case_id\n",
    "WHERE road_surface IS NOT NULL AND collision_time IS NOT NULL\n",
    "GROUP BY time_of_day, road_surface\n",
    "ORDER BY time_of_day, collision_count DESC;\n",
    "'''\n",
    "\n",
    "df = request(query)\n",
    "display(df)"
   ]
  },
  {
   "cell_type": "code",
   "execution_count": 423,
   "id": "5fa10728",
   "metadata": {
    "code_folding": [
     4,
     13,
     22,
     31
    ]
   },
   "outputs": [
    {
     "data": {
      "image/png": "[encoded data removed]",
      "text/plain": [
       "<Figure size 1200x800 with 4 Axes>"
      ]
     },
     "metadata": {},
     "output_type": "display_data"
    }
   ],
   "source": [
    "# визуолизация результатов\n",
    "fig, axes = plt.subplots(2, 2, figsize=(12, 8))\n",
    "fig.suptitle('Анализ частоты ДТП в зависимости от времени суток и состояния дороги')\n",
    "\n",
    "sns.barplot(x='time_of_day',\n",
    "            y='collision_count',\n",
    "            data=df[df['road_surface'] == 'dry'],\n",
    "            ax=axes[0, 0],\n",
    "            palette='Blues')\n",
    "axes[0, 0].set_title('Сухая дорога')\n",
    "axes[0, 0].set_xlabel('Время суток')\n",
    "axes[0, 0].set_ylabel('Количество аварий')\n",
    "\n",
    "sns.barplot(x='time_of_day',\n",
    "            y='collision_count',\n",
    "            data=df[df['road_surface'] == 'wet'],\n",
    "            ax=axes[0, 1],\n",
    "            palette='Greens')\n",
    "axes[0, 1].set_title('Мокрая дорога')\n",
    "axes[0, 1].set_xlabel('Время суток')\n",
    "axes[0, 1].set_ylabel('Количество аварий')\n",
    "\n",
    "sns.barplot(x='time_of_day', \n",
    "            y='collision_count', \n",
    "            data=df[df['road_surface'] == 'snowy'], \n",
    "            ax=axes[1, 0], \n",
    "            palette='Oranges')\n",
    "axes[1, 0].set_title('Снежная дорога')\n",
    "axes[1, 0].set_xlabel('Время суток')\n",
    "axes[1, 0].set_ylabel('Количество аварий')\n",
    "\n",
    "sns.barplot(x='time_of_day', \n",
    "            y='collision_count', \n",
    "            data=df[df['road_surface'] == 'slippery'], \n",
    "            ax=axes[1, 1], \n",
    "            palette='Reds')\n",
    "axes[1, 1].set_title('Скользкая дорога')\n",
    "axes[1, 1].set_xlabel('Время суток')\n",
    "axes[1, 1].set_ylabel('Количество аварий')\n",
    "\n",
    "plt.tight_layout()\n",
    "plt.show()"
   ]
  },
  {
   "cell_type": "markdown",
   "id": "302786bc",
   "metadata": {},
   "source": [
    "__Анализ частоты ДТП в зависимости от времени суток и состояния дороги позволил выявить интересные тенденции и сделать следующие выводы:__\n",
    "\n",
    "- Наибольшее количество ДТП происходит на сухой дороге, что можно объяснить тем, что сухая дорога обеспечивает лучшее сцепление между шинами автомобиля и дорожным покрытием. Это может приводить к повышенной скорости движения, большей агрессивному вождению и возможному несоблюдению правил дорожного движения, так как водители чувствуют себя более уверенно на сухой дороге. Также, наличие сухого дорожного покрытия способствует более свободному движению автомобилей, что может привести к увеличению числа ДТП.\n",
    "\n",
    "- С другой стороны, наличие дождя, снега или скользкого дорожного покрытия создает более опасные условия для движения, что заставляет водителей быть более осторожными, снизить скорость и быть более внимательными к дорожной обстановке или совсем отказаться от использования автомобиля. Это может приводить к снижению количества ДТП в условиях плохой погоды.\n",
    "\n",
    "- Вне зависимости от состояния дороги (сухой, мокрый, снежный или скользкий), большинство ДТП происходят утром и днем. Это может быть связано с увеличенным движением транспорта в этот период.\n",
    "\n",
    "- В случае, когда дорога заснежена (снежное состояние), наибольшее количество ДТП происходит именно утром. Это может быть связано с тем, что утром снег еще не успели полностью очистить, и дороги оказываются скользкими и опасными для движения.\n",
    "\n",
    "- Таким образом, данные результаты могут помочь сфокусироваться на участках дорог, которые являются наиболее опасными в зависимости от времени суток и состояния дороги. Это может быть полезной информацией для дальнейшего анализа и разработки модели."
   ]
  },
  {
   "cell_type": "markdown",
   "id": "9badd78d",
   "metadata": {},
   "source": [
    "<div style=\"padding:0px 20px 10px; \n",
    "            color:#004346;\n",
    "            font-size:15px;\n",
    "            display:fill;\n",
    "            text-align:center;\n",
    "            border-radius:20px;\n",
    "            border: 5px double;\n",
    "            border-color:#201E20;\n",
    "            background-color: #E8F1F2;\n",
    "            overflow:hidden;\n",
    "            font-weight:400\"> \n",
    "\n",
    "# Подготовка данных к построению моделей\n",
    "\n",
    "</div>"
   ]
  },
  {
   "cell_type": "markdown",
   "id": "7bbe092a",
   "metadata": {},
   "source": [
    "Подготовим набор данных на основе первичного предположения заказчика:\n",
    "\n",
    "- Выберем только те случаи, где виновником является автомобиль (car).\n",
    "- Учтем случаи, когда происшествие привело к значительным повреждениям автомобиля у любого из участников, за исключением типа SCRATCH (царапина).\n",
    "- Для построения модели мы ограничимся данными только за 2012 год, поскольку они являются наиболее актуальными."
   ]
  },
  {
   "cell_type": "code",
   "execution_count": 424,
   "id": "aa84296a",
   "metadata": {},
   "outputs": [
    {
     "data": {
      "text/html": [
       "<div>\n",
       "<style scoped>\n",
       "    .dataframe tbody tr th:only-of-type {\n",
       "        vertical-align: middle;\n",
       "    }\n",
       "\n",
       "    .dataframe tbody tr th {\n",
       "        vertical-align: top;\n",
       "    }\n",
       "\n",
       "    .dataframe thead th {\n",
       "        text-align: right;\n",
       "    }\n",
       "</style>\n",
       "<table border=\"1\" class=\"dataframe\">\n",
       "  <thead>\n",
       "    <tr style=\"text-align: right;\">\n",
       "      <th></th>\n",
       "      <th>id</th>\n",
       "      <th>case_id</th>\n",
       "      <th>party_number</th>\n",
       "      <th>party_type</th>\n",
       "      <th>at_fault</th>\n",
       "      <th>insurance_premium</th>\n",
       "      <th>party_sobriety</th>\n",
       "      <th>party_drug_physical</th>\n",
       "      <th>cellphone_in_use</th>\n",
       "      <th>id</th>\n",
       "      <th>...</th>\n",
       "      <th>primary_collision_factor</th>\n",
       "      <th>pcf_violation_category</th>\n",
       "      <th>type_of_collision</th>\n",
       "      <th>motor_vehicle_involved_with</th>\n",
       "      <th>road_surface</th>\n",
       "      <th>road_condition_1</th>\n",
       "      <th>lighting</th>\n",
       "      <th>control_device</th>\n",
       "      <th>collision_date</th>\n",
       "      <th>collision_time</th>\n",
       "    </tr>\n",
       "  </thead>\n",
       "  <tbody>\n",
       "    <tr>\n",
       "      <th>0</th>\n",
       "      <td>2699537</td>\n",
       "      <td>5623382</td>\n",
       "      <td>1</td>\n",
       "      <td>car</td>\n",
       "      <td>1</td>\n",
       "      <td>30.0</td>\n",
       "      <td>had not been drinking</td>\n",
       "      <td>None</td>\n",
       "      <td>0.0</td>\n",
       "      <td>1486578</td>\n",
       "      <td>...</td>\n",
       "      <td>vehicle code violation</td>\n",
       "      <td>improper turning</td>\n",
       "      <td>head-on</td>\n",
       "      <td>parked motor vehicle</td>\n",
       "      <td>dry</td>\n",
       "      <td>normal</td>\n",
       "      <td>dark with no street lights</td>\n",
       "      <td>none</td>\n",
       "      <td>2012-05-13</td>\n",
       "      <td>00:30:00</td>\n",
       "    </tr>\n",
       "    <tr>\n",
       "      <th>1</th>\n",
       "      <td>2706818</td>\n",
       "      <td>5627292</td>\n",
       "      <td>1</td>\n",
       "      <td>car</td>\n",
       "      <td>1</td>\n",
       "      <td>25.0</td>\n",
       "      <td>had not been drinking</td>\n",
       "      <td>None</td>\n",
       "      <td>0.0</td>\n",
       "      <td>1490641</td>\n",
       "      <td>...</td>\n",
       "      <td>vehicle code violation</td>\n",
       "      <td>automobile right of way</td>\n",
       "      <td>broadside</td>\n",
       "      <td>other motor vehicle</td>\n",
       "      <td>wet</td>\n",
       "      <td>normal</td>\n",
       "      <td>daylight</td>\n",
       "      <td>none</td>\n",
       "      <td>2012-04-12</td>\n",
       "      <td>09:30:00</td>\n",
       "    </tr>\n",
       "    <tr>\n",
       "      <th>2</th>\n",
       "      <td>2418791</td>\n",
       "      <td>5461517</td>\n",
       "      <td>1</td>\n",
       "      <td>car</td>\n",
       "      <td>1</td>\n",
       "      <td>72.0</td>\n",
       "      <td>had not been drinking</td>\n",
       "      <td>None</td>\n",
       "      <td>0.0</td>\n",
       "      <td>1332991</td>\n",
       "      <td>...</td>\n",
       "      <td>vehicle code violation</td>\n",
       "      <td>speeding</td>\n",
       "      <td>rear end</td>\n",
       "      <td>other motor vehicle</td>\n",
       "      <td>dry</td>\n",
       "      <td>normal</td>\n",
       "      <td>daylight</td>\n",
       "      <td>none</td>\n",
       "      <td>2012-01-25</td>\n",
       "      <td>09:05:00</td>\n",
       "    </tr>\n",
       "    <tr>\n",
       "      <th>3</th>\n",
       "      <td>2426030</td>\n",
       "      <td>5465357</td>\n",
       "      <td>1</td>\n",
       "      <td>car</td>\n",
       "      <td>1</td>\n",
       "      <td>19.0</td>\n",
       "      <td>had not been drinking</td>\n",
       "      <td>None</td>\n",
       "      <td>0.0</td>\n",
       "      <td>1336907</td>\n",
       "      <td>...</td>\n",
       "      <td>vehicle code violation</td>\n",
       "      <td>automobile right of way</td>\n",
       "      <td>broadside</td>\n",
       "      <td>other motor vehicle</td>\n",
       "      <td>dry</td>\n",
       "      <td>normal</td>\n",
       "      <td>dark with street lights</td>\n",
       "      <td>functioning</td>\n",
       "      <td>2012-01-08</td>\n",
       "      <td>19:44:00</td>\n",
       "    </tr>\n",
       "    <tr>\n",
       "      <th>4</th>\n",
       "      <td>2429694</td>\n",
       "      <td>5467320</td>\n",
       "      <td>1</td>\n",
       "      <td>car</td>\n",
       "      <td>1</td>\n",
       "      <td>60.0</td>\n",
       "      <td>had not been drinking</td>\n",
       "      <td>None</td>\n",
       "      <td>0.0</td>\n",
       "      <td>1338911</td>\n",
       "      <td>...</td>\n",
       "      <td>vehicle code violation</td>\n",
       "      <td>speeding</td>\n",
       "      <td>rear end</td>\n",
       "      <td>other motor vehicle</td>\n",
       "      <td>dry</td>\n",
       "      <td>normal</td>\n",
       "      <td>daylight</td>\n",
       "      <td>none</td>\n",
       "      <td>2012-01-08</td>\n",
       "      <td>12:45:00</td>\n",
       "    </tr>\n",
       "  </tbody>\n",
       "</table>\n",
       "<p>5 rows × 35 columns</p>\n",
       "</div>"
      ],
      "text/plain": [
       "        id  case_id  party_number party_type  at_fault  insurance_premium  \\\n",
       "0  2699537  5623382             1        car         1               30.0   \n",
       "1  2706818  5627292             1        car         1               25.0   \n",
       "2  2418791  5461517             1        car         1               72.0   \n",
       "3  2426030  5465357             1        car         1               19.0   \n",
       "4  2429694  5467320             1        car         1               60.0   \n",
       "\n",
       "          party_sobriety party_drug_physical  cellphone_in_use       id  ...  \\\n",
       "0  had not been drinking                None               0.0  1486578  ...   \n",
       "1  had not been drinking                None               0.0  1490641  ...   \n",
       "2  had not been drinking                None               0.0  1332991  ...   \n",
       "3  had not been drinking                None               0.0  1336907  ...   \n",
       "4  had not been drinking                None               0.0  1338911  ...   \n",
       "\n",
       "  primary_collision_factor   pcf_violation_category type_of_collision  \\\n",
       "0   vehicle code violation         improper turning           head-on   \n",
       "1   vehicle code violation  automobile right of way         broadside   \n",
       "2   vehicle code violation                 speeding          rear end   \n",
       "3   vehicle code violation  automobile right of way         broadside   \n",
       "4   vehicle code violation                 speeding          rear end   \n",
       "\n",
       "  motor_vehicle_involved_with  road_surface road_condition_1  \\\n",
       "0        parked motor vehicle           dry           normal   \n",
       "1         other motor vehicle           wet           normal   \n",
       "2         other motor vehicle           dry           normal   \n",
       "3         other motor vehicle           dry           normal   \n",
       "4         other motor vehicle           dry           normal   \n",
       "\n",
       "                     lighting control_device  collision_date collision_time  \n",
       "0  dark with no street lights           none      2012-05-13       00:30:00  \n",
       "1                    daylight           none      2012-04-12       09:30:00  \n",
       "2                    daylight           none      2012-01-25       09:05:00  \n",
       "3     dark with street lights    functioning      2012-01-08       19:44:00  \n",
       "4                    daylight           none      2012-01-08       12:45:00  \n",
       "\n",
       "[5 rows x 35 columns]"
      ]
     },
     "metadata": {},
     "output_type": "display_data"
    }
   ],
   "source": [
    "# sql запрос\n",
    "query = '''\n",
    "SELECT *\n",
    "FROM parties p INNER JOIN\n",
    "     vehicles v ON p.case_id = v.case_id AND p.party_number = v.party_number LEFT JOIN\n",
    "     collisions c ON p.case_id = c.case_id\n",
    "WHERE p.case_id IN (SELECT case_id\n",
    "                    FROM parties\n",
    "                    WHERE PARTY_TYPE = 'car' AND\n",
    "                          AT_FAULT = 1) AND\n",
    "      c.COLLISION_DAMAGE NOT IN ('SCRATCH') AND\n",
    "      EXTRACT(YEAR FROM c.COLLISION_DATE) = 2012;\n",
    "\n",
    "'''\n",
    "\n",
    "df = request(query)\n",
    "display(df.head())\n",
    "\n",
    "# закрываем курсор и соединение\n",
    "cursor.close()\n",
    "connection.close()"
   ]
  },
  {
   "cell_type": "markdown",
   "id": "f856f1c0",
   "metadata": {},
   "source": [
    "## Первичный отбор факторов, необходимых для построения модели\n",
    "\n",
    "__Признаки не подходящие для дальнейшего анализа:__\n",
    "- Признаки `id`, `case_id` можно заменить уникальным идентификатором датафрейма.\n",
    "- `party_number` - Номер участника происшествия: не несет информации для анализа, а используется для структурирования базы данных, его так же можно удалить.\n",
    "- `party_type` - Тип участника происшествия: содержит значения: 'car', 'building', 'road signs', 'other', 'road bumper', None. Необходимо оставить записи только с участником 'car', остальные записи не несут дополнительной информации о месте происшествия, тк она будет дублироваться соответствующей записью с машиной. Затем данный признак так же следует удалить.\n",
    "- `county_city_location` - Номер географических районов, где произошло ДТП: содержит много уникальных значений и не будет использовано в построении модели, тк это приведет к уменьшению обобщающей способности.\n",
    "\n",
    "Следующие признаки, так же малозначемы для построения Модели, так как они определяются уже после ДТП и при прогнозировании не доступны:\n",
    "- `party_count` - Количество участников\n",
    "- `primary_collision_factor` - Основной фактор аварии\n",
    "- `pcf_violation_category` - Категория нарушения\n",
    "- `type_of_collision` - Тип аварии\n",
    "- `motor_vehicle_involved_with` - Дополнительные участники ДТП\n",
    "- `intersection` - Является ли место происшествие перекрёстком\n",
    "- `collision_damage` - Серьёзность происшествия\n",
    "\n",
    "__Признаки которые могут оказать косвенное влияние:__\n",
    "- `location_type` - Тип дороги\n",
    "- `direction` - Направление движения\n",
    "- `county_location` - Названия географических районов, где произошло ДТП\n",
    "- `vehicle_transmission` - Тип КПП\n",
    "- `vehicle_type` - Тип кузова\n",
    "- `insurance_premium` - Сумма страховки: возможно, при наличии страховки, водитель чувствует излишнюю уверенности и это может повлиять на его манеру вождения, на данный момент этот признак следует оставить.\n",
    "- `distance` - Расстояние от главной дороги (метры)\n",
    "- `cellphone_in_use` Наличие - Телефона в автомобиле (возможности разговаривать по громкой связи)\n",
    "\n",
    "__Важные признаки:__\n",
    "- `party_sobriety` - Трезвость участника\n",
    "- `party_drug_physical` - Состояние участника\n",
    "- `vehicle_age` - Возраст автомобиля (в годах)\n",
    "- `road_surface` - Состояние дороги\n",
    "- `road_condition_1` - Дорожное состояние\n",
    "- `lighting` - Освещение\n",
    "- `control_device` - Работоспособность устройств управления\n",
    "- `collision_date` - Дата происшествия\n",
    "- `collision_time` - Время происшествия\n",
    "- `weather_1` - Погода\n",
    "\n",
    "- `at_fault` - Виновность участника: является целевым признаком"
   ]
  },
  {
   "cell_type": "markdown",
   "id": "4d83b080",
   "metadata": {},
   "source": [
    "__Первичная подготовка данных__"
   ]
  },
  {
   "cell_type": "code",
   "execution_count": 425,
   "id": "2fed7deb",
   "metadata": {},
   "outputs": [],
   "source": [
    "# фильтрайия по типу участника происшествия \n",
    "df = df[df['party_type']=='car']\n",
    "# удаление малозначемых признаков\n",
    "df = df.drop(['id', 'case_id', 'party_number', 'party_type', 'county_city_location', \n",
    "             'party_count', 'primary_collision_factor', 'pcf_violation_category', 'type_of_collision', \n",
    "             'motor_vehicle_involved_with', 'intersection', 'collision_damage'], axis=1)\n",
    "# добавление `index`\n",
    "df = df.reset_index()"
   ]
  },
  {
   "cell_type": "markdown",
   "id": "a542fd63",
   "metadata": {},
   "source": [
    "<div style=\"padding:0px 20px 10px; \n",
    "            color:#004346;\n",
    "            font-size:15px;\n",
    "            display:fill;\n",
    "            text-align:center;\n",
    "            border-radius:20px;\n",
    "            border: 5px double;\n",
    "            border-color:#201E20;\n",
    "            background-color: #E8F1F2;\n",
    "            overflow:hidden;\n",
    "            font-weight:400\"> \n",
    "\n",
    "# Предобработка и исследовательский анализ данных\n",
    "\n",
    "## Общая информация\n",
    "\n",
    "</div>"
   ]
  },
  {
   "cell_type": "code",
   "execution_count": 426,
   "id": "21331bdf",
   "metadata": {},
   "outputs": [
    {
     "name": "stdout",
     "output_type": "stream",
     "text": [
      "<class 'pandas.core.frame.DataFrame'>\n",
      "RangeIndex: 96966 entries, 0 to 96965\n",
      "Data columns (total 20 columns):\n",
      " #   Column                Non-Null Count  Dtype  \n",
      "---  ------                --------------  -----  \n",
      " 0   index                 96966 non-null  int64  \n",
      " 1   at_fault              96966 non-null  int64  \n",
      " 2   insurance_premium     96214 non-null  float64\n",
      " 3   party_sobriety        95570 non-null  object \n",
      " 4   party_drug_physical   3942 non-null   object \n",
      " 5   cellphone_in_use      87913 non-null  float64\n",
      " 6   vehicle_type          96966 non-null  object \n",
      " 7   vehicle_transmission  95199 non-null  object \n",
      " 8   vehicle_age           94545 non-null  float64\n",
      " 9   county_location       96966 non-null  object \n",
      " 10  distance              96966 non-null  float64\n",
      " 11  direction             71771 non-null  object \n",
      " 12  weather_1             96725 non-null  object \n",
      " 13  location_type         41203 non-null  object \n",
      " 14  road_surface          96268 non-null  object \n",
      " 15  road_condition_1      96505 non-null  object \n",
      " 16  lighting              96696 non-null  object \n",
      " 17  control_device        96555 non-null  object \n",
      " 18  collision_date        96966 non-null  object \n",
      " 19  collision_time        96860 non-null  object \n",
      "dtypes: float64(4), int64(2), object(14)\n",
      "memory usage: 14.8+ MB\n"
     ]
    },
    {
     "data": {
      "text/plain": [
       "None"
      ]
     },
     "metadata": {},
     "output_type": "display_data"
    }
   ],
   "source": [
    "display(df.info())"
   ]
  },
  {
   "cell_type": "code",
   "execution_count": 428,
   "id": "ec663505",
   "metadata": {},
   "outputs": [],
   "source": [
    "# функция для проверки пропусков\n",
    "def f_isna(x):\n",
    "    print(f\"Количество пропусков в столбце {x}: {df[x].isna().sum()/len(df):.2%}\")\n",
    "    \n",
    "# функция для проверки линейной зависимости с целевым признаком\n",
    "def f_corr(x):\n",
    "    print(f\"Линейная связь с целевым признаком: {df[['at_fault', x]].corr().iloc()[0][1]}\")\n",
    "\n",
    "# функция для проверки нелинейной зависимости phik с целевым признаком\n",
    "def f_phik(x):\n",
    "    phik = df[['at_fault', x]].phik_matrix().iloc()[0][1]\n",
    "    print(f\"Phik: {phik}\")"
   ]
  },
  {
   "cell_type": "markdown",
   "id": "97c18cb7",
   "metadata": {},
   "source": [
    "- Присутствуют пропуски, обработку которых проведем в следующих шагах, так как нет единой стратегии их заполнения."
   ]
  },
  {
   "cell_type": "markdown",
   "id": "6b0304ef",
   "metadata": {},
   "source": [
    "<div style=\"padding:0px 20px 10px; \n",
    "            color:#004346;\n",
    "            font-size:15px;\n",
    "            display:fill;\n",
    "            text-align:center;\n",
    "            border-radius:20px;\n",
    "            border: 5px double;\n",
    "            border-color:#201E20;\n",
    "            background-color: #E8F1F2;\n",
    "            overflow:hidden;\n",
    "            font-weight:400\"> \n",
    "\n",
    "## Анализ и обработка числовых признаков\n",
    "    \n",
    "</div>"
   ]
  },
  {
   "cell_type": "code",
   "execution_count": 429,
   "id": "239c8c56",
   "metadata": {},
   "outputs": [
    {
     "data": {
      "text/html": [
       "<div>\n",
       "<style scoped>\n",
       "    .dataframe tbody tr th:only-of-type {\n",
       "        vertical-align: middle;\n",
       "    }\n",
       "\n",
       "    .dataframe tbody tr th {\n",
       "        vertical-align: top;\n",
       "    }\n",
       "\n",
       "    .dataframe thead th {\n",
       "        text-align: right;\n",
       "    }\n",
       "</style>\n",
       "<table border=\"1\" class=\"dataframe\">\n",
       "  <thead>\n",
       "    <tr style=\"text-align: right;\">\n",
       "      <th></th>\n",
       "      <th>count</th>\n",
       "      <th>mean</th>\n",
       "      <th>std</th>\n",
       "      <th>min</th>\n",
       "      <th>25%</th>\n",
       "      <th>50%</th>\n",
       "      <th>75%</th>\n",
       "      <th>max</th>\n",
       "    </tr>\n",
       "  </thead>\n",
       "  <tbody>\n",
       "    <tr>\n",
       "      <th>at_fault</th>\n",
       "      <td>96966.0</td>\n",
       "      <td>0.475734</td>\n",
       "      <td>0.499413</td>\n",
       "      <td>0.0</td>\n",
       "      <td>0.0</td>\n",
       "      <td>0.0</td>\n",
       "      <td>1.0</td>\n",
       "      <td>1.0</td>\n",
       "    </tr>\n",
       "    <tr>\n",
       "      <th>insurance_premium</th>\n",
       "      <td>96214.0</td>\n",
       "      <td>38.530370</td>\n",
       "      <td>16.248737</td>\n",
       "      <td>0.0</td>\n",
       "      <td>25.0</td>\n",
       "      <td>36.0</td>\n",
       "      <td>50.0</td>\n",
       "      <td>104.0</td>\n",
       "    </tr>\n",
       "    <tr>\n",
       "      <th>cellphone_in_use</th>\n",
       "      <td>87913.0</td>\n",
       "      <td>0.020714</td>\n",
       "      <td>0.142425</td>\n",
       "      <td>0.0</td>\n",
       "      <td>0.0</td>\n",
       "      <td>0.0</td>\n",
       "      <td>0.0</td>\n",
       "      <td>1.0</td>\n",
       "    </tr>\n",
       "    <tr>\n",
       "      <th>vehicle_age</th>\n",
       "      <td>94545.0</td>\n",
       "      <td>5.206071</td>\n",
       "      <td>3.120605</td>\n",
       "      <td>0.0</td>\n",
       "      <td>3.0</td>\n",
       "      <td>5.0</td>\n",
       "      <td>7.0</td>\n",
       "      <td>161.0</td>\n",
       "    </tr>\n",
       "    <tr>\n",
       "      <th>distance</th>\n",
       "      <td>96966.0</td>\n",
       "      <td>701.654741</td>\n",
       "      <td>5668.534327</td>\n",
       "      <td>0.0</td>\n",
       "      <td>0.0</td>\n",
       "      <td>100.0</td>\n",
       "      <td>500.0</td>\n",
       "      <td>1584000.0</td>\n",
       "    </tr>\n",
       "  </tbody>\n",
       "</table>\n",
       "</div>"
      ],
      "text/plain": [
       "                     count        mean          std  min   25%    50%    75%  \\\n",
       "at_fault           96966.0    0.475734     0.499413  0.0   0.0    0.0    1.0   \n",
       "insurance_premium  96214.0   38.530370    16.248737  0.0  25.0   36.0   50.0   \n",
       "cellphone_in_use   87913.0    0.020714     0.142425  0.0   0.0    0.0    0.0   \n",
       "vehicle_age        94545.0    5.206071     3.120605  0.0   3.0    5.0    7.0   \n",
       "distance           96966.0  701.654741  5668.534327  0.0   0.0  100.0  500.0   \n",
       "\n",
       "                         max  \n",
       "at_fault                 1.0  \n",
       "insurance_premium      104.0  \n",
       "cellphone_in_use         1.0  \n",
       "vehicle_age            161.0  \n",
       "distance           1584000.0  "
      ]
     },
     "execution_count": 429,
     "metadata": {},
     "output_type": "execute_result"
    }
   ],
   "source": [
    "df[['at_fault', 'insurance_premium', 'cellphone_in_use', 'vehicle_age', 'distance']].describe().T"
   ]
  },
  {
   "cell_type": "markdown",
   "id": "64d1c42d",
   "metadata": {},
   "source": [
    "### at_fault - виновность участника ДТП\n",
    "Данный признак является целевым."
   ]
  },
  {
   "cell_type": "code",
   "execution_count": 430,
   "id": "6e4d2e40",
   "metadata": {},
   "outputs": [
    {
     "name": "stdout",
     "output_type": "stream",
     "text": [
      "Количество пропусков в столбце at_fault: 0.00%\n"
     ]
    }
   ],
   "source": [
    "f_isna('at_fault')"
   ]
  },
  {
   "cell_type": "code",
   "execution_count": 431,
   "id": "4511b1ca",
   "metadata": {},
   "outputs": [
    {
     "data": {
      "image/png": "[encoded data removed]",
      "text/plain": [
       "<Figure size 640x480 with 1 Axes>"
      ]
     },
     "metadata": {},
     "output_type": "display_data"
    }
   ],
   "source": [
    "# баланс целевого признака\n",
    "data = [df['at_fault'].value_counts()[0], df['at_fault'].value_counts()[1]]\n",
    "labels = ['Пострадавший', 'Виновник']\n",
    "\n",
    "colors = sns.color_palette('pastel')[ 0:5 ]\n",
    "\n",
    "plt.pie(data, labels = labels, colors = colors, autopct='%.0f%%')\n",
    "plt.show()"
   ]
  },
  {
   "cell_type": "markdown",
   "id": "e1e244bf",
   "metadata": {},
   "source": [
    "- Пропуски отсутствуют.\n",
    "- Баланс целевого признака хороший, 52% и 48%"
   ]
  },
  {
   "cell_type": "markdown",
   "id": "702a897b",
   "metadata": {},
   "source": [
    "### insurance_premium - сумма страховки"
   ]
  },
  {
   "cell_type": "code",
   "execution_count": 432,
   "id": "45c2c278",
   "metadata": {},
   "outputs": [
    {
     "name": "stdout",
     "output_type": "stream",
     "text": [
      "Количество пропусков в столбце insurance_premium: 0.78%\n",
      "Линейная связь с целевым признаком: -0.12657700352827392\n",
      "interval columns not set, guessing: ['at_fault', 'insurance_premium']\n",
      "Phik: 0.26655673497640947\n"
     ]
    }
   ],
   "source": [
    "# статистика\n",
    "f_isna('insurance_premium')\n",
    "f_corr('insurance_premium')\n",
    "f_phik('insurance_premium')"
   ]
  },
  {
   "cell_type": "code",
   "execution_count": 433,
   "id": "37bafde3",
   "metadata": {},
   "outputs": [
    {
     "data": {
      "image/png": "[encoded data removed]",
      "text/plain": [
       "<Figure size 800x300 with 1 Axes>"
      ]
     },
     "metadata": {},
     "output_type": "display_data"
    }
   ],
   "source": [
    "# визуализация количества записей относительно суммы страховки\n",
    "plt.figure(figsize=(8,3))\n",
    "plt.hist(df['insurance_premium'], bins=40, color='teal')\n",
    "plt.grid(True)\n",
    "plt.title('Количество записей относительно суммы страховки')\n",
    "plt.xlabel('Сумма страховки', fontsize=12)\n",
    "plt.ylabel('количество записей', fontsize=12)\n",
    "\n",
    "plt.show()"
   ]
  },
  {
   "cell_type": "markdown",
   "id": "f476f90c",
   "metadata": {},
   "source": [
    "В случае отсутствия данных в данном признаке, мы заменим пропуски на значение 0, поскольку это может указывать на отсутствие страховки у соответствующего участника."
   ]
  },
  {
   "cell_type": "code",
   "execution_count": 434,
   "id": "6998f986",
   "metadata": {},
   "outputs": [],
   "source": [
    "df['insurance_premium'] = df['insurance_premium'].fillna(0)"
   ]
  },
  {
   "cell_type": "code",
   "execution_count": 435,
   "id": "69dd9501",
   "metadata": {},
   "outputs": [
    {
     "name": "stdout",
     "output_type": "stream",
     "text": [
      "Количество пропусков в столбце insurance_premium: 0.00%\n",
      "Линейная связь с целевым признаком: -0.13423239526839287\n",
      "interval columns not set, guessing: ['at_fault', 'insurance_premium']\n",
      "Phik: 0.2738341854198687\n"
     ]
    }
   ],
   "source": [
    "# обновленная статистика\n",
    "f_isna('insurance_premium')\n",
    "f_corr('insurance_premium')\n",
    "f_phik('insurance_premium')"
   ]
  },
  {
   "cell_type": "markdown",
   "id": "800b5301",
   "metadata": {},
   "source": [
    "- Пропуски заполнены.\n",
    "- После заполнения пропусков, связь данного признака с целевым усилился."
   ]
  },
  {
   "cell_type": "markdown",
   "id": "6492b52b",
   "metadata": {},
   "source": [
    "### cellphone_in_use -  наличие телефона в автомобиле"
   ]
  },
  {
   "cell_type": "code",
   "execution_count": 436,
   "id": "2ad31262",
   "metadata": {
    "code_folding": []
   },
   "outputs": [
    {
     "name": "stdout",
     "output_type": "stream",
     "text": [
      "Количество пропусков в столбце cellphone_in_use: 9.34%\n",
      "Линейная связь с целевым признаком: 0.01418019212337493\n",
      "interval columns not set, guessing: ['at_fault', 'cellphone_in_use']\n",
      "Phik: 0.021504475537408408\n"
     ]
    }
   ],
   "source": [
    "# статистика\n",
    "f_isna('cellphone_in_use')\n",
    "f_corr('cellphone_in_use')\n",
    "f_phik('cellphone_in_use')"
   ]
  },
  {
   "cell_type": "markdown",
   "id": "5e5f9ada",
   "metadata": {},
   "source": [
    "- Связь данного признака с целевым переменным является слабой.\n",
    "- Следует учесть, что в настоящее время большинство людей используют смартфоны, что делает данный признак менее актуальным для исследования. Рекомендуется исключить данный признак из анализа и построения моделей."
   ]
  },
  {
   "cell_type": "code",
   "execution_count": 437,
   "id": "402a09e6",
   "metadata": {},
   "outputs": [],
   "source": [
    "df = df.drop('cellphone_in_use', axis=1)"
   ]
  },
  {
   "cell_type": "markdown",
   "id": "bcb3f2c6",
   "metadata": {},
   "source": [
    "- Данный признак не имеет репрезентативной силы.\n",
    "- Было принято решение исключить данный признак из дальнейшего анализа."
   ]
  },
  {
   "cell_type": "markdown",
   "id": "37ba78e0",
   "metadata": {},
   "source": [
    "#### vehicle_age - возраст автомобиля (в годах)"
   ]
  },
  {
   "cell_type": "code",
   "execution_count": 438,
   "id": "fef8b779",
   "metadata": {},
   "outputs": [
    {
     "name": "stdout",
     "output_type": "stream",
     "text": [
      "Количество пропусков в столбце vehicle_age: 2.50%\n"
     ]
    }
   ],
   "source": [
    "# пропуски\n",
    "f_isna('vehicle_age')"
   ]
  },
  {
   "cell_type": "markdown",
   "id": "1384046d",
   "metadata": {},
   "source": [
    "Данные о возрасте автомобилей невозможно восстановить на основе остальных данных, то разумным решением будет исключить записи с пропущенными значениями возраста из анализа."
   ]
  },
  {
   "cell_type": "code",
   "execution_count": 439,
   "id": "1bf95832",
   "metadata": {},
   "outputs": [],
   "source": [
    "# обработка пропусков\n",
    "df = df.dropna(subset=['vehicle_age']).copy()"
   ]
  },
  {
   "cell_type": "code",
   "execution_count": 440,
   "id": "713c887b",
   "metadata": {},
   "outputs": [
    {
     "data": {
      "image/png": "[encoded data removed]",
      "text/plain": [
       "<Figure size 800x300 with 1 Axes>"
      ]
     },
     "metadata": {},
     "output_type": "display_data"
    }
   ],
   "source": [
    "# boxplot для признака vehicle_age\n",
    "plt.figure(figsize=(8,3))\n",
    "plt.boxplot(df['vehicle_age'], vert=False, boxprops=dict(color='skyblue'), whiskerprops=dict(color='blue'))\n",
    "plt.grid(True)\n",
    "plt.title('Возраст автомобилей')\n",
    "plt.show()"
   ]
  },
  {
   "cell_type": "markdown",
   "id": "24127c16",
   "metadata": {},
   "source": [
    "Рекомендуется ограничить максимальный возраст автомобилей, исходя из значений 25-го и 75-го квантилей, чтобы исключить аномальные значения."
   ]
  },
  {
   "cell_type": "code",
   "execution_count": 441,
   "id": "4929f389",
   "metadata": {},
   "outputs": [
    {
     "name": "stdout",
     "output_type": "stream",
     "text": [
      "Порог аномальных значений: 17 лет\n"
     ]
    }
   ],
   "source": [
    "# рассчет порога аномальных значений\n",
    "q1 = df['vehicle_age'].quantile(0.25)\n",
    "q3 = df['vehicle_age'].quantile(0.75)\n",
    "print(f'Порог аномальных значений: {int(q3+2.5*(q3-q1))} лет')"
   ]
  },
  {
   "cell_type": "code",
   "execution_count": 442,
   "id": "5a760734",
   "metadata": {},
   "outputs": [],
   "source": [
    "df = df[df['vehicle_age']<=(q3+2.5*(q3-q1))]"
   ]
  },
  {
   "cell_type": "code",
   "execution_count": 443,
   "id": "817136ca",
   "metadata": {},
   "outputs": [
    {
     "name": "stdout",
     "output_type": "stream",
     "text": [
      "Линейная связь с целевым признаком: -0.09687363531102337\n",
      "interval columns not set, guessing: ['at_fault', 'vehicle_age']\n",
      "Phik: 0.22307408419985225\n"
     ]
    }
   ],
   "source": [
    "# обновленная статистика\n",
    "f_corr('vehicle_age')\n",
    "f_phik('vehicle_age')"
   ]
  },
  {
   "cell_type": "markdown",
   "id": "2d32fb08",
   "metadata": {},
   "source": [
    "- Обработаны пропуски и аномальные значения.\n",
    "- Присутствует связь данного признака с целевым."
   ]
  },
  {
   "cell_type": "markdown",
   "id": "c7d4305b",
   "metadata": {},
   "source": [
    "### distance - расстояние от главной дороги"
   ]
  },
  {
   "cell_type": "code",
   "execution_count": 444,
   "id": "d8716dde",
   "metadata": {},
   "outputs": [
    {
     "name": "stdout",
     "output_type": "stream",
     "text": [
      "Количество пропусков в столбце distance: 0.00%\n",
      "Линейная связь с целевым признаком: 0.04048321671376502\n",
      "interval columns not set, guessing: ['at_fault', 'distance']\n",
      "Phik: 0.0008939222252192158\n"
     ]
    }
   ],
   "source": [
    "# статистика\n",
    "f_isna('distance')\n",
    "f_corr('distance')\n",
    "f_phik('distance')"
   ]
  },
  {
   "cell_type": "markdown",
   "id": "872a892c",
   "metadata": {},
   "source": [
    "Связь данного признака с целевым переменным является слабой. Рекомендуется исключить данный признак из анализа и построения моделей."
   ]
  },
  {
   "cell_type": "code",
   "execution_count": 445,
   "id": "ea2a0411",
   "metadata": {},
   "outputs": [],
   "source": [
    "df = df.drop('distance', axis=1).copy()"
   ]
  },
  {
   "cell_type": "markdown",
   "id": "3835e8a5",
   "metadata": {},
   "source": [
    "- Данный признак не имеет репрезентативной силы.\n",
    "- Было принято решение исключить данный признак из дальнейшего анализа."
   ]
  },
  {
   "cell_type": "markdown",
   "id": "812cff14",
   "metadata": {},
   "source": [
    "<div style=\"padding:0px 20px 10px; \n",
    "            color:#004346;\n",
    "            font-size:15px;\n",
    "            display:fill;\n",
    "            text-align:center;\n",
    "            border-radius:20px;\n",
    "            border: 5px double;\n",
    "            border-color:#201E20;\n",
    "            background-color: #E8F1F2;\n",
    "            overflow:hidden;\n",
    "            font-weight:400\"> \n",
    "\n",
    "## Анализ и обработка категориальные признаков\n",
    "    \n",
    "</div>"
   ]
  },
  {
   "cell_type": "code",
   "execution_count": 446,
   "id": "c0cbef0f",
   "metadata": {},
   "outputs": [
    {
     "data": {
      "text/html": [
       "<div>\n",
       "<style scoped>\n",
       "    .dataframe tbody tr th:only-of-type {\n",
       "        vertical-align: middle;\n",
       "    }\n",
       "\n",
       "    .dataframe tbody tr th {\n",
       "        vertical-align: top;\n",
       "    }\n",
       "\n",
       "    .dataframe thead th {\n",
       "        text-align: right;\n",
       "    }\n",
       "</style>\n",
       "<table border=\"1\" class=\"dataframe\">\n",
       "  <thead>\n",
       "    <tr style=\"text-align: right;\">\n",
       "      <th></th>\n",
       "      <th>count</th>\n",
       "      <th>unique</th>\n",
       "      <th>top</th>\n",
       "      <th>freq</th>\n",
       "    </tr>\n",
       "  </thead>\n",
       "  <tbody>\n",
       "    <tr>\n",
       "      <th>party_sobriety</th>\n",
       "      <td>93190</td>\n",
       "      <td>6</td>\n",
       "      <td>had not been drinking</td>\n",
       "      <td>84819</td>\n",
       "    </tr>\n",
       "    <tr>\n",
       "      <th>party_drug_physical</th>\n",
       "      <td>3733</td>\n",
       "      <td>5</td>\n",
       "      <td>G</td>\n",
       "      <td>1469</td>\n",
       "    </tr>\n",
       "    <tr>\n",
       "      <th>vehicle_type</th>\n",
       "      <td>94542</td>\n",
       "      <td>3</td>\n",
       "      <td>coupe</td>\n",
       "      <td>48307</td>\n",
       "    </tr>\n",
       "    <tr>\n",
       "      <th>vehicle_transmission</th>\n",
       "      <td>93210</td>\n",
       "      <td>2</td>\n",
       "      <td>auto</td>\n",
       "      <td>48115</td>\n",
       "    </tr>\n",
       "    <tr>\n",
       "      <th>county_location</th>\n",
       "      <td>94542</td>\n",
       "      <td>58</td>\n",
       "      <td>los angeles</td>\n",
       "      <td>29037</td>\n",
       "    </tr>\n",
       "    <tr>\n",
       "      <th>direction</th>\n",
       "      <td>70171</td>\n",
       "      <td>4</td>\n",
       "      <td>north</td>\n",
       "      <td>19431</td>\n",
       "    </tr>\n",
       "    <tr>\n",
       "      <th>weather_1</th>\n",
       "      <td>94304</td>\n",
       "      <td>7</td>\n",
       "      <td>clear</td>\n",
       "      <td>75361</td>\n",
       "    </tr>\n",
       "    <tr>\n",
       "      <th>location_type</th>\n",
       "      <td>40675</td>\n",
       "      <td>3</td>\n",
       "      <td>highway</td>\n",
       "      <td>33267</td>\n",
       "    </tr>\n",
       "    <tr>\n",
       "      <th>road_surface</th>\n",
       "      <td>93869</td>\n",
       "      <td>4</td>\n",
       "      <td>dry</td>\n",
       "      <td>84013</td>\n",
       "    </tr>\n",
       "    <tr>\n",
       "      <th>road_condition_1</th>\n",
       "      <td>94095</td>\n",
       "      <td>8</td>\n",
       "      <td>normal</td>\n",
       "      <td>91191</td>\n",
       "    </tr>\n",
       "    <tr>\n",
       "      <th>lighting</th>\n",
       "      <td>94275</td>\n",
       "      <td>5</td>\n",
       "      <td>daylight</td>\n",
       "      <td>66553</td>\n",
       "    </tr>\n",
       "    <tr>\n",
       "      <th>control_device</th>\n",
       "      <td>94141</td>\n",
       "      <td>4</td>\n",
       "      <td>none</td>\n",
       "      <td>59317</td>\n",
       "    </tr>\n",
       "    <tr>\n",
       "      <th>collision_date</th>\n",
       "      <td>94542</td>\n",
       "      <td>366</td>\n",
       "      <td>2012-03-17</td>\n",
       "      <td>930</td>\n",
       "    </tr>\n",
       "    <tr>\n",
       "      <th>collision_time</th>\n",
       "      <td>94441</td>\n",
       "      <td>1438</td>\n",
       "      <td>15:00:00</td>\n",
       "      <td>647</td>\n",
       "    </tr>\n",
       "  </tbody>\n",
       "</table>\n",
       "</div>"
      ],
      "text/plain": [
       "                      count unique                    top   freq\n",
       "party_sobriety        93190      6  had not been drinking  84819\n",
       "party_drug_physical    3733      5                      G   1469\n",
       "vehicle_type          94542      3                  coupe  48307\n",
       "vehicle_transmission  93210      2                   auto  48115\n",
       "county_location       94542     58            los angeles  29037\n",
       "direction             70171      4                  north  19431\n",
       "weather_1             94304      7                  clear  75361\n",
       "location_type         40675      3                highway  33267\n",
       "road_surface          93869      4                    dry  84013\n",
       "road_condition_1      94095      8                 normal  91191\n",
       "lighting              94275      5               daylight  66553\n",
       "control_device        94141      4                   none  59317\n",
       "collision_date        94542    366             2012-03-17    930\n",
       "collision_time        94441   1438               15:00:00    647"
      ]
     },
     "metadata": {},
     "output_type": "display_data"
    }
   ],
   "source": [
    "# общая информация \n",
    "display(df.describe(include=[object]).T)"
   ]
  },
  {
   "cell_type": "markdown",
   "id": "7b27b741",
   "metadata": {},
   "source": [
    "### party_sobriety;  party_drug_physical\n",
    "\n",
    "__`party_sobriety`__ - трезвость участника, содержит значения:\n",
    "- A — Had Not Been Drinking (Не пил)\n",
    "- B — Had Been Drinking, Under Influence (Был пьян, под влиянием)\n",
    "- C — Had Been Drinking, Not Under Influence (Был пьян, не под влиянием)\n",
    "- D — Had Been Drinking, Impairment Unknown (Был пьян, ухудшение неизвестно)\n",
    "- G — Impairment Unknown (Неизвестно ухудшение)\n",
    "- H — Not Applicable (Не оценивался)\n",
    "- — Not Stated (Не указано)\n",
    "\n",
    "Данный признак содержит различные градации трезвости, оставим только 4 основных, сгруппированных по стапени воздействия:\n",
    "- 0 - Had Not Been Drinking, Impairment Unknown, Not Applicable, Not Stated\n",
    "- 1 - Had Been Drinking, Not Under Influence\n",
    "- 2 - Had Been Drinking, Impairment Unknown\n",
    "- 3 - Had Been Drinking, Under Influence\n",
    "\n",
    "__`party_drug_physical`__ - состояние участника: физическое или с учётом принятых лекарств, значения:\n",
    "- E — Under Drug Influence (Под воздействием лекарств)\n",
    "- F — Impairment — Physical (Ухудшение состояния)\n",
    "- G — Impairment Unknown (Не известно)\n",
    "- H — Not Applicable (Не оценивался)\n",
    "- I — Sleepy/Fatigued (Сонный/Усталый)\n",
    "- — Not Stated (Не указано)\n",
    "\n",
    "Здеси оставим только 2 категории (стабильное и измененное):\n",
    "- 0 - Impairment Unknown, Not Applicable, Not Stated\n",
    "- 1 - Under Drug Influence, Impairment — Physical, Sleepy/Fatigued"
   ]
  },
  {
   "cell_type": "markdown",
   "id": "2c3c2381",
   "metadata": {},
   "source": [
    "__`party_sobriety`__"
   ]
  },
  {
   "cell_type": "code",
   "execution_count": 447,
   "id": "3a8d59ec",
   "metadata": {},
   "outputs": [
    {
     "name": "stdout",
     "output_type": "stream",
     "text": [
      "Количество пропусков в столбце party_sobriety: 1.43%\n",
      "interval columns not set, guessing: ['at_fault']\n",
      "Phik: 0.3814715061218021\n"
     ]
    }
   ],
   "source": [
    "# статистика\n",
    "f_isna('party_sobriety')\n",
    "f_phik('party_sobriety')"
   ]
  },
  {
   "cell_type": "code",
   "execution_count": 448,
   "id": "1f4de5f5",
   "metadata": {},
   "outputs": [],
   "source": [
    "# заполнение пропусков\n",
    "df['party_sobriety'] = df['party_sobriety'].fillna(0)\n",
    "\n",
    "# измененеие значений\n",
    "def replace_sobriety(x):\n",
    "    if x in ['had not been drinking', 'impairment unknown', 'not applicable']: return 0\n",
    "    elif x == 'had been drinking, not under influence': return 1\n",
    "    elif x == 'had been drinking, impairment unknown' : return 2\n",
    "    else: return 3\n",
    "\n",
    "df['party_sobriety'] = df['party_sobriety'].apply(replace_sobriety)"
   ]
  },
  {
   "cell_type": "code",
   "execution_count": 449,
   "id": "1dec7b8c",
   "metadata": {},
   "outputs": [
    {
     "data": {
      "text/plain": [
       "array([0, 3, 2, 1])"
      ]
     },
     "execution_count": 449,
     "metadata": {},
     "output_type": "execute_result"
    }
   ],
   "source": [
    "# обновленные значения\n",
    "df['party_sobriety'].unique()"
   ]
  },
  {
   "cell_type": "code",
   "execution_count": 450,
   "id": "ba0c6d9a",
   "metadata": {},
   "outputs": [
    {
     "name": "stdout",
     "output_type": "stream",
     "text": [
      "Количество пропусков в столбце party_sobriety: 0.00%\n",
      "interval columns not set, guessing: ['at_fault', 'party_sobriety']\n",
      "Phik: 0.3860416731427207\n"
     ]
    }
   ],
   "source": [
    "# обновленная статистика\n",
    "f_isna('party_sobriety')\n",
    "f_phik('party_sobriety')"
   ]
  },
  {
   "cell_type": "code",
   "execution_count": 451,
   "id": "5013c885",
   "metadata": {},
   "outputs": [
    {
     "data": {
      "text/plain": [
       "0    86814\n",
       "3     6686\n",
       "1      746\n",
       "2      296\n",
       "Name: party_sobriety, dtype: int64"
      ]
     },
     "execution_count": 451,
     "metadata": {},
     "output_type": "execute_result"
    }
   ],
   "source": [
    "# распределение значений\n",
    "df['party_sobriety'].value_counts()"
   ]
  },
  {
   "cell_type": "markdown",
   "id": "5865defd",
   "metadata": {},
   "source": [
    "- Пропуски заподнены.\n",
    "- После объединения в более крупные группы, связь данного признака с целевым усилилась.\n",
    "- Так же, стоит отметить, что в большинстве случает, при наличии акогольного апьянения, водители были под дополнительным воздействием других веществ."
   ]
  },
  {
   "cell_type": "markdown",
   "id": "314779ea",
   "metadata": {},
   "source": [
    "__party_drug_physical__"
   ]
  },
  {
   "cell_type": "code",
   "execution_count": 452,
   "id": "38f27639",
   "metadata": {},
   "outputs": [
    {
     "name": "stdout",
     "output_type": "stream",
     "text": [
      "Количество пропусков в столбце party_drug_physical: 96.05%\n",
      "interval columns not set, guessing: ['at_fault']\n",
      "Phik: 0.4007735391390957\n"
     ]
    }
   ],
   "source": [
    "# статистика\n",
    "f_isna('party_drug_physical')\n",
    "f_phik('party_drug_physical')"
   ]
  },
  {
   "cell_type": "code",
   "execution_count": 453,
   "id": "126dd1e2",
   "metadata": {},
   "outputs": [],
   "source": [
    "# заполнение пропусков\n",
    "df['party_drug_physical'] = df['party_drug_physical'].fillna(0)"
   ]
  },
  {
   "cell_type": "code",
   "execution_count": 454,
   "id": "11ef2893",
   "metadata": {},
   "outputs": [
    {
     "name": "stdout",
     "output_type": "stream",
     "text": [
      "Количество пропусков в столбце party_drug_physical: 0.00%\n",
      "interval columns not set, guessing: ['at_fault']\n",
      "Phik: 0.22026624635276512\n"
     ]
    }
   ],
   "source": [
    "# обновленная статистика\n",
    "f_isna('party_drug_physical')\n",
    "f_phik('party_drug_physical')"
   ]
  },
  {
   "cell_type": "code",
   "execution_count": 455,
   "id": "ff5fa861",
   "metadata": {},
   "outputs": [],
   "source": [
    "# измененеие значений\n",
    "def replace_drug_physical(x):\n",
    "    if x in ['under drug influence', 'sleepy/fatigued', 'impairment - physical']: return 1\n",
    "    else: return 0\n",
    "    \n",
    "df['party_drug_physical'] = df['party_drug_physical'].apply(replace_drug_physical)"
   ]
  },
  {
   "cell_type": "code",
   "execution_count": 456,
   "id": "47548aeb",
   "metadata": {},
   "outputs": [
    {
     "name": "stdout",
     "output_type": "stream",
     "text": [
      "interval columns not set, guessing: ['at_fault', 'party_drug_physical']\n",
      "Phik: 0.20662130377697624\n"
     ]
    }
   ],
   "source": [
    "# обновленная статистика\n",
    "f_phik('party_drug_physical')"
   ]
  },
  {
   "cell_type": "markdown",
   "id": "2808cb43",
   "metadata": {},
   "source": [
    "- Пропуски заполнены, но при этом ужудшилась связь между данным признакои и целевым, что связано с большим количеством пропусков в данных."
   ]
  },
  {
   "cell_type": "markdown",
   "id": "6e40a6f6",
   "metadata": {},
   "source": [
    "### vehicle_type - тип кузова"
   ]
  },
  {
   "cell_type": "code",
   "execution_count": 457,
   "id": "38cbbf72",
   "metadata": {},
   "outputs": [
    {
     "name": "stdout",
     "output_type": "stream",
     "text": [
      "Количество пропусков в столбце vehicle_type: 0.00%\n",
      "interval columns not set, guessing: ['at_fault']\n",
      "Phik: 0.011231667761568932\n"
     ]
    }
   ],
   "source": [
    "# статистика\n",
    "f_isna('vehicle_type')\n",
    "f_phik('vehicle_type')"
   ]
  },
  {
   "cell_type": "markdown",
   "id": "9b6c152c",
   "metadata": {},
   "source": [
    "Связь данного признака с целевым переменным является слабой. Рекомендуется исключить данный признак из анализа и построения моделей."
   ]
  },
  {
   "cell_type": "code",
   "execution_count": 458,
   "id": "f18b6f98",
   "metadata": {},
   "outputs": [],
   "source": [
    "df = df.drop('vehicle_type', axis=1).copy()"
   ]
  },
  {
   "cell_type": "markdown",
   "id": "108c99ca",
   "metadata": {},
   "source": [
    "- Данный признак не имеет репрезентативной силы.\n",
    "- Было принято решение исключить данный признак из дальнейшего анализа."
   ]
  },
  {
   "cell_type": "markdown",
   "id": "100378e3",
   "metadata": {},
   "source": [
    "### vehicle_transmission - тип КПП"
   ]
  },
  {
   "cell_type": "code",
   "execution_count": 459,
   "id": "8f75b50e",
   "metadata": {},
   "outputs": [
    {
     "name": "stdout",
     "output_type": "stream",
     "text": [
      "Количество пропусков в столбце vehicle_transmission: 1.41%\n",
      "interval columns not set, guessing: ['at_fault']\n",
      "Phik: 0.12940927995913806\n"
     ]
    }
   ],
   "source": [
    "# статистика\n",
    "f_isna('vehicle_transmission')\n",
    "f_phik('vehicle_transmission')"
   ]
  },
  {
   "cell_type": "markdown",
   "id": "2a4c122c",
   "metadata": {},
   "source": [
    "Связь с целевым признаком можно объяснить, тем, что автоматическая коробка передач позволяет более быстро реагировать в случае аварии. восстановоть данные о КПП восстановить из данных датафрейма невозможно, а так же этот признак доступен при аренде автомобиля, исходя из этого пропуски в данном признаке, подлежат удалению."
   ]
  },
  {
   "cell_type": "code",
   "execution_count": 460,
   "id": "522f3da7",
   "metadata": {},
   "outputs": [],
   "source": [
    "df = df.dropna(subset=['vehicle_transmission']).copy()"
   ]
  },
  {
   "cell_type": "markdown",
   "id": "f79d33da",
   "metadata": {},
   "source": [
    "###  county_location - названия географических районов"
   ]
  },
  {
   "cell_type": "code",
   "execution_count": 461,
   "id": "b453fb96",
   "metadata": {},
   "outputs": [
    {
     "name": "stdout",
     "output_type": "stream",
     "text": [
      "Количество пропусков в столбце county_location: 0.00%\n",
      "interval columns not set, guessing: ['at_fault']\n",
      "Phik: 0.14173097598925813\n"
     ]
    }
   ],
   "source": [
    "# статистика\n",
    "f_isna('county_location')\n",
    "f_phik('county_location')"
   ]
  },
  {
   "cell_type": "code",
   "execution_count": 462,
   "id": "3c8c24c9",
   "metadata": {},
   "outputs": [
    {
     "data": {
      "text/plain": [
       "array(['kern', 'sacramento', 'los angeles', 'san joaquin',\n",
       "       'san bernardino', 'alameda', 'orange', 'merced', 'santa barbara',\n",
       "       'san francisco', 'solano', 'san diego', 'fresno', 'contra costa',\n",
       "       'santa clara', 'tulare', 'riverside', 'sutter', 'ventura',\n",
       "       'imperial', 'san mateo', 'el dorado', 'lassen', 'mendocino',\n",
       "       'sonoma', 'humboldt', 'calaveras', 'san luis obispo', 'inyo',\n",
       "       'shasta', 'monterey', 'modoc', 'amador', 'stanislaus', 'marin',\n",
       "       'placer', 'glenn', 'lake', 'colusa', 'kings', 'butte', 'yuba',\n",
       "       'madera', 'yolo', 'tehama', 'tuolumne', 'nevada', 'santa cruz',\n",
       "       'del norte', 'napa', 'trinity', 'siskiyou', 'sierra', 'san benito',\n",
       "       'mono', 'mariposa', 'plumas', 'alpine'], dtype=object)"
      ]
     },
     "execution_count": 462,
     "metadata": {},
     "output_type": "execute_result"
    }
   ],
   "source": [
    "# уникальные значения\n",
    "df['county_location'].unique()"
   ]
  },
  {
   "cell_type": "markdown",
   "id": "e77f9877",
   "metadata": {},
   "source": [
    "Есть связь между данным признаким и целевым, но большое количество уникальных значений, может затруднить обучение моделей, сгруппируем районы по составляющим агломерациям:"
   ]
  },
  {
   "cell_type": "code",
   "execution_count": 463,
   "id": "cfcff9c5",
   "metadata": {},
   "outputs": [],
   "source": [
    "agglomerations = {\n",
    "    'Southern California': ['los angeles', 'ventura', 'orange', 'riverside', 'san bernardino'],\n",
    "    'San Francisco Bay Area': ['san francisco', 'santa clara', 'alameda', 'contra costa', 'san mateo', 'marin'],\n",
    "    'Central Valley': ['san joaquin', 'merced', 'tulare', 'fresno', 'kern', 'stanislaus'],\n",
    "    'Sacramento Metropolitan Area': ['sacramento', 'placer', 'el dorado'],\n",
    "    'Central Coast': ['santa cruz', 'monterey', 'san luis obispo', 'santa barbara', 'ventura'],\n",
    "    'North Coast': ['napa', 'sonoma', 'mendocino', 'humboldt'],\n",
    "    'Inland Empire': ['riverside', 'san bernardino'],\n",
    "    'San Diego Metropolitan Area': ['san diego'],\n",
    "    'Sierra Nevada': ['nevada', 'calaveras', 'madera', 'tuolumne', 'amador', 'tehama', 'glenn', 'mariposa', 'sierra', 'plumas', 'trinity', 'lassen', 'plumas', 'trinity', 'sierra', 'modoc'],\n",
    "    'Northern California': ['butte', 'sutter', 'yolo', 'lake', 'yuba', 'yolo', 'inyo', 'mono', 'yuba'],\n",
    "    'Far Northern California': ['del norte', 'humoldt', 'siskiyou', 'alpine', 'colusa']\n",
    "}\n",
    "# функция для замены\n",
    "def county_to_agglomeration(county):\n",
    "    for agglomeration, counties in agglomerations.items():\n",
    "        if county.lower() in [c.lower() for c in counties]:\n",
    "            return agglomeration\n",
    "    return county\n",
    "\n",
    "# применяем функцию к столбцу 'county_location'\n",
    "df['county_location'] = df['county_location'].map(county_to_agglomeration)"
   ]
  },
  {
   "cell_type": "code",
   "execution_count": 464,
   "id": "20e40ad6",
   "metadata": {},
   "outputs": [
    {
     "data": {
      "text/plain": [
       "15"
      ]
     },
     "execution_count": 464,
     "metadata": {},
     "output_type": "execute_result"
    }
   ],
   "source": [
    "# количество уникальных значений\n",
    "len(df['county_location'].unique())"
   ]
  },
  {
   "cell_type": "code",
   "execution_count": 465,
   "id": "31931622",
   "metadata": {},
   "outputs": [
    {
     "name": "stdout",
     "output_type": "stream",
     "text": [
      "Количество пропусков в столбце county_location: 0.00%\n",
      "interval columns not set, guessing: ['at_fault']\n",
      "Phik: 0.1031010847053475\n"
     ]
    }
   ],
   "source": [
    "# обновленнная статистика\n",
    "f_isna('county_location')\n",
    "f_phik('county_location')"
   ]
  },
  {
   "cell_type": "markdown",
   "id": "565f4fb7",
   "metadata": {},
   "source": [
    "- Мы снизили количество уникальных значений, с 58 до 15.\n",
    "- Незначительно ослабела связь с целевым признаком"
   ]
  },
  {
   "cell_type": "markdown",
   "id": "479c724e",
   "metadata": {},
   "source": [
    "### direction - направление движения"
   ]
  },
  {
   "cell_type": "code",
   "execution_count": 466,
   "id": "d0a50f1b",
   "metadata": {},
   "outputs": [
    {
     "name": "stdout",
     "output_type": "stream",
     "text": [
      "Количество пропусков в столбце direction: 25.57%\n",
      "interval columns not set, guessing: ['at_fault']\n",
      "Phik: 0.0\n"
     ]
    }
   ],
   "source": [
    "# статистика\n",
    "f_isna('direction')\n",
    "f_phik('direction')"
   ]
  },
  {
   "cell_type": "markdown",
   "id": "1b573aed",
   "metadata": {},
   "source": [
    "Данный признак, не связан с целевым, и может быть исключен из анализа."
   ]
  },
  {
   "cell_type": "code",
   "execution_count": 467,
   "id": "a1475491",
   "metadata": {},
   "outputs": [],
   "source": [
    "df = df.drop('direction', axis=1).copy()"
   ]
  },
  {
   "cell_type": "markdown",
   "id": "865d8d00",
   "metadata": {},
   "source": [
    "### weather_1 - погода"
   ]
  },
  {
   "cell_type": "code",
   "execution_count": 468,
   "id": "ae1bf865",
   "metadata": {},
   "outputs": [
    {
     "name": "stdout",
     "output_type": "stream",
     "text": [
      "Количество пропусков в столбце weather_1: 0.25%\n",
      "interval columns not set, guessing: ['at_fault']\n",
      "Phik: 0.04587133715766151\n"
     ]
    }
   ],
   "source": [
    "# статистика\n",
    "f_isna('weather_1')\n",
    "f_phik('weather_1')"
   ]
  },
  {
   "cell_type": "code",
   "execution_count": 469,
   "id": "83349432",
   "metadata": {},
   "outputs": [
    {
     "data": {
      "text/plain": [
       "array(['clear', 'raining', 'cloudy', 'snowing', 'fog', None, 'other',\n",
       "       'wind'], dtype=object)"
      ]
     },
     "execution_count": 469,
     "metadata": {},
     "output_type": "execute_result"
    }
   ],
   "source": [
    "# уникальные значения\n",
    "df['weather_1'].unique()"
   ]
  },
  {
   "cell_type": "markdown",
   "id": "47837c96",
   "metadata": {},
   "source": [
    "Признак слабо связан с целевым, и большенство аварий происходят в ясную погоду (п. Анализ зависимости вероятности возникновения ДТП от погодных условий.)\n",
    "\n",
    "Данный признакразделим на две группы:\n",
    "0 - 'clear' и пропуски;\n",
    "1 - другие погодные условия"
   ]
  },
  {
   "cell_type": "code",
   "execution_count": 470,
   "id": "80c91d04",
   "metadata": {},
   "outputs": [],
   "source": [
    "# обработка пропусков\n",
    "df['weather_1'] = df['weather_1'].fillna(0)"
   ]
  },
  {
   "cell_type": "code",
   "execution_count": 471,
   "id": "16228da3",
   "metadata": {},
   "outputs": [],
   "source": [
    "# замена значений\n",
    "df['weather_1'] = df['weather_1'].apply(lambda x: 0 if x=='clear' else 1)"
   ]
  },
  {
   "cell_type": "code",
   "execution_count": 472,
   "id": "dd915b21",
   "metadata": {},
   "outputs": [
    {
     "name": "stdout",
     "output_type": "stream",
     "text": [
      "Количество пропусков в столбце weather_1: 0.00%\n",
      "interval columns not set, guessing: ['at_fault', 'weather_1']\n",
      "Phik: 0.0660556008306189\n"
     ]
    }
   ],
   "source": [
    "# обновленная статистика \n",
    "f_isna('weather_1')\n",
    "f_phik('weather_1')"
   ]
  },
  {
   "cell_type": "markdown",
   "id": "093db345",
   "metadata": {},
   "source": [
    "- Пропуски заполнены.\n",
    "- Связь с целевым признаком усилилась."
   ]
  },
  {
   "cell_type": "markdown",
   "id": "5c7ade2c",
   "metadata": {},
   "source": [
    "### location_type - тип дороги"
   ]
  },
  {
   "cell_type": "code",
   "execution_count": 473,
   "id": "8b0b8b1d",
   "metadata": {},
   "outputs": [
    {
     "name": "stdout",
     "output_type": "stream",
     "text": [
      "Количество пропусков в столбце location_type: 56.66%\n",
      "interval columns not set, guessing: ['at_fault']\n",
      "Phik: 0.014335733458780064\n"
     ]
    }
   ],
   "source": [
    "# статистика \n",
    "f_isna('location_type')\n",
    "f_phik('location_type')"
   ]
  },
  {
   "cell_type": "markdown",
   "id": "4173c3fa",
   "metadata": {},
   "source": [
    "Данный признак, слабо связан с целевым, и может быть исключен из анализа."
   ]
  },
  {
   "cell_type": "code",
   "execution_count": 474,
   "id": "e3fa757b",
   "metadata": {},
   "outputs": [],
   "source": [
    "df = df.drop('location_type', axis=1).copy()"
   ]
  },
  {
   "cell_type": "markdown",
   "id": "58a2a07d",
   "metadata": {},
   "source": [
    "### road_surface - cостояние дороги"
   ]
  },
  {
   "cell_type": "code",
   "execution_count": 475,
   "id": "70d1c141",
   "metadata": {},
   "outputs": [
    {
     "name": "stdout",
     "output_type": "stream",
     "text": [
      "Количество пропусков в столбце road_surface: 0.70%\n",
      "interval columns not set, guessing: ['at_fault']\n",
      "Phik: 0.10405873090105269\n"
     ]
    }
   ],
   "source": [
    "# статистика \n",
    "f_isna('road_surface')\n",
    "f_phik('road_surface')"
   ]
  },
  {
   "cell_type": "markdown",
   "id": "175c573b",
   "metadata": {},
   "source": [
    "- Данный признак связан с целевым.\n",
    "- Пропуски заменим на 0.\n",
    "- Значения разделим на две группы:\n",
    "   - 0 - 'dry' дорога чистая, либо данных нет.\n",
    "   - 1 - на дороге присутствуют факторы которые могут повлечь затруднение движения."
   ]
  },
  {
   "cell_type": "code",
   "execution_count": 476,
   "id": "b9b10f20",
   "metadata": {},
   "outputs": [],
   "source": [
    "# обработка пропусков\n",
    "df['road_surface'] = df['road_surface'].fillna(0)"
   ]
  },
  {
   "cell_type": "code",
   "execution_count": 477,
   "id": "d1abc2af",
   "metadata": {},
   "outputs": [],
   "source": [
    "# замена значений\n",
    "df['road_surface'] = df['road_surface'].apply(lambda x: 0 if x=='dry' else 1)"
   ]
  },
  {
   "cell_type": "code",
   "execution_count": 478,
   "id": "55c3478a",
   "metadata": {},
   "outputs": [
    {
     "name": "stdout",
     "output_type": "stream",
     "text": [
      "Количество пропусков в столбце road_surface: 0.00%\n",
      "interval columns not set, guessing: ['at_fault', 'road_surface']\n",
      "Phik: 0.09426680260359567\n"
     ]
    }
   ],
   "source": [
    "# обновленная статистика \n",
    "f_isna('road_surface')\n",
    "f_phik('road_surface')"
   ]
  },
  {
   "cell_type": "markdown",
   "id": "15e57e61",
   "metadata": {},
   "source": [
    "- Пропуски заполнены.\n",
    "- После замены значений, связь с целевым признаком изменилась незначительно."
   ]
  },
  {
   "cell_type": "markdown",
   "id": "06dcdee7",
   "metadata": {},
   "source": [
    "### lighting - освещение"
   ]
  },
  {
   "cell_type": "code",
   "execution_count": 479,
   "id": "a02c14c1",
   "metadata": {},
   "outputs": [
    {
     "name": "stdout",
     "output_type": "stream",
     "text": [
      "Количество пропусков в столбце lighting: 0.28%\n",
      "interval columns not set, guessing: ['at_fault']\n",
      "Phik: 0.08655921460131097\n"
     ]
    }
   ],
   "source": [
    "# статистика \n",
    "f_isna('lighting')\n",
    "f_phik('lighting')"
   ]
  },
  {
   "cell_type": "markdown",
   "id": "5dcff031",
   "metadata": {},
   "source": [
    "- Данный признак связан с целевым.\n",
    "- Пропуски заменим на 0.\n",
    "- Значения разделим на две группы:\n",
    "   - 0 - 'daylight', 'dark with street lights', данных нет - дорога освещенная.\n",
    "   - 1 - присутствуют факторы затрудняющии обзор."
   ]
  },
  {
   "cell_type": "code",
   "execution_count": 480,
   "id": "6efb9327",
   "metadata": {},
   "outputs": [],
   "source": [
    "# обработка пропусков\n",
    "df['lighting'] = df['lighting'].fillna(0)"
   ]
  },
  {
   "cell_type": "code",
   "execution_count": 481,
   "id": "24b8dc1f",
   "metadata": {},
   "outputs": [],
   "source": [
    "# замена значений\n",
    "df['lighting'] = df['lighting'].apply(lambda x: 0 if x in ['daylight', 'dark with street lights'] else 1)"
   ]
  },
  {
   "cell_type": "code",
   "execution_count": 482,
   "id": "059567b3",
   "metadata": {},
   "outputs": [
    {
     "name": "stdout",
     "output_type": "stream",
     "text": [
      "Количество пропусков в столбце lighting: 0.00%\n",
      "interval columns not set, guessing: ['at_fault', 'lighting']\n",
      "Phik: 0.12384536706849826\n"
     ]
    }
   ],
   "source": [
    "# обновленная статистика \n",
    "f_isna('lighting')\n",
    "f_phik('lighting')"
   ]
  },
  {
   "cell_type": "markdown",
   "id": "33a416ca",
   "metadata": {},
   "source": [
    "- Пропуски заполнены.\n",
    "- После замены значений, связь с целевым признаком усилилась."
   ]
  },
  {
   "cell_type": "markdown",
   "id": "85e0b907",
   "metadata": {},
   "source": [
    "### control_device - работоспособность устройств управления"
   ]
  },
  {
   "cell_type": "code",
   "execution_count": 483,
   "id": "dfb7f45c",
   "metadata": {},
   "outputs": [
    {
     "name": "stdout",
     "output_type": "stream",
     "text": [
      "Количество пропусков в столбце control_device: 0.41%\n",
      "interval columns not set, guessing: ['at_fault']\n",
      "Phik: 0.13762197743801882\n"
     ]
    }
   ],
   "source": [
    "# статистика \n",
    "f_isna('control_device')\n",
    "f_phik('control_device')"
   ]
  },
  {
   "cell_type": "markdown",
   "id": "3ec97dfc",
   "metadata": {},
   "source": [
    "- Заменим пропуски и значение 'none' на 'no_info'"
   ]
  },
  {
   "cell_type": "code",
   "execution_count": 484,
   "id": "b6caeb79",
   "metadata": {},
   "outputs": [],
   "source": [
    "# обработка пропусков\n",
    "df['control_device'] = df['control_device'].fillna('no_info')\n",
    "# замена значений\n",
    "df['control_device'] = df['control_device'].apply(lambda x: 'no_info' if x=='none' else x)"
   ]
  },
  {
   "cell_type": "code",
   "execution_count": 485,
   "id": "94ff2d0b",
   "metadata": {},
   "outputs": [
    {
     "name": "stdout",
     "output_type": "stream",
     "text": [
      "Количество пропусков в столбце control_device: 0.00%\n",
      "interval columns not set, guessing: ['at_fault']\n",
      "Phik: 0.13740604313506957\n"
     ]
    }
   ],
   "source": [
    "# статистика \n",
    "f_isna('control_device')\n",
    "f_phik('control_device')"
   ]
  },
  {
   "cell_type": "markdown",
   "id": "fe52672c",
   "metadata": {},
   "source": [
    "- Обработаны пропуски.\n",
    "- Призк имеет связь с целевым."
   ]
  },
  {
   "cell_type": "markdown",
   "id": "f68666f2",
   "metadata": {},
   "source": [
    "### collision_time - время происшествия\n",
    "\n",
    "Обединим признак в категории:\n",
    "- Утро\n",
    "- День\n",
    "- Вечер\n",
    "- Ночь"
   ]
  },
  {
   "cell_type": "code",
   "execution_count": 486,
   "id": "f1229840",
   "metadata": {},
   "outputs": [
    {
     "name": "stdout",
     "output_type": "stream",
     "text": [
      "Количество пропусков в столбце collision_time: 0.11%\n"
     ]
    }
   ],
   "source": [
    "# количество пропусков\n",
    "f_isna('collision_time')"
   ]
  },
  {
   "cell_type": "markdown",
   "id": "7afed5d3",
   "metadata": {},
   "source": [
    "Восстановить данные о времени восстановить или найти логичную замену по остальным данным нет возможносни, будет логично их удалить"
   ]
  },
  {
   "cell_type": "code",
   "execution_count": 487,
   "id": "cc44d951",
   "metadata": {},
   "outputs": [],
   "source": [
    "df = df.dropna(subset=['collision_time']).copy()"
   ]
  },
  {
   "cell_type": "code",
   "execution_count": 488,
   "id": "c470af0a",
   "metadata": {},
   "outputs": [],
   "source": [
    "# преобразуем столбец 'collision_time' в формат времени\n",
    "df['collision_time'] = pd.to_datetime(df['collision_time'], format='%H:%M:%S')"
   ]
  },
  {
   "cell_type": "code",
   "execution_count": 489,
   "id": "4131c17e",
   "metadata": {},
   "outputs": [],
   "source": [
    "# округляем часы до ближайшего значения\n",
    "df['collision_time'] = df['collision_time'].dt.round('H').dt.hour"
   ]
  },
  {
   "cell_type": "code",
   "execution_count": 490,
   "id": "f2702f4e",
   "metadata": {},
   "outputs": [],
   "source": [
    "# функция для определения категории времени\n",
    "def get_time_category(hour):\n",
    "    if 0 <= hour < 6:\n",
    "        return 'Ночь'\n",
    "    elif 6 <= hour < 12:\n",
    "        return 'Утро'\n",
    "    elif 12 <= hour < 18:\n",
    "        return 'День'\n",
    "    else:\n",
    "        return 'Вечер'\n",
    "\n",
    "df['collision_time'] = df['collision_time'].apply(get_time_category)"
   ]
  },
  {
   "cell_type": "code",
   "execution_count": 491,
   "id": "d8490173",
   "metadata": {},
   "outputs": [
    {
     "name": "stdout",
     "output_type": "stream",
     "text": [
      "Количество пропусков в столбце collision_time: 0.00%\n",
      "interval columns not set, guessing: ['at_fault']\n",
      "Phik: 0.21506244563882612\n"
     ]
    }
   ],
   "source": [
    "# обновленная статистика \n",
    "f_isna('collision_time')\n",
    "f_phik('collision_time')"
   ]
  },
  {
   "cell_type": "markdown",
   "id": "51c0e067",
   "metadata": {},
   "source": [
    "- Пропуски обработаны.\n",
    "- Время переведено в категирии.\n",
    "- Присутствует связь между данным признаком и целевым"
   ]
  },
  {
   "cell_type": "markdown",
   "id": "531a98a9",
   "metadata": {},
   "source": [
    "### collision_date - дата происшествия"
   ]
  },
  {
   "cell_type": "code",
   "execution_count": 492,
   "id": "543c7c76",
   "metadata": {},
   "outputs": [
    {
     "name": "stdout",
     "output_type": "stream",
     "text": [
      "Количество пропусков в столбце collision_date: 0.00%\n"
     ]
    }
   ],
   "source": [
    "# количество пропусков\n",
    "f_isna('collision_date')"
   ]
  },
  {
   "cell_type": "code",
   "execution_count": 493,
   "id": "5e996742",
   "metadata": {},
   "outputs": [],
   "source": [
    "# преобразование столбца 'collision_date' в формат даты\n",
    "df['collision_date'] = pd.to_datetime(df['collision_date'])\n",
    "# извлечение номера месяца\n",
    "df['collision_date'] = df['collision_date'].dt.month"
   ]
  },
  {
   "cell_type": "code",
   "execution_count": 494,
   "id": "3c428f4d",
   "metadata": {},
   "outputs": [
    {
     "name": "stdout",
     "output_type": "stream",
     "text": [
      "interval columns not set, guessing: ['at_fault', 'collision_date']\n",
      "Phik: 0.04974468892392562\n"
     ]
    }
   ],
   "source": [
    "f_phik('collision_date')"
   ]
  },
  {
   "cell_type": "code",
   "execution_count": 495,
   "id": "4a045658",
   "metadata": {},
   "outputs": [],
   "source": [
    "def get_season(month):\n",
    "    if month in [12, 1, 2]:\n",
    "        return 'Зима'\n",
    "    elif month in [3, 4, 5]:\n",
    "        return 'Весна'\n",
    "    elif month in [6, 7, 8]:\n",
    "        return 'Лето'\n",
    "    else:\n",
    "        return 'Осень'\n",
    "    \n",
    "df['collision_date'] = df['collision_date'].apply(get_season)"
   ]
  },
  {
   "cell_type": "code",
   "execution_count": 496,
   "id": "7cf445e9",
   "metadata": {},
   "outputs": [
    {
     "name": "stdout",
     "output_type": "stream",
     "text": [
      "interval columns not set, guessing: ['at_fault']\n",
      "Phik: 0.0471014682904708\n"
     ]
    }
   ],
   "source": [
    "f_phik('collision_date')"
   ]
  },
  {
   "cell_type": "markdown",
   "id": "2a973b2a",
   "metadata": {},
   "source": [
    "- Пропуски отсутствуют.\n",
    "- Связь  с целевым признакомпосле пребразования в сезоны года изменилась не сильно, но осталась достаточно слабой"
   ]
  },
  {
   "cell_type": "markdown",
   "id": "b6f63198",
   "metadata": {},
   "source": [
    "### road_condition_1 -  дорожное состояние"
   ]
  },
  {
   "cell_type": "code",
   "execution_count": 497,
   "id": "da1962e6",
   "metadata": {},
   "outputs": [
    {
     "name": "stdout",
     "output_type": "stream",
     "text": [
      "Количество пропусков в столбце road_condition_1: 0.46%\n",
      "interval columns not set, guessing: ['at_fault']\n",
      "Phik: 0.04208034379410317\n"
     ]
    }
   ],
   "source": [
    "# статистика \n",
    "f_isna('road_condition_1')\n",
    "f_phik('road_condition_1')"
   ]
  },
  {
   "cell_type": "markdown",
   "id": "5fa22d02",
   "metadata": {},
   "source": [
    "Данный признак, слабо связан с целевым, и может быть исключен из анализа."
   ]
  },
  {
   "cell_type": "code",
   "execution_count": 498,
   "id": "921d19ba",
   "metadata": {},
   "outputs": [],
   "source": [
    "df = df.drop('road_condition_1', axis=1).copy()"
   ]
  },
  {
   "cell_type": "markdown",
   "id": "8b69736c",
   "metadata": {},
   "source": [
    "### Итоговый датасет"
   ]
  },
  {
   "cell_type": "code",
   "execution_count": 499,
   "id": "2c0350b7",
   "metadata": {},
   "outputs": [
    {
     "data": {
      "text/html": [
       "<div>\n",
       "<style scoped>\n",
       "    .dataframe tbody tr th:only-of-type {\n",
       "        vertical-align: middle;\n",
       "    }\n",
       "\n",
       "    .dataframe tbody tr th {\n",
       "        vertical-align: top;\n",
       "    }\n",
       "\n",
       "    .dataframe thead th {\n",
       "        text-align: right;\n",
       "    }\n",
       "</style>\n",
       "<table border=\"1\" class=\"dataframe\">\n",
       "  <thead>\n",
       "    <tr style=\"text-align: right;\">\n",
       "      <th></th>\n",
       "      <th>index</th>\n",
       "      <th>at_fault</th>\n",
       "      <th>insurance_premium</th>\n",
       "      <th>party_sobriety</th>\n",
       "      <th>party_drug_physical</th>\n",
       "      <th>vehicle_transmission</th>\n",
       "      <th>vehicle_age</th>\n",
       "      <th>county_location</th>\n",
       "      <th>weather_1</th>\n",
       "      <th>road_surface</th>\n",
       "      <th>lighting</th>\n",
       "      <th>control_device</th>\n",
       "      <th>collision_date</th>\n",
       "      <th>collision_time</th>\n",
       "    </tr>\n",
       "  </thead>\n",
       "  <tbody>\n",
       "    <tr>\n",
       "      <th>0</th>\n",
       "      <td>0</td>\n",
       "      <td>1</td>\n",
       "      <td>30.0</td>\n",
       "      <td>0</td>\n",
       "      <td>0</td>\n",
       "      <td>auto</td>\n",
       "      <td>1.0</td>\n",
       "      <td>Central Valley</td>\n",
       "      <td>0</td>\n",
       "      <td>0</td>\n",
       "      <td>1</td>\n",
       "      <td>no_info</td>\n",
       "      <td>Весна</td>\n",
       "      <td>Ночь</td>\n",
       "    </tr>\n",
       "    <tr>\n",
       "      <th>1</th>\n",
       "      <td>1</td>\n",
       "      <td>1</td>\n",
       "      <td>25.0</td>\n",
       "      <td>0</td>\n",
       "      <td>0</td>\n",
       "      <td>auto</td>\n",
       "      <td>0.0</td>\n",
       "      <td>Sacramento Metropolitan Area</td>\n",
       "      <td>1</td>\n",
       "      <td>1</td>\n",
       "      <td>0</td>\n",
       "      <td>no_info</td>\n",
       "      <td>Весна</td>\n",
       "      <td>Утро</td>\n",
       "    </tr>\n",
       "    <tr>\n",
       "      <th>2</th>\n",
       "      <td>2</td>\n",
       "      <td>1</td>\n",
       "      <td>72.0</td>\n",
       "      <td>0</td>\n",
       "      <td>0</td>\n",
       "      <td>auto</td>\n",
       "      <td>6.0</td>\n",
       "      <td>Southern California</td>\n",
       "      <td>0</td>\n",
       "      <td>0</td>\n",
       "      <td>0</td>\n",
       "      <td>no_info</td>\n",
       "      <td>Зима</td>\n",
       "      <td>Утро</td>\n",
       "    </tr>\n",
       "    <tr>\n",
       "      <th>3</th>\n",
       "      <td>3</td>\n",
       "      <td>1</td>\n",
       "      <td>19.0</td>\n",
       "      <td>0</td>\n",
       "      <td>0</td>\n",
       "      <td>manual</td>\n",
       "      <td>2.0</td>\n",
       "      <td>Southern California</td>\n",
       "      <td>0</td>\n",
       "      <td>0</td>\n",
       "      <td>0</td>\n",
       "      <td>functioning</td>\n",
       "      <td>Зима</td>\n",
       "      <td>Вечер</td>\n",
       "    </tr>\n",
       "    <tr>\n",
       "      <th>4</th>\n",
       "      <td>4</td>\n",
       "      <td>1</td>\n",
       "      <td>60.0</td>\n",
       "      <td>0</td>\n",
       "      <td>0</td>\n",
       "      <td>auto</td>\n",
       "      <td>9.0</td>\n",
       "      <td>Central Valley</td>\n",
       "      <td>0</td>\n",
       "      <td>0</td>\n",
       "      <td>0</td>\n",
       "      <td>no_info</td>\n",
       "      <td>Зима</td>\n",
       "      <td>День</td>\n",
       "    </tr>\n",
       "  </tbody>\n",
       "</table>\n",
       "</div>"
      ],
      "text/plain": [
       "   index  at_fault  insurance_premium  party_sobriety  party_drug_physical  \\\n",
       "0      0         1               30.0               0                    0   \n",
       "1      1         1               25.0               0                    0   \n",
       "2      2         1               72.0               0                    0   \n",
       "3      3         1               19.0               0                    0   \n",
       "4      4         1               60.0               0                    0   \n",
       "\n",
       "  vehicle_transmission  vehicle_age               county_location  weather_1  \\\n",
       "0                 auto          1.0                Central Valley          0   \n",
       "1                 auto          0.0  Sacramento Metropolitan Area          1   \n",
       "2                 auto          6.0           Southern California          0   \n",
       "3               manual          2.0           Southern California          0   \n",
       "4                 auto          9.0                Central Valley          0   \n",
       "\n",
       "   road_surface  lighting control_device collision_date collision_time  \n",
       "0             0         1        no_info          Весна           Ночь  \n",
       "1             1         0        no_info          Весна           Утро  \n",
       "2             0         0        no_info           Зима           Утро  \n",
       "3             0         0    functioning           Зима          Вечер  \n",
       "4             0         0        no_info           Зима           День  "
      ]
     },
     "metadata": {},
     "output_type": "display_data"
    }
   ],
   "source": [
    "display(df.head())"
   ]
  },
  {
   "cell_type": "code",
   "execution_count": 500,
   "id": "0fe7cd3b",
   "metadata": {},
   "outputs": [
    {
     "name": "stdout",
     "output_type": "stream",
     "text": [
      "<class 'pandas.core.frame.DataFrame'>\n",
      "Int64Index: 93111 entries, 0 to 96965\n",
      "Data columns (total 14 columns):\n",
      " #   Column                Non-Null Count  Dtype  \n",
      "---  ------                --------------  -----  \n",
      " 0   index                 93111 non-null  int64  \n",
      " 1   at_fault              93111 non-null  int64  \n",
      " 2   insurance_premium     93111 non-null  float64\n",
      " 3   party_sobriety        93111 non-null  int64  \n",
      " 4   party_drug_physical   93111 non-null  int64  \n",
      " 5   vehicle_transmission  93111 non-null  object \n",
      " 6   vehicle_age           93111 non-null  float64\n",
      " 7   county_location       93111 non-null  object \n",
      " 8   weather_1             93111 non-null  int64  \n",
      " 9   road_surface          93111 non-null  int64  \n",
      " 10  lighting              93111 non-null  int64  \n",
      " 11  control_device        93111 non-null  object \n",
      " 12  collision_date        93111 non-null  object \n",
      " 13  collision_time        93111 non-null  object \n",
      "dtypes: float64(2), int64(7), object(5)\n",
      "memory usage: 10.7+ MB\n"
     ]
    },
    {
     "data": {
      "text/plain": [
       "None"
      ]
     },
     "metadata": {},
     "output_type": "display_data"
    }
   ],
   "source": [
    "display(df.info())"
   ]
  },
  {
   "cell_type": "markdown",
   "id": "06e69c81",
   "metadata": {},
   "source": [
    "<div style=\"padding: 30px 25px; border: 2px #6495ed solid\">\n",
    "\n",
    "- Обработаты пропуски.\n",
    "- Отобраны наиболее значимые признаки\n",
    "- Проведена проверка и исключены аномалии.\n",
    "\n",
    "</div>"
   ]
  },
  {
   "cell_type": "markdown",
   "id": "bd7be10e",
   "metadata": {},
   "source": [
    "<div style=\"padding:0px 20px 10px; \n",
    "            color:#004346;\n",
    "            font-size:15px;\n",
    "            display:fill;\n",
    "            text-align:center;\n",
    "            border-radius:20px;\n",
    "            border: 5px double;\n",
    "            border-color:#201E20;\n",
    "            background-color: #E8F1F2;\n",
    "            overflow:hidden;\n",
    "            font-weight:400\"> \n",
    "\n",
    "# Разработка моделей\n",
    "    \n",
    "</div>"
   ]
  },
  {
   "cell_type": "markdown",
   "id": "aee62d03",
   "metadata": {},
   "source": [
    "__Проведем сравнительный анализ трех моделей, обученных на следующих алгоритмах:__\n",
    "- LogisticRegression\n",
    "- CatBoost\n",
    "- Нейросеть на основе фреймворка PyTorch\n",
    "     \n",
    "__Метрики качества для оценки модели:__\n",
    "\n",
    "- accuracy — точность. Основная проблема этой метрики — это несбалансированные выборки. При дисбалансе классов(особенно, если дисбаланс существенный), accuracy не показательна, так как результат может быть искажен из-за того, что модель лучше предсказывает больший класс. Так как, в нашем случае оба класса целевой переменной представлены поровну, сбалансированы, данная метрика является репризентативной.\n",
    "- precision -  показывает, какая доля объектов, которую модель определила как положительные, действительно положительные. То есть, максимизируя метрику precision, мы пытаемся минимизировать количество ложноположительных ответов: клиентов, которые могут попасть в аварию, при аренде автомобилей.\n",
    "- __recall__ — это доля положительных объектов, которую нашла модель, из всех положительных объектов. Максимизируя recall мы хотим минимизировать количество ложноотрицательных ответов модели: клиентов, которые попали в аварию, хотя модель определила, что не попадут. Исходя из задачи, эта метрика является основной для выбора лучшей модели."
   ]
  },
  {
   "cell_type": "markdown",
   "id": "fa5363a1",
   "metadata": {},
   "source": [
    "## Выделение обучающей и тестовой выборок"
   ]
  },
  {
   "cell_type": "code",
   "execution_count": 610,
   "id": "ffd1a03b",
   "metadata": {},
   "outputs": [],
   "source": [
    "# категориальные признаки\n",
    "categorical_columns = ['party_drug_physical', 'vehicle_transmission', 'county_location',\n",
    "                       'weather_1', 'road_surface', 'lighting', 'collision_time',\n",
    "                       'collision_date', 'control_device']\n",
    "\n",
    "# числовые признаки\n",
    "numeric_columns = ['insurance_premium', 'vehicle_age', 'party_sobriety']\n",
    "\n",
    "\n",
    "# признаки\n",
    "X = df[categorical_columns + numeric_columns]\n",
    "# целевой признак\n",
    "y = df['at_fault']"
   ]
  },
  {
   "cell_type": "code",
   "execution_count": 611,
   "id": "07d09a88",
   "metadata": {},
   "outputs": [],
   "source": [
    "# формирование выборок с сохранением баланса классов\n",
    "X_train, X_test, y_train, y_test = train_test_split(X, y, test_size=0.25, stratify=y, random_state=RANDOM_SEED)"
   ]
  },
  {
   "cell_type": "code",
   "execution_count": 612,
   "id": "b2569a0f",
   "metadata": {},
   "outputs": [
    {
     "name": "stdout",
     "output_type": "stream",
     "text": [
      "Баланс классов целевого признака:\n",
      "y_train:\n",
      "0    53.0\n",
      "1    47.0\n",
      "Name: at_fault, dtype: float64\n",
      "y_test:\n",
      "0    53.0\n",
      "1    47.0\n",
      "Name: at_fault, dtype: float64\n",
      "\n"
     ]
    }
   ],
   "source": [
    "# проверка баланса классов в выборках\n",
    "print(f'''Баланс классов целевого признака:\n",
    "y_train:\n",
    "{round(y_train.value_counts()/len(y_train)*100)}\n",
    "y_test:\n",
    "{round(y_test.value_counts()/len(y_test)*100)}\n",
    "''')\n"
   ]
  },
  {
   "cell_type": "markdown",
   "id": "3ab58f7d",
   "metadata": {},
   "source": [
    "- Выделены обучающая и тестовая выборки.\n",
    "- Баланс классов в выборках сохранен."
   ]
  },
  {
   "cell_type": "markdown",
   "id": "261f3301",
   "metadata": {},
   "source": [
    "<div style=\"padding:0px 20px 10px; \n",
    "            color:#004346;\n",
    "            font-size:15px;\n",
    "            display:fill;\n",
    "            text-align:center;\n",
    "            border-radius:20px;\n",
    "            border: 5px double;\n",
    "            border-color:#201E20;\n",
    "            background-color: #E8F1F2;\n",
    "            overflow:hidden;\n",
    "            font-weight:400\"> \n",
    "\n",
    "## LogisticRegression\n",
    "    \n",
    "</div>"
   ]
  },
  {
   "cell_type": "markdown",
   "id": "e2e05369",
   "metadata": {},
   "source": [
    "Для обучения данной модели необходима предварительная обработка данных:\n",
    "- OneHotEncoder для категориальных признаков\n",
    "- Масштабированые числовых признаков"
   ]
  },
  {
   "cell_type": "code",
   "execution_count": 613,
   "id": "369ec497",
   "metadata": {},
   "outputs": [],
   "source": [
    "# преобразование входных данных\n",
    "col_transformer_ohe = make_column_transformer(\n",
    "    (\n",
    "        OneHotEncoder(drop='first', handle_unknown='ignore'),\n",
    "        categorical_columns\n",
    "    ),\n",
    "    (\n",
    "        StandardScaler(),\n",
    "        numeric_columns\n",
    "    ),\n",
    "    remainder='passthrough',\n",
    "    verbose_feature_names_out=False\n",
    ")\n",
    "\n",
    "# метрики качества\n",
    "scorer = ['accuracy', 'precision', 'recall']\n",
    "\n",
    "# параметры кросс-валидации\n",
    "cv = StratifiedKFold(n_splits = SPLITS, shuffle = True, random_state = RANDOM_SEED)\n",
    "\n",
    "# экземпляр модели\n",
    "LogReg = LogisticRegression(n_jobs=-1)\n",
    "\n",
    "# Pipeline обучения модели\n",
    "model_log_reg = Pipeline([('transformer', col_transformer_ohe), ('classifier', LogReg)])\n",
    "\n",
    "# подбираемые гиперпараметры\n",
    "parameters = {\n",
    "    'classifier__C': [0.0001, 0.001, 0.01, 10, 0.0005],\n",
    "    'classifier__solver': ['saga', 'sag', 'newton-cg']\n",
    "}\n",
    "\n",
    "# параметры для обучения с подбором гиперпараметров\n",
    "grid_cv_lr = GridSearchCV(model_log_reg, parameters, scoring=scorer, cv=cv, n_jobs=-1, refit='accuracy')"
   ]
  },
  {
   "cell_type": "code",
   "execution_count": 614,
   "id": "10ae4d1d",
   "metadata": {},
   "outputs": [
    {
     "data": {
      "text/html": [
       "<style>#sk-container-id-9 {color: black;background-color: white;}#sk-container-id-9 pre{padding: 0;}#sk-container-id-9 div.sk-toggleable {background-color: white;}#sk-container-id-9 label.sk-toggleable__label {cursor: pointer;display: block;width: 100%;margin-bottom: 0;padding: 0.3em;box-sizing: border-box;text-align: center;}#sk-container-id-9 label.sk-toggleable__label-arrow:before {content: \"▸\";float: left;margin-right: 0.25em;color: #696969;}#sk-container-id-9 label.sk-toggleable__label-arrow:hover:before {color: black;}#sk-container-id-9 div.sk-estimator:hover label.sk-toggleable__label-arrow:before {color: black;}#sk-container-id-9 div.sk-toggleable__content {max-height: 0;max-width: 0;overflow: hidden;text-align: left;background-color: #f0f8ff;}#sk-container-id-9 div.sk-toggleable__content pre {margin: 0.2em;color: black;border-radius: 0.25em;background-color: #f0f8ff;}#sk-container-id-9 input.sk-toggleable__control:checked~div.sk-toggleable__content {max-height: 200px;max-width: 100%;overflow: auto;}#sk-container-id-9 input.sk-toggleable__control:checked~label.sk-toggleable__label-arrow:before {content: \"▾\";}#sk-container-id-9 div.sk-estimator input.sk-toggleable__control:checked~label.sk-toggleable__label {background-color: #d4ebff;}#sk-container-id-9 div.sk-label input.sk-toggleable__control:checked~label.sk-toggleable__label {background-color: #d4ebff;}#sk-container-id-9 input.sk-hidden--visually {border: 0;clip: rect(1px 1px 1px 1px);clip: rect(1px, 1px, 1px, 1px);height: 1px;margin: -1px;overflow: hidden;padding: 0;position: absolute;width: 1px;}#sk-container-id-9 div.sk-estimator {font-family: monospace;background-color: #f0f8ff;border: 1px dotted black;border-radius: 0.25em;box-sizing: border-box;margin-bottom: 0.5em;}#sk-container-id-9 div.sk-estimator:hover {background-color: #d4ebff;}#sk-container-id-9 div.sk-parallel-item::after {content: \"\";width: 100%;border-bottom: 1px solid gray;flex-grow: 1;}#sk-container-id-9 div.sk-label:hover label.sk-toggleable__label {background-color: #d4ebff;}#sk-container-id-9 div.sk-serial::before {content: \"\";position: absolute;border-left: 1px solid gray;box-sizing: border-box;top: 0;bottom: 0;left: 50%;z-index: 0;}#sk-container-id-9 div.sk-serial {display: flex;flex-direction: column;align-items: center;background-color: white;padding-right: 0.2em;padding-left: 0.2em;position: relative;}#sk-container-id-9 div.sk-item {position: relative;z-index: 1;}#sk-container-id-9 div.sk-parallel {display: flex;align-items: stretch;justify-content: center;background-color: white;position: relative;}#sk-container-id-9 div.sk-item::before, #sk-container-id-9 div.sk-parallel-item::before {content: \"\";position: absolute;border-left: 1px solid gray;box-sizing: border-box;top: 0;bottom: 0;left: 50%;z-index: -1;}#sk-container-id-9 div.sk-parallel-item {display: flex;flex-direction: column;z-index: 1;position: relative;background-color: white;}#sk-container-id-9 div.sk-parallel-item:first-child::after {align-self: flex-end;width: 50%;}#sk-container-id-9 div.sk-parallel-item:last-child::after {align-self: flex-start;width: 50%;}#sk-container-id-9 div.sk-parallel-item:only-child::after {width: 0;}#sk-container-id-9 div.sk-dashed-wrapped {border: 1px dashed gray;margin: 0 0.4em 0.5em 0.4em;box-sizing: border-box;padding-bottom: 0.4em;background-color: white;}#sk-container-id-9 div.sk-label label {font-family: monospace;font-weight: bold;display: inline-block;line-height: 1.2em;}#sk-container-id-9 div.sk-label-container {text-align: center;}#sk-container-id-9 div.sk-container {/* jupyter's `normalize.less` sets `[hidden] { display: none; }` but bootstrap.min.css set `[hidden] { display: none !important; }` so we also need the `!important` here to be able to override the default hidden behavior on the sphinx rendered scikit-learn.org. See: https://github.com/scikit-learn/scikit-learn/issues/21755 */display: inline-block !important;position: relative;}#sk-container-id-9 div.sk-text-repr-fallback {display: none;}</style><div id=\"sk-container-id-9\" class=\"sk-top-container\"><div class=\"sk-text-repr-fallback\"><pre>GridSearchCV(cv=StratifiedKFold(n_splits=4, random_state=42, shuffle=True),\n",
       "             estimator=Pipeline(steps=[(&#x27;transformer&#x27;,\n",
       "                                        ColumnTransformer(remainder=&#x27;passthrough&#x27;,\n",
       "                                                          transformers=[(&#x27;onehotencoder&#x27;,\n",
       "                                                                         OneHotEncoder(drop=&#x27;first&#x27;,\n",
       "                                                                                       handle_unknown=&#x27;ignore&#x27;),\n",
       "                                                                         [&#x27;party_drug_physical&#x27;,\n",
       "                                                                          &#x27;vehicle_transmission&#x27;,\n",
       "                                                                          &#x27;county_location&#x27;,\n",
       "                                                                          &#x27;weather_1&#x27;,\n",
       "                                                                          &#x27;road_surface&#x27;,\n",
       "                                                                          &#x27;lighting&#x27;,\n",
       "                                                                          &#x27;collisio...\n",
       "                                                                          &#x27;control_device&#x27;]),\n",
       "                                                                        (&#x27;standardscaler&#x27;,\n",
       "                                                                         StandardScaler(),\n",
       "                                                                         [&#x27;insurance_premium&#x27;,\n",
       "                                                                          &#x27;vehicle_age&#x27;,\n",
       "                                                                          &#x27;party_sobriety&#x27;])],\n",
       "                                                          verbose_feature_names_out=False)),\n",
       "                                       (&#x27;classifier&#x27;,\n",
       "                                        LogisticRegression(n_jobs=-1))]),\n",
       "             n_jobs=-1,\n",
       "             param_grid={&#x27;classifier__C&#x27;: [0.0001, 0.001, 0.01, 10, 0.0005],\n",
       "                         &#x27;classifier__solver&#x27;: [&#x27;saga&#x27;, &#x27;sag&#x27;, &#x27;newton-cg&#x27;]},\n",
       "             refit=&#x27;accuracy&#x27;, scoring=[&#x27;accuracy&#x27;, &#x27;precision&#x27;, &#x27;recall&#x27;])</pre><b>In a Jupyter environment, please rerun this cell to show the HTML representation or trust the notebook. <br />On GitHub, the HTML representation is unable to render, please try loading this page with nbviewer.org.</b></div><div class=\"sk-container\" hidden><div class=\"sk-item sk-dashed-wrapped\"><div class=\"sk-label-container\"><div class=\"sk-label sk-toggleable\"><input class=\"sk-toggleable__control sk-hidden--visually\" id=\"sk-estimator-id-81\" type=\"checkbox\" ><label for=\"sk-estimator-id-81\" class=\"sk-toggleable__label sk-toggleable__label-arrow\">GridSearchCV</label><div class=\"sk-toggleable__content\"><pre>GridSearchCV(cv=StratifiedKFold(n_splits=4, random_state=42, shuffle=True),\n",
       "             estimator=Pipeline(steps=[(&#x27;transformer&#x27;,\n",
       "                                        ColumnTransformer(remainder=&#x27;passthrough&#x27;,\n",
       "                                                          transformers=[(&#x27;onehotencoder&#x27;,\n",
       "                                                                         OneHotEncoder(drop=&#x27;first&#x27;,\n",
       "                                                                                       handle_unknown=&#x27;ignore&#x27;),\n",
       "                                                                         [&#x27;party_drug_physical&#x27;,\n",
       "                                                                          &#x27;vehicle_transmission&#x27;,\n",
       "                                                                          &#x27;county_location&#x27;,\n",
       "                                                                          &#x27;weather_1&#x27;,\n",
       "                                                                          &#x27;road_surface&#x27;,\n",
       "                                                                          &#x27;lighting&#x27;,\n",
       "                                                                          &#x27;collisio...\n",
       "                                                                          &#x27;control_device&#x27;]),\n",
       "                                                                        (&#x27;standardscaler&#x27;,\n",
       "                                                                         StandardScaler(),\n",
       "                                                                         [&#x27;insurance_premium&#x27;,\n",
       "                                                                          &#x27;vehicle_age&#x27;,\n",
       "                                                                          &#x27;party_sobriety&#x27;])],\n",
       "                                                          verbose_feature_names_out=False)),\n",
       "                                       (&#x27;classifier&#x27;,\n",
       "                                        LogisticRegression(n_jobs=-1))]),\n",
       "             n_jobs=-1,\n",
       "             param_grid={&#x27;classifier__C&#x27;: [0.0001, 0.001, 0.01, 10, 0.0005],\n",
       "                         &#x27;classifier__solver&#x27;: [&#x27;saga&#x27;, &#x27;sag&#x27;, &#x27;newton-cg&#x27;]},\n",
       "             refit=&#x27;accuracy&#x27;, scoring=[&#x27;accuracy&#x27;, &#x27;precision&#x27;, &#x27;recall&#x27;])</pre></div></div></div><div class=\"sk-parallel\"><div class=\"sk-parallel-item\"><div class=\"sk-item\"><div class=\"sk-label-container\"><div class=\"sk-label sk-toggleable\"><input class=\"sk-toggleable__control sk-hidden--visually\" id=\"sk-estimator-id-82\" type=\"checkbox\" ><label for=\"sk-estimator-id-82\" class=\"sk-toggleable__label sk-toggleable__label-arrow\">estimator: Pipeline</label><div class=\"sk-toggleable__content\"><pre>Pipeline(steps=[(&#x27;transformer&#x27;,\n",
       "                 ColumnTransformer(remainder=&#x27;passthrough&#x27;,\n",
       "                                   transformers=[(&#x27;onehotencoder&#x27;,\n",
       "                                                  OneHotEncoder(drop=&#x27;first&#x27;,\n",
       "                                                                handle_unknown=&#x27;ignore&#x27;),\n",
       "                                                  [&#x27;party_drug_physical&#x27;,\n",
       "                                                   &#x27;vehicle_transmission&#x27;,\n",
       "                                                   &#x27;county_location&#x27;,\n",
       "                                                   &#x27;weather_1&#x27;, &#x27;road_surface&#x27;,\n",
       "                                                   &#x27;lighting&#x27;, &#x27;collision_time&#x27;,\n",
       "                                                   &#x27;collision_date&#x27;,\n",
       "                                                   &#x27;control_device&#x27;]),\n",
       "                                                 (&#x27;standardscaler&#x27;,\n",
       "                                                  StandardScaler(),\n",
       "                                                  [&#x27;insurance_premium&#x27;,\n",
       "                                                   &#x27;vehicle_age&#x27;,\n",
       "                                                   &#x27;party_sobriety&#x27;])],\n",
       "                                   verbose_feature_names_out=False)),\n",
       "                (&#x27;classifier&#x27;, LogisticRegression(n_jobs=-1))])</pre></div></div></div><div class=\"sk-serial\"><div class=\"sk-item\"><div class=\"sk-serial\"><div class=\"sk-item sk-dashed-wrapped\"><div class=\"sk-label-container\"><div class=\"sk-label sk-toggleable\"><input class=\"sk-toggleable__control sk-hidden--visually\" id=\"sk-estimator-id-83\" type=\"checkbox\" ><label for=\"sk-estimator-id-83\" class=\"sk-toggleable__label sk-toggleable__label-arrow\">transformer: ColumnTransformer</label><div class=\"sk-toggleable__content\"><pre>ColumnTransformer(remainder=&#x27;passthrough&#x27;,\n",
       "                  transformers=[(&#x27;onehotencoder&#x27;,\n",
       "                                 OneHotEncoder(drop=&#x27;first&#x27;,\n",
       "                                               handle_unknown=&#x27;ignore&#x27;),\n",
       "                                 [&#x27;party_drug_physical&#x27;, &#x27;vehicle_transmission&#x27;,\n",
       "                                  &#x27;county_location&#x27;, &#x27;weather_1&#x27;,\n",
       "                                  &#x27;road_surface&#x27;, &#x27;lighting&#x27;, &#x27;collision_time&#x27;,\n",
       "                                  &#x27;collision_date&#x27;, &#x27;control_device&#x27;]),\n",
       "                                (&#x27;standardscaler&#x27;, StandardScaler(),\n",
       "                                 [&#x27;insurance_premium&#x27;, &#x27;vehicle_age&#x27;,\n",
       "                                  &#x27;party_sobriety&#x27;])],\n",
       "                  verbose_feature_names_out=False)</pre></div></div></div><div class=\"sk-parallel\"><div class=\"sk-parallel-item\"><div class=\"sk-item\"><div class=\"sk-label-container\"><div class=\"sk-label sk-toggleable\"><input class=\"sk-toggleable__control sk-hidden--visually\" id=\"sk-estimator-id-84\" type=\"checkbox\" ><label for=\"sk-estimator-id-84\" class=\"sk-toggleable__label sk-toggleable__label-arrow\">onehotencoder</label><div class=\"sk-toggleable__content\"><pre>[&#x27;party_drug_physical&#x27;, &#x27;vehicle_transmission&#x27;, &#x27;county_location&#x27;, &#x27;weather_1&#x27;, &#x27;road_surface&#x27;, &#x27;lighting&#x27;, &#x27;collision_time&#x27;, &#x27;collision_date&#x27;, &#x27;control_device&#x27;]</pre></div></div></div><div class=\"sk-serial\"><div class=\"sk-item\"><div class=\"sk-estimator sk-toggleable\"><input class=\"sk-toggleable__control sk-hidden--visually\" id=\"sk-estimator-id-85\" type=\"checkbox\" ><label for=\"sk-estimator-id-85\" class=\"sk-toggleable__label sk-toggleable__label-arrow\">OneHotEncoder</label><div class=\"sk-toggleable__content\"><pre>OneHotEncoder(drop=&#x27;first&#x27;, handle_unknown=&#x27;ignore&#x27;)</pre></div></div></div></div></div></div><div class=\"sk-parallel-item\"><div class=\"sk-item\"><div class=\"sk-label-container\"><div class=\"sk-label sk-toggleable\"><input class=\"sk-toggleable__control sk-hidden--visually\" id=\"sk-estimator-id-86\" type=\"checkbox\" ><label for=\"sk-estimator-id-86\" class=\"sk-toggleable__label sk-toggleable__label-arrow\">standardscaler</label><div class=\"sk-toggleable__content\"><pre>[&#x27;insurance_premium&#x27;, &#x27;vehicle_age&#x27;, &#x27;party_sobriety&#x27;]</pre></div></div></div><div class=\"sk-serial\"><div class=\"sk-item\"><div class=\"sk-estimator sk-toggleable\"><input class=\"sk-toggleable__control sk-hidden--visually\" id=\"sk-estimator-id-87\" type=\"checkbox\" ><label for=\"sk-estimator-id-87\" class=\"sk-toggleable__label sk-toggleable__label-arrow\">StandardScaler</label><div class=\"sk-toggleable__content\"><pre>StandardScaler()</pre></div></div></div></div></div></div><div class=\"sk-parallel-item\"><div class=\"sk-item\"><div class=\"sk-label-container\"><div class=\"sk-label sk-toggleable\"><input class=\"sk-toggleable__control sk-hidden--visually\" id=\"sk-estimator-id-88\" type=\"checkbox\" ><label for=\"sk-estimator-id-88\" class=\"sk-toggleable__label sk-toggleable__label-arrow\">remainder</label><div class=\"sk-toggleable__content\"><pre></pre></div></div></div><div class=\"sk-serial\"><div class=\"sk-item\"><div class=\"sk-estimator sk-toggleable\"><input class=\"sk-toggleable__control sk-hidden--visually\" id=\"sk-estimator-id-89\" type=\"checkbox\" ><label for=\"sk-estimator-id-89\" class=\"sk-toggleable__label sk-toggleable__label-arrow\">passthrough</label><div class=\"sk-toggleable__content\"><pre>passthrough</pre></div></div></div></div></div></div></div></div><div class=\"sk-item\"><div class=\"sk-estimator sk-toggleable\"><input class=\"sk-toggleable__control sk-hidden--visually\" id=\"sk-estimator-id-90\" type=\"checkbox\" ><label for=\"sk-estimator-id-90\" class=\"sk-toggleable__label sk-toggleable__label-arrow\">LogisticRegression</label><div class=\"sk-toggleable__content\"><pre>LogisticRegression(n_jobs=-1)</pre></div></div></div></div></div></div></div></div></div></div></div></div>"
      ],
      "text/plain": [
       "GridSearchCV(cv=StratifiedKFold(n_splits=4, random_state=42, shuffle=True),\n",
       "             estimator=Pipeline(steps=[('transformer',\n",
       "                                        ColumnTransformer(remainder='passthrough',\n",
       "                                                          transformers=[('onehotencoder',\n",
       "                                                                         OneHotEncoder(drop='first',\n",
       "                                                                                       handle_unknown='ignore'),\n",
       "                                                                         ['party_drug_physical',\n",
       "                                                                          'vehicle_transmission',\n",
       "                                                                          'county_location',\n",
       "                                                                          'weather_1',\n",
       "                                                                          'road_surface',\n",
       "                                                                          'lighting',\n",
       "                                                                          'collisio...\n",
       "                                                                          'control_device']),\n",
       "                                                                        ('standardscaler',\n",
       "                                                                         StandardScaler(),\n",
       "                                                                         ['insurance_premium',\n",
       "                                                                          'vehicle_age',\n",
       "                                                                          'party_sobriety'])],\n",
       "                                                          verbose_feature_names_out=False)),\n",
       "                                       ('classifier',\n",
       "                                        LogisticRegression(n_jobs=-1))]),\n",
       "             n_jobs=-1,\n",
       "             param_grid={'classifier__C': [0.0001, 0.001, 0.01, 10, 0.0005],\n",
       "                         'classifier__solver': ['saga', 'sag', 'newton-cg']},\n",
       "             refit='accuracy', scoring=['accuracy', 'precision', 'recall'])"
      ]
     },
     "execution_count": 614,
     "metadata": {},
     "output_type": "execute_result"
    }
   ],
   "source": [
    "# обучение и подбор оптимальных параметров\n",
    "grid_cv_lr.fit(X_train, y_train)"
   ]
  },
  {
   "cell_type": "code",
   "execution_count": 615,
   "id": "403faed6",
   "metadata": {},
   "outputs": [
    {
     "name": "stdout",
     "output_type": "stream",
     "text": [
      "Оптимальные гиперпараметры LogisticRegression:\n",
      "{'classifier__C': 0.001, 'classifier__solver': 'sag'}\n",
      "Accuracy: 0.63\n",
      "Precision: 0.76\n",
      "Recall: 0.42\n"
     ]
    }
   ],
   "source": [
    "# результаты обучения\n",
    "result = grid_cv_lr.cv_results_ \n",
    "best_params_lr = grid_cv_lr.best_params_\n",
    "precision_lr = result['mean_test_precision'][np.argmin(result['rank_test_precision'])]\n",
    "recall_lr = result['mean_test_recall'][np.argmin(result['rank_test_recall'])]\n",
    "accuracy_lr = grid_cv_lr.best_score_\n",
    "# вывод результатов\n",
    "print(f'''Оптимальные гиперпараметры LogisticRegression:\n",
    "{best_params_lr}\n",
    "Accuracy: {round(accuracy_lr, 2)}\n",
    "Precision: {round(precision_lr, 2)}\n",
    "Recall: {round(recall_lr, 2)}''')"
   ]
  },
  {
   "cell_type": "markdown",
   "id": "fadb84ee",
   "metadata": {},
   "source": [
    "- Успешно подобраны гиперпараметры для модели на основе LogisticRegression.\n",
    "- Метрики качества модели, на выборке для обучения, при кроссвалидации:\n",
    "    - Accuracy: 0.63\n",
    "    - Precision: 0.76\n",
    "    - Recall: 0.42"
   ]
  },
  {
   "cell_type": "markdown",
   "id": "d591b912",
   "metadata": {},
   "source": [
    "<div style=\"padding:0px 20px 10px; \n",
    "            color:#004346;\n",
    "            font-size:15px;\n",
    "            display:fill;\n",
    "            text-align:center;\n",
    "            border-radius:20px;\n",
    "            border: 5px double;\n",
    "            border-color:#201E20;\n",
    "            background-color: #E8F1F2;\n",
    "            overflow:hidden;\n",
    "            font-weight:400\"> \n",
    "\n",
    "## CatBoost\n",
    "    \n",
    "</div>"
   ]
  },
  {
   "cell_type": "markdown",
   "id": "b2c0d9ba",
   "metadata": {},
   "source": [
    "- Для модели СatBoost не требуется масштабирование числовых признаков, и кодирования категориальных, так так данный алгоритм имеет встреенные, более совершенные методы.\n",
    "- Для подбора гиперпараметров, оспользуем библиотеку optuna.\n",
    "- Так же для кросс-валидации используем KFold для выделения подвыборок."
   ]
  },
  {
   "cell_type": "code",
   "execution_count": 605,
   "id": "bc556c01",
   "metadata": {},
   "outputs": [],
   "source": [
    "# определение количества подвыборок\n",
    "cv_kfold = KFold(n_splits=SPLITS, random_state=RANDOM_SEED, shuffle=True)\n",
    "# гиперпараметры optuna\n",
    "def objective(trial):\n",
    "    model = CatBoostClassifier(\n",
    "        iterations=1000,\n",
    "        learning_rate=trial.suggest_float(\"learning_rate\", 1e-3, 1e-1, log=True),\n",
    "        depth=trial.suggest_int(\"depth\", 4, 10),\n",
    "        l2_leaf_reg=trial.suggest_float(\"l2_leaf_reg\", 1e-8, 100.0, log=True),\n",
    "        bootstrap_type=trial.suggest_categorical(\"bootstrap_type\", [\"Bayesian\", \"Bernoulli\"]),\n",
    "        random_state = RANDOM_SEED,\n",
    "        verbose=False\n",
    "    )\n",
    "    scors = 0\n",
    "    for train_fold_index, val_fold_index in cv_kfold.split(X_train):\n",
    "        features_train_fold, target_train_fold = X_train.iloc[train_fold_index], y_train.iloc[train_fold_index]\n",
    "        features_val_fold, target_val_fold = X_train.iloc[val_fold_index], y_train.iloc[val_fold_index]\n",
    "        \n",
    "        # train pool\n",
    "        train = Pool(data=features_train_fold,\n",
    "                     label=target_train_fold,\n",
    "                     cat_features=categorical_columns\n",
    "                     )\n",
    "        # validation pool\n",
    "        valid = Pool(data=features_val_fold,\n",
    "                     cat_features=categorical_columns\n",
    "                     )\n",
    "        # обучение модели с текущими гиперпараметрами\n",
    "        model.fit(train)\n",
    "        # предсказание\n",
    "        pred = model.predict(valid)\n",
    "        score = accuracy_score(target_val_fold, pred)\n",
    "        scors += score\n",
    "    return scors/SPLITS"
   ]
  },
  {
   "cell_type": "code",
   "execution_count": 606,
   "id": "48861a9d",
   "metadata": {},
   "outputs": [],
   "source": [
    "# параметры подбора параметров\n",
    "optuna.logging.set_verbosity(optuna.logging.WARNING)\n",
    "study = optuna.create_study(study_name=\"catboost\", direction=\"maximize\")\n",
    "study.optimize(objective, n_trials=50)"
   ]
  },
  {
   "cell_type": "code",
   "execution_count": 607,
   "id": "81218bef",
   "metadata": {
    "code_folding": [],
    "scrolled": true
   },
   "outputs": [
    {
     "name": "stdout",
     "output_type": "stream",
     "text": [
      "Результаты подборы параметров:\n",
      "  Accuracy:  0.6460699479738173\n",
      "  Params: \n",
      "    learning_rate: 0.017264554033147615\n",
      "    depth: 5\n",
      "    l2_leaf_reg: 99.08918240933248\n",
      "    bootstrap_type: Bernoulli\n"
     ]
    }
   ],
   "source": [
    "# вывод результатов \n",
    "print(\"Результаты подборы параметров:\")\n",
    "trial = study.best_trial\n",
    "print(\"  Accuracy: \", trial.value)\n",
    "print(\"  Params: \")\n",
    "for key, value in trial.params.items():\n",
    "    print(\"    {}: {}\".format(key, value))"
   ]
  },
  {
   "cell_type": "markdown",
   "id": "1848d232",
   "metadata": {},
   "source": [
    "## CatBoost модель с лучшими гиперпараметрами"
   ]
  },
  {
   "cell_type": "code",
   "execution_count": 608,
   "id": "6e77a43a",
   "metadata": {},
   "outputs": [],
   "source": [
    "# модель с оптимальными параметрами\n",
    "model_cb = CatBoostClassifier(**trial.params, verbose=False, random_state=RANDOM_SEED)"
   ]
  },
  {
   "cell_type": "code",
   "execution_count": 609,
   "id": "22e03826",
   "metadata": {
    "scrolled": true
   },
   "outputs": [
    {
     "name": "stdout",
     "output_type": "stream",
     "text": [
      "Метрики CatBoost:\n",
      "Accuracy: 0.65\n",
      "Precision: 0.69\n",
      "Recall: 0.47\n"
     ]
    }
   ],
   "source": [
    "accuracy_cb = 0\n",
    "precision_cb = 0\n",
    "recall_cb = 0\n",
    "for train_fold_index, val_fold_index in cv_kfold.split(X_train):\n",
    "    features_train_fold, target_train_fold = X_train.iloc[train_fold_index], y_train.iloc[train_fold_index]\n",
    "    features_val_fold, target_val_fold = X_train.iloc[val_fold_index], y_train.iloc[val_fold_index]\n",
    "        \n",
    "    # train pool\n",
    "    train = Pool(data=features_train_fold,\n",
    "                 label=target_train_fold,\n",
    "                 cat_features=categorical_columns\n",
    "                 )\n",
    "    # validation pool\n",
    "    valid = Pool(data=features_val_fold,\n",
    "                 cat_features=categorical_columns\n",
    "                )\n",
    "    # обучение модели\n",
    "    model_cb.fit(train)\n",
    "    # предсказание\n",
    "    pred = model_cb.predict(valid)\n",
    "    \n",
    "    accuracy_cb += accuracy_score(target_val_fold, pred)\n",
    "    precision_cb += precision_score(target_val_fold, pred)\n",
    "    recall_cb += recall_score(target_val_fold, pred, average='binary')\n",
    "# финальные метрики\n",
    "accuracy_cb /= SPLITS\n",
    "precision_cb /= SPLITS\n",
    "recall_cb /= SPLITS\n",
    "# вывод результатов\n",
    "print(f'''Метрики CatBoost:\n",
    "Accuracy: {round(accuracy_cb, 2)}\n",
    "Precision: {round(precision_cb, 2)}\n",
    "Recall: {round(recall_cb, 2)}''')"
   ]
  },
  {
   "cell_type": "code",
   "execution_count": null,
   "id": "a18fe588",
   "metadata": {},
   "outputs": [],
   "source": [
    "# обучение модели на всех тренировочных данных\n",
    "\n",
    "# train pool\n",
    "train = Pool(data=X_train,\n",
    "             label=y_train,\n",
    "             cat_features=categorical_columns\n",
    "             )\n",
    "# итоговая модель CatBoost\n",
    "model_cb.fit(train)"
   ]
  },
  {
   "cell_type": "markdown",
   "id": "f7192d9d",
   "metadata": {},
   "source": [
    "- Успешно подобраны гиперпараметры для модели на основе CatBoost.\n",
    "- Метрики качества модели, на выборке для обучения, при кроссвалидации:\n",
    "    - Accuracy: 0.65\n",
    "    - Precision: 0.69\n",
    "    - Recall: 0.49"
   ]
  },
  {
   "cell_type": "markdown",
   "id": "a3ce77c3",
   "metadata": {},
   "source": [
    "<div style=\"padding:0px 20px 10px; \n",
    "            color:#004346;\n",
    "            font-size:15px;\n",
    "            display:fill;\n",
    "            text-align:center;\n",
    "            border-radius:20px;\n",
    "            border: 5px double;\n",
    "            border-color:#201E20;\n",
    "            background-color: #E8F1F2;\n",
    "            overflow:hidden;\n",
    "            font-weight:400\"> \n",
    "\n",
    "## Нейросеть PyTorch\n",
    "</div>"
   ]
  },
  {
   "cell_type": "markdown",
   "id": "7fceadfe",
   "metadata": {},
   "source": [
    "Для обучения данной модели необходима предварительная обработка данных:\n",
    "- OneHotEncoder для категориальных признаков\n",
    "- Масштабированые числовых признаков"
   ]
  },
  {
   "cell_type": "markdown",
   "id": "3f9a2cee",
   "metadata": {},
   "source": [
    "### Подготовка данных"
   ]
  },
  {
   "cell_type": "code",
   "execution_count": 773,
   "id": "b9096b96",
   "metadata": {},
   "outputs": [
    {
     "name": "stdout",
     "output_type": "stream",
     "text": [
      "Размерность X_train_tensor: torch.Size([69833, 31]) - torch.float32\n",
      "Размерность X_test_tensor: torch.Size([23278, 31]) - torch.float32\n",
      "Размерность y_train_tensor: torch.Size([69833]) - torch.float32\n",
      "Размерность y_test_tensor: torch.Size([23278]) - torch.float32\n"
     ]
    }
   ],
   "source": [
    "# маштабирование входных данных\n",
    "X_train_transform = col_transformer_ohe.fit_transform(X_train)\n",
    "X_test_transform = col_transformer_ohe.transform(X_test)\n",
    "# преобразование разреженной матрицы в массив NumPy\n",
    "X_train_array = X_train_transform.toarray()\n",
    "X_test_array = X_test_transform.toarray()\n",
    "# преобразование матриц в тензоры\n",
    "X_train_tensor = torch.from_numpy(X_train_array).to(torch.float32)\n",
    "X_test_tensor = torch.from_numpy(X_test_array).to(torch.float32)\n",
    "y_train_tensor = torch.Tensor(y_train.values)\n",
    "y_test_tensor = torch.Tensor(y_test.values)\n",
    "# проверка размерности и типа данных тензоров\n",
    "for x in ['X_train_tensor', 'X_test_tensor', 'y_train_tensor', 'y_test_tensor']:\n",
    "    print(f'Размерность {x}: {globals()[x].shape} - {globals()[x].dtype}')"
   ]
  },
  {
   "cell_type": "markdown",
   "id": "251f4f5a",
   "metadata": {},
   "source": [
    "- Для создания пакетов (batch) используем Dataloader, предоставляющий удобный способ загрузки и предварительной обработки данных во время обучения моделей машинного обучения. Данный компонент PyTorch позволяет настраивать различные параметры для загрузки данных, такие как размер пакета (batch size), количество рабочих процессов для параллельной загрузки данных (num_workers), случайное перемешивание данных (shuffle) "
   ]
  },
  {
   "cell_type": "code",
   "execution_count": 693,
   "id": "821886a4",
   "metadata": {},
   "outputs": [],
   "source": [
    "# класс для создания пакетов обучения\n",
    "class Batch(Dataset):\n",
    "  def __init__(self, data, labels):\n",
    "    self.labels = labels\n",
    "    self.data = data\n",
    "\n",
    "  def __len__(self):\n",
    "    return len(self.labels)\n",
    "\n",
    "  def __getitem__(self, idx):\n",
    "    label = self.labels[idx]\n",
    "    data = self.data[idx]\n",
    "    sample = {'data': data, 'at_fault': label}\n",
    "    return sample"
   ]
  },
  {
   "cell_type": "code",
   "execution_count": 694,
   "id": "dbe6be3e",
   "metadata": {},
   "outputs": [],
   "source": [
    "# DataLoader выборки\n",
    "dataset_train = Batch(X_train_tensor, y_train_tensor)\n",
    "dataset_test = Batch(X_test_tensor, y_test_tensor)"
   ]
  },
  {
   "cell_type": "markdown",
   "id": "57cd1420",
   "metadata": {},
   "source": [
    "### Архитектура нейронной сети\n",
    "\n",
    "1 Входной слой:\n",
    "\n",
    "   - Размерность входных данных определяется переменной input_size и равен количеству признаков.\n",
    "   - Этот слой представлен в виде линейного слоя (nn.Linear), который принимает входные данные и производит линейную трансформацию с помощью весов и смещения.\n",
    "   \n",
    "2 Скрытые слои:\n",
    "\n",
    "   - В данной архитектуре нейронной сети используем четыре скрытых слоя.\n",
    "   - Каждый скрытый слой состоит из линейного слоя (nn.Linear), за которым следует функция активации.\n",
    "   - Функции активации, используемые в этой архитектуре, определяются переменными activation_1, activation_2, activation_3, activation_4.\n",
    "   - Добавление техники регуляризации Dropout, поможет улучшить обобщающую способность нейронной сети и снизит риск переобучения, вероятности выключения нейронов в слоях определяются переменными drop_1, drop_2, drop_3, drop_4. В baseline-модели данную технику применим только к первому слою, затем подберем оптимальные параметры для этого и остальных слоев.\n",
    "   - Размеры скрытого слоя определяются переменными hidden_size_1, hidden_size_2, hidden_size_3, hidden_size_4.\n",
    "   \n",
    "3 Выходной слой:\n",
    "\n",
    "   - Выходной слой представлен линейным слоем (nn.Linear), который преобразует выходные значения скрытых слоев в одно значение.\n",
    "   - В данном случае, поскольку решается задача бинарной классификации, выходной слой имеет размерность 1 и задается переменной output_size.\n",
    "   \n",
    "4 Инициализация весов:\n",
    "   - Инициализацию весов будем производить с помощью метода Kaiming, что может помочь ускорить процесс обучения и предотвратить затухания/взрыва градиента."
   ]
  },
  {
   "cell_type": "code",
   "execution_count": 716,
   "id": "bdadc092",
   "metadata": {},
   "outputs": [],
   "source": [
    "# определение архитектуры нейронной сети\n",
    "class Baseline(nn.Module):\n",
    "    def __init__(self, input_size, hidden_size_1, hidden_size_2, hidden_size_3, hidden_size_4, output_size,\n",
    "                 drop_1, drop_2, drop_3, drop_4,\n",
    "                 activation_1, activation_2, activation_3, activation_4):\n",
    "        super(Baseline, self).__init__()\n",
    "        \n",
    "        self.fc1 = nn.Linear(input_size, hidden_size_1)\n",
    "        self.act1 = activation_1\n",
    "        self.drop1 = nn.Dropout(drop_1)\n",
    "        \n",
    "        self.fc2 = nn.Linear(hidden_size_1, hidden_size_2)\n",
    "        self.act2 = activation_2\n",
    "        self.drop2 = nn.Dropout(drop_2)\n",
    "        \n",
    "        self.fc3 = nn.Linear(hidden_size_2, hidden_size_3)\n",
    "        self.act3 = activation_3\n",
    "        self.drop3 = nn.Dropout(drop_3)\n",
    "        \n",
    "        self.fc4 = nn.Linear(hidden_size_3, hidden_size_4)\n",
    "        self.act4 = activation_4\n",
    "        self.drop4 = nn.Dropout(drop_4)\n",
    "        \n",
    "        self.fc5 = nn.Linear(hidden_size_4, output_size)\n",
    "        \n",
    "        self.init_weights()\n",
    "        \n",
    "    def forward(self, x):\n",
    "        x = self.drop1(self.act1(self.fc1(x)))\n",
    "        x = self.drop2(self.act2(self.fc2(x)))\n",
    "        x = self.drop3(self.act3(self.fc3(x)))\n",
    "        x = self.drop4(self.act4(self.fc4(x)))\n",
    "        x = self.fc5(x)\n",
    "        return x\n",
    "    \n",
    "    def init_weights(m):\n",
    "        if isinstance(m, nn.Linear):\n",
    "            torch.nn.init.kaiming_normal_(m.weight)\n",
    "            m.bias.data.fill_(0.01)"
   ]
  },
  {
   "cell_type": "markdown",
   "id": "d12d8460",
   "metadata": {},
   "source": [
    "#### Ранняя остановка\n",
    "\n",
    "Чтобы не подбирать коливо эпох и при этом избежать переобучения, воспользуемся ранней остановкой, для этого напишем класс для ее реализации."
   ]
  },
  {
   "cell_type": "code",
   "execution_count": 717,
   "id": "9b7c14b0",
   "metadata": {},
   "outputs": [],
   "source": [
    "class CustomEarlyStopping():\n",
    "    \"\"\"\n",
    "    Ранняя остановка: остановить тренировку, если функция потерь не улучшается после определенного количества эпох.\n",
    "    \"\"\"\n",
    "    def __init__(self, patience=5, min_delta=0):\n",
    "        \"\"\"\n",
    "        :param patience: сколько эпох ждать, прежде чем остановиться\n",
    "        :param min_delta: минимальная разница функций потерь для активации param patience\n",
    "        \"\"\"\n",
    "        self.patience = patience\n",
    "        self.min_delta = min_delta\n",
    "        self.counter = 0\n",
    "        self.best_loss = None\n",
    "        self.early_stop = False\n",
    "\n",
    "    def __call__(self, val_loss):\n",
    "        if self.best_loss is None:\n",
    "            self.best_loss = val_loss\n",
    "        elif self.best_loss - val_loss > self.min_delta:  # обновление значения функция потерь при улучшении\n",
    "            self.best_loss = val_loss \n",
    "            self.counter = 0\n",
    "        elif self.best_loss - val_loss < self.min_delta:  # счетчик patience при ухудшении функция потерь\n",
    "            self.counter += 1\n",
    "            if self.counter >= self.patience:\n",
    "                print(f'INFO: Ранняя остановка. Счетчик: {self.counter}/{self.patience}')\n",
    "                self.early_stop = True  # остановка обучения при достижении максимума счетсика patience"
   ]
  },
  {
   "cell_type": "markdown",
   "id": "b2b8911b",
   "metadata": {},
   "source": [
    "### Baseline-модель нейронной сети"
   ]
  },
  {
   "cell_type": "code",
   "execution_count": 627,
   "id": "2de2f1a9",
   "metadata": {},
   "outputs": [],
   "source": [
    "# параметры Baseline нейронной сети\n",
    "\n",
    "# размер слоев\n",
    "input_size = X_train_tensor.shape[1]  \n",
    "hidden_size_1 = 50  \n",
    "hidden_size_2 = 40  \n",
    "hidden_size_3 = 5  \n",
    "hidden_size_4 = 45  \n",
    "output_size = 1 \n",
    "# функции активации\n",
    "activation_1 = nn.ReLU()\n",
    "activation_2 = nn.Tanh()\n",
    "activation_3 = nn.ReLU()\n",
    "activation_4 = nn.LeakyReLU()\n",
    "# вероятности выключения нейроны в слое\n",
    "drop_1 = 0.1\n",
    "drop_2 = 0.0\n",
    "drop_3 = 0.0\n",
    "drop_4 = 0.0\n",
    "\n",
    "learning_rate = 0.001  # скорость обучения\n",
    "n_epochs = 1000  # количество эпох обучения\n",
    "batch_size = 500  # размер пакета"
   ]
  },
  {
   "cell_type": "code",
   "execution_count": 628,
   "id": "78b7a245",
   "metadata": {},
   "outputs": [],
   "source": [
    "# экземпляр нейронной сети\n",
    "model = Baseline(input_size, hidden_size_1, hidden_size_2, hidden_size_3, hidden_size_4, output_size,\n",
    "                 drop_1, drop_2, drop_3, drop_4,\n",
    "                 activation_1, activation_2, activation_3, activation_4)\n",
    "# функция потерь\n",
    "loss = nn.BCEWithLogitsLoss()\n",
    "# оптимизатор\n",
    "optimizer = optim.Adam(model.parameters(), lr=learning_rate)\n",
    "# пакеты (batch)\n",
    "train_dataloader = DataLoader(dataset_train, batch_size=batch_size, shuffle=True,\n",
    "                              num_workers=0)\n",
    "test_dataloader = DataLoader(dataset_test, batch_size=batch_size, num_workers=0)"
   ]
  },
  {
   "cell_type": "markdown",
   "id": "c39c8f1f",
   "metadata": {},
   "source": [
    "__Функция для обучения__"
   ]
  },
  {
   "cell_type": "code",
   "execution_count": 681,
   "id": "5acb4076",
   "metadata": {},
   "outputs": [],
   "source": [
    "def train(model, train_dataloader, test_dataloader, optimizer, loss, n_epochs, patience, min_delta):\n",
    "    result = {'train_loss': [], 'test_loss': [], 'accuracy': [], 'precision': [], 'recall': [],\n",
    "              'best_epoch': None, 'stopping_epoch': None, 'best_model': None}\n",
    "\n",
    "    early_stopping = CustomEarlyStopping(patience, min_delta)\n",
    "\n",
    "    for epoch in range(n_epochs):\n",
    "        # обучение\n",
    "        model.train()\n",
    "        total_loss_train = 0.0\n",
    "\n",
    "        for batch in train_dataloader:\n",
    "            data = batch['data']\n",
    "            label_train = batch['at_fault']\n",
    "            label_train = label_train.unsqueeze(1)\n",
    "\n",
    "            optimizer.zero_grad()\n",
    "\n",
    "            predictions = model(data)\n",
    "            loss_value = loss(predictions, label_train.float())  \n",
    "            total_loss_train += loss_value.item()\n",
    "\n",
    "            loss_value.backward()\n",
    "            optimizer.step()\n",
    "\n",
    "        train_loss = total_loss_train / len(train_dataloader)\n",
    "        result['train_loss'].append(train_loss)\n",
    "\n",
    "        # тестирование\n",
    "        model.eval()\n",
    "        total_loss_test = 0.0\n",
    "        total_accuracy_test = 0.0\n",
    "        total_precision_test = 0.0\n",
    "        total_recall_test = 0.0\n",
    "        \n",
    "        with torch.no_grad():  # отключение вычисления градиентов\n",
    "            for batch in test_dataloader:\n",
    "                data = batch['data']\n",
    "                label_test = batch['at_fault']\n",
    "                label_test = label_test.unsqueeze(1)\n",
    "\n",
    "                predictions = model(data)\n",
    "                loss_value = loss(predictions, label_test.float())\n",
    "                total_loss_test += loss_value.item()\n",
    "                \n",
    "                binary_predictions = (predictions >= 0.5).int()\n",
    "                total_accuracy_test += accuracy_score(label_test, binary_predictions)\n",
    "                total_precision_test += precision_score(label_test, binary_predictions, zero_division=1, average='binary')\n",
    "                total_recall_test += recall_score(label_test, binary_predictions, zero_division=1, average='binary')\n",
    "                \n",
    "        test_loss = total_loss_test / len(test_dataloader)\n",
    "        result['test_loss'].append(test_loss)\n",
    "        \n",
    "        result['accuracy'].append(total_accuracy_test / len(test_dataloader))\n",
    "        result['precision'].append(total_precision_test / len(test_dataloader))\n",
    "        result['recall'].append(total_recall_test / len(test_dataloader))\n",
    "\n",
    "        if epoch % 10 == 0 or epoch == n_epochs - 1:\n",
    "            print(f'Epoch: {epoch} Train Loss: {train_loss:.4f} Test Loss: {test_loss:.4f} Accuracy: {result[\"accuracy\"][-1]:.2f}')\n",
    "\n",
    "        early_stopping(test_loss)\n",
    "        if early_stopping.counter == 1:\n",
    "            result['best_model'] = model\n",
    "        if early_stopping.early_stop:\n",
    "            result['best_epoch'] = epoch - patience\n",
    "            result['stopping_epoch'] = epoch\n",
    "            print(f\"Best epoch: {epoch - patience} Train Loss: {result['train_loss'][-patience]:.4f} Test Loss: {result['test_loss'][-patience]:.4f}\")\n",
    "            print(f\"Accuracy: {result['accuracy'][-patience]:.2f} Precision: {result['precision'][-patience]:.2f} Recall: {result['recall'][-patience]:.2f}\")\n",
    "            break\n",
    "        if epoch == n_epochs - 1:\n",
    "            result['best_epoch'] = epoch\n",
    "            result['stopping_epoch'] = epoch\n",
    "            print(f\"Best epoch: {epoch} Train Loss: {result['train_loss'][-1]:.4f} Test Loss: {result['test_loss'][-1]:.4f}\")\n",
    "            print(f\"Accuracy: {result['accuracy'][-1]:.2f} Precision: {result['precision'][-1]:.2f} Recall: {result['recall'][-1]:.2f}\")\n",
    "\n",
    "    return result"
   ]
  },
  {
   "cell_type": "code",
   "execution_count": 630,
   "id": "0fa6f42b",
   "metadata": {},
   "outputs": [
    {
     "name": "stdout",
     "output_type": "stream",
     "text": [
      "Epoch: 0 Train Loss: 0.6501 Test Loss: 0.6218 Accuracy: 0.62\n",
      "Epoch: 10 Train Loss: 0.6150 Test Loss: 0.6142 Accuracy: 0.63\n",
      "Epoch: 20 Train Loss: 0.6133 Test Loss: 0.6149 Accuracy: 0.64\n",
      "Epoch: 30 Train Loss: 0.6122 Test Loss: 0.6150 Accuracy: 0.63\n",
      "INFO: Ранняя остановка. Счетчик: 20/20\n",
      "Best epoch: 12 Train Loss: 0.6143 Test Loss: 0.6151\n",
      "Accuracy: 0.63 Precision: 0.80 Recall: 0.31\n"
     ]
    }
   ],
   "source": [
    "# обучение и сохранение результатов\n",
    "result = train(model=model,\n",
    "               train_dataloader=train_dataloader,\n",
    "               test_dataloader=test_dataloader,\n",
    "               optimizer=optimizer,\n",
    "               loss=loss,\n",
    "               n_epochs=n_epochs,\n",
    "               patience=20,\n",
    "               min_delta=0)"
   ]
  },
  {
   "cell_type": "markdown",
   "id": "2916dbd0",
   "metadata": {},
   "source": [
    "- Метрики качества Baseline-модель нейронной сети:\n",
    "    - Accuracy: 0.63\n",
    "    - Precision: 0.80\n",
    "    - Recall: 0.31"
   ]
  },
  {
   "cell_type": "markdown",
   "id": "d28dd6cd",
   "metadata": {},
   "source": [
    "__График процесса обучения__"
   ]
  },
  {
   "cell_type": "code",
   "execution_count": 633,
   "id": "16c09bfa",
   "metadata": {},
   "outputs": [
    {
     "data": {
      "image/png": "[encoded data removed]",
      "text/plain": [
       "<Figure size 800x400 with 1 Axes>"
      ]
     },
     "metadata": {},
     "output_type": "display_data"
    }
   ],
   "source": [
    "plt.figure(figsize=(8, 4))\n",
    "plt.plot(result['train_loss'], color='green', label='Train loss')\n",
    "plt.plot(result['test_loss'], color='blue', label='Test loss')\n",
    "\n",
    "# отметка Best epoch\n",
    "plt.axvline(x=result['best_epoch'], color='y', linestyle='--', label='Best epoch')\n",
    "# отметка Stopping train\n",
    "plt.axvline(x=result['stopping_epoch'], color='red', linestyle='--', label='Stopping fit')\n",
    "\n",
    "plt.title('Визуализация процесса обучения:')\n",
    "plt.xlabel('Epochs')\n",
    "plt.ylabel('Loss function')\n",
    "plt.legend(loc='best')\n",
    "plt.show()"
   ]
  },
  {
   "cell_type": "markdown",
   "id": "3558b5d3",
   "metadata": {},
   "source": [
    "### Подбор оптимальных параметров\n",
    "- Для подбора оптимальных параметров используем __optuna__"
   ]
  },
  {
   "cell_type": "code",
   "execution_count": 700,
   "id": "f5b0f5f7",
   "metadata": {},
   "outputs": [],
   "source": [
    "y_train_tensor = y_train_tensor.view(-1, 1)\n",
    "# функция для подбора параметров с помощью Optuna\n",
    "def objective(trial):\n",
    "    \n",
    "    # dropout\n",
    "    drop_1 = trial.suggest_float('module__drop_1', 0.0, 0.5, step=0.1)\n",
    "    drop_2 = trial.suggest_float('module__drop_2', 0.0, 0.5, step=0.1)\n",
    "    drop_3 = trial.suggest_float('module__drop_3', 0.0, 0.5, step=0.1)\n",
    "    drop_4 = trial.suggest_float('module__drop_4', 0.0, 0.5, step=0.1)\n",
    "\n",
    "    # функции активации\n",
    "    activation_dict = {'nn.LeakyReLU()': nn.LeakyReLU(),\n",
    "                       'nn.ReLU()': nn.ReLU(),\n",
    "                       'nn.Tanh()': nn.Tanh(),\n",
    "                       'nn.ELU()': nn.ELU(),\n",
    "                       'nn.Sigmoid()': nn.Sigmoid()\n",
    "                      }\n",
    "\n",
    "    activation_1 = trial.suggest_categorical('module__activation_1', ['nn.LeakyReLU()', 'nn.ReLU()', 'nn.Tanh()', 'nn.ELU()', 'nn.Sigmoid()'])\n",
    "    activation_2 = trial.suggest_categorical('module__activation_2', ['nn.LeakyReLU()', 'nn.ReLU()', 'nn.Tanh()', 'nn.ELU()', 'nn.Sigmoid()'])\n",
    "    activation_3 = trial.suggest_categorical('module__activation_3', ['nn.LeakyReLU()', 'nn.ReLU()', 'nn.Tanh()', 'nn.ELU()', 'nn.Sigmoid()'])\n",
    "    activation_4 = trial.suggest_categorical('module__activation_4', ['nn.LeakyReLU()', 'nn.ReLU()', 'nn.Tanh()', 'nn.ELU()', 'nn.Sigmoid()'])\n",
    "\n",
    "    activation_1 = activation_dict.get(activation_1)\n",
    "    activation_2 = activation_dict.get(activation_2)\n",
    "    activation_3 = activation_dict.get(activation_3)\n",
    "    activation_4 = activation_dict.get(activation_4)\n",
    "\n",
    "    # количество нейронов\n",
    "    input_size = X_train_tensor.shape[1] \n",
    "    output_size = 1\n",
    "\n",
    "    hidden_size_1 = trial.suggest_int('module__hidden_size_1', 5, 80, step=5)\n",
    "    hidden_size_2 = trial.suggest_int('module__hidden_size_2', 5, 80, step=5)\n",
    "    hidden_size_3 = trial.suggest_int('module__hidden_size_3', 5, 80, step=5)\n",
    "    hidden_size_4 = trial.suggest_int('module__hidden_size_4', 5, 80, step=5)\n",
    "\n",
    "    # скорость обучения\n",
    "    lr = trial.suggest_float('learning_rate', 1e-6, 1e-2, log=True)\n",
    "    \n",
    "    # размер пакета обучения\n",
    "    batch_size = trial.suggest_int('batch_size', 5, 1005, step=50)\n",
    "    \n",
    "    # модель\n",
    "    model_base = Baseline(input_size, hidden_size_1, hidden_size_2, hidden_size_3, hidden_size_4, output_size,\n",
    "                          drop_1, drop_2, drop_3, drop_4,\n",
    "                          activation_1, activation_2, activation_3, activation_4)\n",
    "\n",
    "    # функция потерь\n",
    "    loss = nn.BCEWithLogitsLoss() \n",
    "\n",
    "    # количество шагов до остановки обучения\n",
    "    patience = trial.suggest_int('patience', 10, 60, step=5)\n",
    "\n",
    "    # параметры подбора параметров модели\n",
    "    skorch_classifier = NeuralNetClassifier(module=model_base,\n",
    "                                            device='cpu',\n",
    "                                            verbose=0,\n",
    "                                            batch_size=batch_size,\n",
    "                                            optimizer=torch.optim.Adam,\n",
    "                                            max_epochs=500,\n",
    "                                            lr=lr,\n",
    "                                            train_split=ValidSplit(cv=4),\n",
    "                                            criterion=loss,\n",
    "                                            callbacks=[\n",
    "                                                ('val_acc', EpochScoring(scoring='accuracy', lower_is_better=False, name='val_acc')),\n",
    "                                                ('estopper', EarlyStopping(lower_is_better=True, monitor='val_acc', patience=patience))\n",
    "                                            ]\n",
    "                                           )\n",
    "\n",
    "    # перекрестная проверка\n",
    "    accuracy = cross_val_score(skorch_classifier, X_train_tensor.numpy().astype('float32'),\n",
    "                           y_train_tensor.numpy().astype('float32'),\n",
    "                           n_jobs=-1,\n",
    "                           cv=4,\n",
    "                           scoring='accuracy')\n",
    "\n",
    "    return 1 - accuracy.mean()  # Optuna минимизирует целевую функцию, поэтому используем (1 - accuracy)\n"
   ]
  },
  {
   "cell_type": "code",
   "execution_count": 701,
   "id": "cd3eb063",
   "metadata": {},
   "outputs": [],
   "source": [
    "# оптимизация с помощью Optuna\n",
    "study = optuna.create_study(direction='minimize')\n",
    "study.optimize(objective, n_trials=100)"
   ]
  },
  {
   "cell_type": "code",
   "execution_count": 703,
   "id": "d02d7f14",
   "metadata": {},
   "outputs": [
    {
     "data": {
      "text/plain": [
       "'Оптимальные параметры:'"
      ]
     },
     "metadata": {},
     "output_type": "display_data"
    },
    {
     "data": {
      "text/plain": [
       "{'module__drop_1': 0.0,\n",
       " 'module__drop_2': 0.1,\n",
       " 'module__drop_3': 0.0,\n",
       " 'module__drop_4': 0.4,\n",
       " 'module__activation_1': 'nn.LeakyReLU()',\n",
       " 'module__activation_2': 'nn.ELU()',\n",
       " 'module__activation_3': 'nn.Tanh()',\n",
       " 'module__activation_4': 'nn.LeakyReLU()',\n",
       " 'module__hidden_size_1': 55,\n",
       " 'module__hidden_size_2': 15,\n",
       " 'module__hidden_size_3': 45,\n",
       " 'module__hidden_size_4': 10,\n",
       " 'learning_rate': 0.0009390703042383691,\n",
       " 'batch_size': 905,\n",
       " 'patience': 15}"
      ]
     },
     "metadata": {},
     "output_type": "display_data"
    }
   ],
   "source": [
    "# оптимальные параметры\n",
    "best_params = study.best_trial.params\n",
    "display('Оптимальные параметры:', best_params)"
   ]
  },
  {
   "cell_type": "markdown",
   "id": "9a505cc3",
   "metadata": {},
   "source": [
    "__Проверка модели с оптимальными параметрами__"
   ]
  },
  {
   "cell_type": "code",
   "execution_count": 718,
   "id": "034ec045",
   "metadata": {},
   "outputs": [],
   "source": [
    "# инициализация оптимальных параметров\n",
    "activation_dict = {'nn.LeakyReLU()': nn.LeakyReLU(),\n",
    "                       'nn.ReLU()': nn.ReLU(),\n",
    "                       'nn.Tanh()': nn.Tanh(),\n",
    "                       'nn.ELU()': nn.ELU(),\n",
    "                       'nn.Sigmoid()': nn.Sigmoid()\n",
    "                      }\n",
    "\n",
    "input_size = X_train_tensor.shape[1]  \n",
    "output_size = 1\n",
    "\n",
    "hidden_size_1 = best_params['module__hidden_size_1']\n",
    "hidden_size_2 = best_params['module__hidden_size_2']\n",
    "hidden_size_3 = best_params['module__hidden_size_3']\n",
    "hidden_size_4 = best_params['module__hidden_size_4']\n",
    "\n",
    "drop_1 = round(best_params['module__drop_1'], 1)\n",
    "drop_2 = round(best_params['module__drop_2'], 1)\n",
    "drop_3 = round(best_params['module__drop_3'], 1)\n",
    "drop_4 = round(best_params['module__drop_4'], 1)\n",
    "\n",
    "activation_1 = best_params['module__activation_1']\n",
    "activation_2 = best_params['module__activation_2']\n",
    "activation_3 = best_params['module__activation_3']\n",
    "activation_4 = best_params['module__activation_4']\n",
    "\n",
    "activation_1 = activation_dict.get(activation_1)\n",
    "activation_2 = activation_dict.get(activation_2)\n",
    "activation_3 = activation_dict.get(activation_3)\n",
    "activation_4 = activation_dict.get(activation_4)\n",
    "\n",
    "learning_rate = best_params['learning_rate']\n",
    "\n",
    "batch_size = best_params['batch_size']\n",
    "\n",
    "patience = best_params['patience']\n",
    "\n",
    "n_epochs = 1000"
   ]
  },
  {
   "cell_type": "code",
   "execution_count": 719,
   "id": "b06067cc",
   "metadata": {},
   "outputs": [],
   "source": [
    "# экземпляр нейронной сети\n",
    "model = Baseline(input_size, hidden_size_1, hidden_size_2, hidden_size_3, hidden_size_4, output_size,\n",
    "                      drop_1, drop_2, drop_3, drop_4,\n",
    "                      activation_1, activation_2, activation_3, activation_4)\n",
    "# функция потерь\n",
    "loss = nn.BCEWithLogitsLoss()\n",
    "# оптимизатор\n",
    "optimizer = optim.Adam(model.parameters(), lr=learning_rate)\n",
    "# пакеты (batch)\n",
    "train_dataloader = DataLoader(dataset_train, batch_size=batch_size, shuffle=True,\n",
    "                              num_workers=0)\n",
    "test_dataloader = DataLoader(dataset_test, batch_size=batch_size, num_workers=0)"
   ]
  },
  {
   "cell_type": "code",
   "execution_count": 720,
   "id": "849b2cc3",
   "metadata": {},
   "outputs": [
    {
     "name": "stdout",
     "output_type": "stream",
     "text": [
      "Epoch: 0 Train Loss: 0.6605 Test Loss: 0.6277 Accuracy: 0.62\n",
      "Epoch: 10 Train Loss: 0.6197 Test Loss: 0.6138 Accuracy: 0.63\n",
      "Epoch: 20 Train Loss: 0.6180 Test Loss: 0.6132 Accuracy: 0.64\n",
      "Epoch: 30 Train Loss: 0.6162 Test Loss: 0.6129 Accuracy: 0.63\n",
      "Epoch: 40 Train Loss: 0.6163 Test Loss: 0.6126 Accuracy: 0.64\n",
      "Epoch: 50 Train Loss: 0.6159 Test Loss: 0.6128 Accuracy: 0.64\n",
      "Epoch: 60 Train Loss: 0.6153 Test Loss: 0.6129 Accuracy: 0.64\n",
      "INFO: Ранняя остановка. Счетчик: 25/25\n",
      "Best epoch: 39 Train Loss: 0.6163 Test Loss: 0.6126\n",
      "Accuracy: 0.64 Precision: 0.80 Recall: 0.32\n"
     ]
    }
   ],
   "source": [
    "# обучение и сохранение результатов\n",
    "result_test = train(model=model,\n",
    "                    train_dataloader=train_dataloader,\n",
    "                    test_dataloader=test_dataloader,\n",
    "                    optimizer=optimizer,\n",
    "                    loss=loss,\n",
    "                    n_epochs=n_epochs,\n",
    "                    patience=patience,\n",
    "                    min_delta=0)\n"
   ]
  },
  {
   "cell_type": "code",
   "execution_count": 721,
   "id": "8f93384e",
   "metadata": {},
   "outputs": [],
   "source": [
    "# сохранение метрик качества\n",
    "accuracy_dl = round(result_test['accuracy'][-patience], 2)\n",
    "precision_dl = round(result_test['precision'][-patience], 2)\n",
    "recall_dl = round(result_test['recall'][-patience], 2)"
   ]
  },
  {
   "cell_type": "markdown",
   "id": "9b958c35",
   "metadata": {},
   "source": [
    "__График процесса обучения__"
   ]
  },
  {
   "cell_type": "code",
   "execution_count": 722,
   "id": "7815ab7b",
   "metadata": {},
   "outputs": [
    {
     "data": {
      "image/png": "[encoded data removed]",
      "text/plain": [
       "<Figure size 800x400 with 1 Axes>"
      ]
     },
     "metadata": {},
     "output_type": "display_data"
    }
   ],
   "source": [
    "plt.figure(figsize=(8, 4))\n",
    "plt.plot(result_test['train_loss'], color='green', label='Train loss')\n",
    "plt.plot(result_test['test_loss'], color='blue', label='Test loss')\n",
    "\n",
    "# отметка Best epoch\n",
    "plt.axvline(x=result_test['best_epoch'], color='y', linestyle='--', label='Best epoch')\n",
    "# отметка Stopping train\n",
    "plt.axvline(x=result_test['stopping_epoch'], color='red', linestyle='--', label='Stopping fit')\n",
    "\n",
    "plt.title('Визуализация процесса обучения:')\n",
    "plt.xlabel('Epochs')\n",
    "plt.ylabel('Loss function')\n",
    "plt.legend(loc='best')\n",
    "plt.show()"
   ]
  },
  {
   "cell_type": "markdown",
   "id": "a19ece80",
   "metadata": {},
   "source": [
    "- Метрики качества моделb нейронной сети:\n",
    "    - Accuracy: 0.64\n",
    "    - Precision: 0.80\n",
    "    - Recall: 0.32"
   ]
  },
  {
   "cell_type": "markdown",
   "id": "172dd9df",
   "metadata": {},
   "source": [
    "<div style=\"padding:0px 20px 10px; \n",
    "            color:#004346;\n",
    "            font-size:15px;\n",
    "            display:fill;\n",
    "            text-align:center;\n",
    "            border-radius:20px;\n",
    "            border: 5px double;\n",
    "            border-color:#201E20;\n",
    "            background-color: #E8F1F2;\n",
    "            overflow:hidden;\n",
    "            font-weight:400\"> \n",
    "\n",
    "## Сводная таблица метрик обучения моделей\n",
    "</div>"
   ]
  },
  {
   "cell_type": "code",
   "execution_count": 729,
   "id": "f32f665f",
   "metadata": {},
   "outputs": [
    {
     "data": {
      "text/html": [
       "<div>\n",
       "<style scoped>\n",
       "    .dataframe tbody tr th:only-of-type {\n",
       "        vertical-align: middle;\n",
       "    }\n",
       "\n",
       "    .dataframe tbody tr th {\n",
       "        vertical-align: top;\n",
       "    }\n",
       "\n",
       "    .dataframe thead th {\n",
       "        text-align: right;\n",
       "    }\n",
       "</style>\n",
       "<table border=\"1\" class=\"dataframe\">\n",
       "  <thead>\n",
       "    <tr style=\"text-align: right;\">\n",
       "      <th></th>\n",
       "      <th>Metrics</th>\n",
       "      <th>LogisticRegression</th>\n",
       "      <th>CatBoost</th>\n",
       "      <th>PyTorch_model</th>\n",
       "    </tr>\n",
       "  </thead>\n",
       "  <tbody>\n",
       "    <tr>\n",
       "      <th>0</th>\n",
       "      <td>Accuracy</td>\n",
       "      <td>0.63</td>\n",
       "      <td>0.65</td>\n",
       "      <td>0.64</td>\n",
       "    </tr>\n",
       "    <tr>\n",
       "      <th>1</th>\n",
       "      <td>Precision</td>\n",
       "      <td>0.76</td>\n",
       "      <td>0.69</td>\n",
       "      <td>0.80</td>\n",
       "    </tr>\n",
       "    <tr>\n",
       "      <th>2</th>\n",
       "      <td>Recall</td>\n",
       "      <td>0.42</td>\n",
       "      <td>0.47</td>\n",
       "      <td>0.32</td>\n",
       "    </tr>\n",
       "  </tbody>\n",
       "</table>\n",
       "</div>"
      ],
      "text/plain": [
       "     Metrics  LogisticRegression  CatBoost  PyTorch_model\n",
       "0   Accuracy                0.63      0.65           0.64\n",
       "1  Precision                0.76      0.69           0.80\n",
       "2     Recall                0.42      0.47           0.32"
      ]
     },
     "metadata": {},
     "output_type": "display_data"
    }
   ],
   "source": [
    "data = {\n",
    "    'Metrics': ['Accuracy', 'Precision', 'Recall'],\n",
    "    'LogisticRegression': [round(accuracy_lr, 2), round(precision_lr, 2), round(recall_lr, 2)],\n",
    "    'CatBoost': [round(accuracy_cb, 2), round(precision_cb, 2), round(recall_cb, 2)],\n",
    "    'PyTorch_model': [round(accuracy_dl, 2), round(precision_dl, 2), round(recall_dl, 2)]\n",
    "}\n",
    "display(pd.DataFrame(data))"
   ]
  },
  {
   "cell_type": "markdown",
   "id": "85ab0f6d",
   "metadata": {},
   "source": [
    "<div style=\"padding: 30px 25px; border: 2px #6495ed solid\">\n",
    "\n",
    "__Вывод:__\n",
    "\n",
    "- Все модели обладают не высокой способностью определять, клиентов, которые стали причиной ДТП.\n",
    "- Нашей основной целью является минимизация ложноотрицательных ответов модели (т.е., предсказание клиентов, которые стали причиной ДТП, но были определены моделью как 0), то в данной ситуации наилучший выбор, скорее всего, будет CatBoost:\n",
    "    - Высокий Recall:  Recall важен в данном контексте, поскольку он показывает, как много положительных объектов (виновников ДТП) модель обнаружила из всех положительных объектов в данных. CatBoost показывает Recall 0.47, что означает, что модель правильно определяет около 47% всех виновников ДТП.\n",
    "    - Относительно высокая точность: Несмотря на то, что Recall в CatBoost ниже, чем в PyTorch_model, его точность (Precision) также достаточно высока (0.69). Precision показывает, как много из всех объектов, которые модель предсказала как положительные, действительно являются положительными. Это важно, чтобы минимизировать ложноположительные ответы.\n",
    "\n",
    "</div>"
   ]
  },
  {
   "cell_type": "markdown",
   "id": "e4067b5a",
   "metadata": {},
   "source": [
    "<div style=\"padding:0px 20px 10px; \n",
    "            color:#004346;\n",
    "            font-size:15px;\n",
    "            display:fill;\n",
    "            text-align:center;\n",
    "            border-radius:20px;\n",
    "            border: 5px double;\n",
    "            border-color:#201E20;\n",
    "            background-color: #E8F1F2;\n",
    "            overflow:hidden;\n",
    "            font-weight:400\"> \n",
    "\n",
    "# Проверка модели на данных для тестирования\n",
    "</div>"
   ]
  },
  {
   "cell_type": "code",
   "execution_count": 734,
   "id": "868927df",
   "metadata": {},
   "outputs": [
    {
     "name": "stdout",
     "output_type": "stream",
     "text": [
      "Метрики CatBoost на тестовых данных:\n",
      "Accuracy: 0.66\n",
      "Precision: 0.7\n",
      "Recall: 0.49\n"
     ]
    }
   ],
   "source": [
    "# train pool\n",
    "test = Pool(data=X_test,\n",
    "            cat_features=categorical_columns\n",
    "            )\n",
    "    \n",
    "# предсказание\n",
    "pred = model_cb.predict(test)\n",
    "    \n",
    "accuracy = accuracy_score(y_test, pred)\n",
    "precision = precision_score(y_test, pred)\n",
    "recall = recall_score(y_test, pred, average='binary')\n",
    "\n",
    "# вывод результатов\n",
    "print(f'''Метрики CatBoost на тестовых данных:\n",
    "Accuracy: {round(accuracy, 2)}\n",
    "Precision: {round(precision, 2)}\n",
    "Recall: {round(recall, 2)}''')"
   ]
  },
  {
   "cell_type": "markdown",
   "id": "eb8d1625",
   "metadata": {},
   "source": [
    "- Метрики качества модели на тестовых данных подтверждают соответствие метрик, полученных на данных для обучения, что говорит о том, что модель адекватна и отсутствует переобучение.\n",
    "- Accuracy (Точность) составляет 0.66, что означает, что модель правильно классифицировала 66% тестовых данных.\n",
    "- Precision (Точность) составляет 0.7, что говорит о том, что из всех объектов, которые модель классифицировала как виновников ДТП, 70% действительно являются таковыми.\n",
    "- Recall (Полнота) равен 0.49, что означает, что модель обнаруживает 49% всех действительных виновников ДТП из всех положительных случаев."
   ]
  },
  {
   "cell_type": "markdown",
   "id": "baaff205",
   "metadata": {},
   "source": [
    "__Визуализация данных тестирования__"
   ]
  },
  {
   "cell_type": "code",
   "execution_count": 737,
   "id": "3348780e",
   "metadata": {},
   "outputs": [],
   "source": [
    "# получение матрицы ошибок\n",
    "cm = confusion_matrix(y_test, pred)"
   ]
  },
  {
   "cell_type": "code",
   "execution_count": 740,
   "id": "bbfae3c0",
   "metadata": {
    "scrolled": true
   },
   "outputs": [
    {
     "data": {
      "image/png": "[encoded data removed]",
      "text/plain": [
       "<Figure size 300x300 with 1 Axes>"
      ]
     },
     "metadata": {},
     "output_type": "display_data"
    }
   ],
   "source": [
    "# визуализация матрицы ошибок\n",
    "plt.figure(figsize=(3, 3))\n",
    "sns.heatmap(cm, annot=True, fmt=\"d\", cmap=\"Blues\", cbar=False)\n",
    "plt.xlabel(\"Предсказанные значения\")\n",
    "plt.ylabel(\"Истинные значения\")\n",
    "plt.title(\"Матрица ошибок\")\n",
    "plt.show()"
   ]
  },
  {
   "cell_type": "code",
   "execution_count": 745,
   "id": "799faae2",
   "metadata": {},
   "outputs": [
    {
     "data": {
      "image/png": "[encoded data removed]",
      "text/plain": [
       "<Figure size 400x300 with 1 Axes>"
      ]
     },
     "metadata": {},
     "output_type": "display_data"
    }
   ],
   "source": [
    "# визуализация Recall и Precision\n",
    "plt.figure(figsize=(4, 3))\n",
    "plt.bar(['Полнота (Recall)', 'Точность (Precision)'], [recall, precision], color=['teal', 'seagreen'])\n",
    "plt.ylim(0, 1)\n",
    "plt.ylabel('Значение')\n",
    "plt.title('Полнота и точность')\n",
    "plt.show()"
   ]
  },
  {
   "cell_type": "markdown",
   "id": "eb9b87fe",
   "metadata": {},
   "source": [
    "- Модель имеет неплохую точность (Precision) в предсказании виновников ДТП (при условии, что она предсказывает \"1\"), что может быть полезным, чтобы уменьшить количество ложно положительных предсказаний.\n",
    "- Однако, модель имеет относительно низкий Recall, что означает, что она не слишком хорошо обнаруживает реальных виновников ДТП (число ложно отрицательных предсказаний велико)."
   ]
  },
  {
   "cell_type": "markdown",
   "id": "16466649",
   "metadata": {},
   "source": [
    "### Анализ важности основных факторов\n",
    "\n",
    "Для анализа важности признаков и визуализации данных используем библиотеку SHAP (SHapley Additive exPlanations) "
   ]
  },
  {
   "cell_type": "code",
   "execution_count": 757,
   "id": "8027321d",
   "metadata": {},
   "outputs": [
    {
     "data": {
      "image/png": "[encoded data removed]",
      "text/plain": [
       "<Figure size 800x630 with 1 Axes>"
      ]
     },
     "metadata": {},
     "output_type": "display_data"
    }
   ],
   "source": [
    "# инициализация Explainer\n",
    "explainer = shap.Explainer(model_cb)\n",
    "\n",
    "# получение значений SHAP для тестовых данных\n",
    "shap_values = explainer.shap_values(X_test)\n",
    "\n",
    "# визуализация SHAP значений\n",
    "shap.summary_plot(shap_values, X_test, plot_type='bar', show=False, color='teal')\n",
    "plt.title('Важность признаков (SHAP)')\n",
    "plt.show()\n"
   ]
  },
  {
   "cell_type": "markdown",
   "id": "3bb7cfce",
   "metadata": {},
   "source": [
    "Как видно из графика, самым главным признаком, влияющий на фак аварии является `party_sobriety` - трезвость участника, при предобработки данных мы разделили записи в зависимости от степени опьянения. Посмотрим зависимость вероятности стать виновником ДТП от уровня опьянения:"
   ]
  },
  {
   "cell_type": "code",
   "execution_count": 770,
   "id": "0b4faa1c",
   "metadata": {},
   "outputs": [
    {
     "data": {
      "image/png": "[encoded data removed]",
      "text/plain": [
       "<Figure size 800x400 with 1 Axes>"
      ]
     },
     "metadata": {},
     "output_type": "display_data"
    }
   ],
   "source": [
    "# сводная таблица для среднего значения 'at_fault' по уровню опьянения 'party_sobriety'\n",
    "mean_at_fault = df.groupby('party_sobriety')['at_fault'].mean()\n",
    "\n",
    "# построение графика\n",
    "sns.set_style(\"whitegrid\")\n",
    "plt.figure(figsize=(8, 4))\n",
    "sns.lineplot(x=mean_at_fault.index, y=mean_at_fault.values, marker='o', color='b')\n",
    "plt.xlabel('Уровень опьянения (party_sobriety)')\n",
    "plt.ylabel('Среднее значение at_fault')\n",
    "plt.title('Зависимость вероятности стать виновником ДТП от уровня опьянения')\n",
    "plt.xticks(mean_at_fault.index)\n",
    "plt.show()"
   ]
  },
  {
   "cell_type": "markdown",
   "id": "baf791eb",
   "metadata": {},
   "source": [
    "<div style=\"padding: 30px 25px; border: 2px #6495ed solid\">\n",
    "\n",
    "__Вывод:__\n",
    "\n",
    "Из графика видно, что с увеличением уровня опьянения (от 0 до 3) вероятность стать виновником ДТП увеличивается. Чем выше уровень опьянения, тем больше вероятность попадания в аварию, где водитель считается виновным.\n",
    "\n",
    "Чтобы учесть этот фактор во время посадки водителя, можно использовать различные технические средства и системы, такие как:\n",
    "\n",
    "- Алкотестеры: Установка алкотестеров в автомобиле позволит водителю проверить свой уровень опьянения перед поездкой и принять решение о том, стоит ли ему садиться за руль.\n",
    "\n",
    "- Автоматические системы блокировки двигателя: Эти системы могут быть настроены на блокировку двигателя, если уровень опьянения водителя превышает определенный уровень.\n",
    "\n",
    "- Интеллектуальные сенсоры и системы мониторинга: Можно разработать системы, которые будут контролировать поведение водителя и выдавать предупреждения или автоматически предпринимать меры, если обнаружится признак опьянения.\n",
    "\n",
    "- Системы предупреждения о состоянии водителя: Использование камер и сенсоров для мониторинга поведения водителя и выявления признаков усталости или опьянения.\n",
    "\n",
    "Эти технологии и системы могут помочь снизить вероятность аварий, связанных с опьянением водителей, и повысить безопасность дорожного движения. Однако следует помнить, что самое эффективное средство предотвращения аварий - это не садиться за руль в состоянии опьянения.\n",
    "\n",
    "</div>"
   ]
  },
  {
   "cell_type": "markdown",
   "id": "d2c3d823",
   "metadata": {},
   "source": [
    "<div style=\"padding:0px 20px 10px; \n",
    "            color:#004346;\n",
    "            font-size:15px;\n",
    "            display:fill;\n",
    "            text-align:center;\n",
    "            border-radius:20px;\n",
    "            border: 5px double;\n",
    "            border-color:#201E20;\n",
    "            background-color: #E8F1F2;\n",
    "            overflow:hidden;\n",
    "            font-weight:400\"> \n",
    "\n",
    "# Вывод\n",
    "</div>"
   ]
  },
  {
   "cell_type": "markdown",
   "id": "b305eb8e",
   "metadata": {},
   "source": [
    "В ходе анализа и построения моделей для предсказания столкновений на дороге и определения виновников ДТП, были рассмотрены три различные модели: Logistic Regression, CatBoost и PyTorch модель. Каждая из этих моделей основана на различных алгоритмах машинного обучения.\n",
    "\n",
    "\n",
    "Лучшей моделью для предсказания виновников ДТП оказалась модель CatBoost. Она продемонстрировала наибольшую точность предсказания среди всех рассмотренных моделей, а именно:\n",
    "\n",
    "- Accuracy: 0.66\n",
    "- Precision: 0.7\n",
    "- Recall: 0.49\n",
    "\n",
    "Эти метрики говорят о том, что модель способна правильно предсказывать примерно 66% случаев, обнаруживая около 70% виновников и имея 49% полноту (способность находить всех виновников среди всех реальных виновников).\n",
    "\n",
    "Использование предсказательных моделей, таких как CatBoost, может помочь оценить потенциальные риски для водителей, особенно в отношении вероятности стать виновником ДТП в зависимости от различных факторов, таких как уровень опьянения, возраст автомобиля и другие характеристики.\n",
    "\n",
    "Однако стоит отметить, что любая модель предсказания имеет ограничения и может допускать ошибки. Поэтому необходимо рассматривать предсказания модели как инструмент для поддержки принятия решений, а не абсолютную истину. Важно также учитывать, что результаты предсказаний могут зависеть от качества данных, используемых для обучения модели.\n",
    "\n",
    "Для улучшения модели и ее предсказательной способности можно рассмотреть следующие факторы:\n",
    "\n",
    "- Дополнительные признаки: Добавление дополнительных признаков, характеристики водителя и окружающей среды, может улучшить способность модели предсказывать вероятность столкновений.\n",
    "\n",
    "- Обогащение данных: Сбор дополнительных, более свежих данных и обогащение текущих данных может помочь улучшить качество модели и увеличить ее обобщающую способность.\n",
    "\n",
    "- Дополнительные модели: Рассмотрение других типов моделей и алгоритмов машинного обучения может привести к улучшению результатов.\n",
    "\n",
    "- Интерпретируемость моделей: Понимание того, как и почему модель принимает определенные решения, очень важно. Использование методов интерпретации, таких как SHAP, помогает понять важность различных факторов и признаков в принятии решений.\n",
    "\n",
    "\n",
    "__Общий вывод:__\n",
    "\n",
    "Создание адекватной системы оценки риска при аренде автомобиля - это важная задача для обеспечения безопасности на дорогах. Использование предсказательных моделей, таких как CatBoost, может помочь оценить риски и потенциальные проблемы, связанные с водителями. Однако следует помнить, что модели являются лишь инструментом, а не абсолютной истиной, и требуют постоянного улучшения и оптимизации на основе новых данных и обратной связи. Также необходимо учитывать ограничения моделей и контролировать качество данных, используемых для обучения.\n",
    "\n"
   ]
  }
 ],
 "metadata": {
  "kernelspec": {
   "display_name": "Python 3 (ipykernel)",
   "language": "python",
   "name": "python3"
  },
  "language_info": {
   "codemirror_mode": {
    "name": "ipython",
    "version": 3
   },
   "file_extension": ".py",
   "mimetype": "text/x-python",
   "name": "python",
   "nbconvert_exporter": "python",
   "pygments_lexer": "ipython3",
   "version": "3.10.9"
  },
  "toc": {
   "base_numbering": 1,
   "nav_menu": {},
   "number_sections": false,
   "sideBar": true,
   "skip_h1_title": false,
   "title_cell": "Table of Contents",
   "title_sidebar": "Contents",
   "toc_cell": false,
   "toc_position": {
    "height": "calc(100% - 180px)",
    "left": "10px",
    "top": "150px",
    "width": "256px"
   },
   "toc_section_display": true,
   "toc_window_display": false
  },
  "varInspector": {
   "cols": {
    "lenName": 16,
    "lenType": 16,
    "lenVar": 40
   },
   "kernels_config": {
    "python": {
     "delete_cmd_postfix": "",
     "delete_cmd_prefix": "del ",
     "library": "var_list.py",
     "varRefreshCmd": "print(var_dic_list())"
    },
    "r": {
     "delete_cmd_postfix": ") ",
     "delete_cmd_prefix": "rm(",
     "library": "var_list.r",
     "varRefreshCmd": "cat(var_dic_list()) "
    }
   },
   "types_to_exclude": [
    "module",
    "function",
    "builtin_function_or_method",
    "instance",
    "_Feature"
   ],
   "window_display": false
  }
 },
 "nbformat": 4,
 "nbformat_minor": 5
}
