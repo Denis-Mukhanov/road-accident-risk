{
 "cells": [
  {
   "cell_type": "markdown",
   "id": "df8526e5",
   "metadata": {},
   "source": [
    "[![image.png](https://i.postimg.cc/Df6QS0kf/image.png)](https://postimg.cc/s1BG8Vgb)"
   ]
  },
  {
   "cell_type": "markdown",
   "id": "f62ff4c4",
   "metadata": {},
   "source": [
    "<div style=\"padding:20px 30px 30px; \n",
    "            color:#004346;\n",
    "            font-size:40px;\n",
    "            display:fill;\n",
    "            text-align:center;\n",
    "            border-radius:20px;\n",
    "            border: 5px double;\n",
    "            border-color:#201E20;\n",
    "            background-color: #E8F1F2;\n",
    "            overflow:hidden;\n",
    "            font-weight:400\"> \n",
    "<p style=\"font-weight: bold; text-align: center;\">Оценка риска ДТП</p>\n",
    "</div>"
   ]
  },
  {
   "cell_type": "markdown",
   "id": "78fa8c52",
   "metadata": {},
   "source": [
    "<div style=\"padding:0px 40px 30px; \n",
    "            color:#004346;\n",
    "            font-size:110%;\n",
    "            display:fill;\n",
    "            border-radius:20px;\n",
    "            border: 5px double;\n",
    "            border-color:#201E20;\n",
    "            background-color: #E8F1F2;\n",
    "            overflow:hidden;\n",
    "            font-weight:450;\"> \n",
    "    \n",
    "__Заказчик:__ каршеринговая компания.\n",
    "    \n",
    "__Постановка задачи:__ разработать систему, которая могла бы оценить риск ДТП по выбранному маршруту движения.\n",
    "    \n",
    "__Описание задачи:__ Под риском понимается вероятность ДТП с любым повреждением транспортного средства. Как только водитель забронировал автомобиль, сел за руль и выбрал маршрут, система должна оценить уровень риска. Если уровень риска высок, водитель увидит предупреждение и рекомендации по маршруту. \n",
    "\n",
    "__Оценка результата:__ \n",
    "    \n",
    "__Описание данных:__ Исторические данные о ДТП одного из регионов представленные в воде базы данных.\n",
    "    \n",
    "\n",
    "\n",
    "\n",
    "</div>    "
   ]
  },
  {
   "cell_type": "markdown",
   "id": "91782a82",
   "metadata": {},
   "source": [
    "<div style=\"padding:0px 20px 10px; \n",
    "            color:#004346;\n",
    "            font-size:15px;\n",
    "            display:fill;\n",
    "            text-align:center;\n",
    "            border-radius:20px;\n",
    "            border: 5px double;\n",
    "            border-color:#201E20;\n",
    "            background-color: #E8F1F2;\n",
    "            overflow:hidden;\n",
    "            font-weight:400\"> \n",
    "\n",
    "# Используемые библиотеки\n",
    "\n",
    "</div>"
   ]
  },
  {
   "cell_type": "code",
   "execution_count": 20,
   "id": "77e1fbef",
   "metadata": {},
   "outputs": [],
   "source": [
    "import pandas as pd\n",
    "import numpy as np\n",
    "import matplotlib.pyplot as plt\n",
    "import seaborn as sns\n",
    "\n",
    "import phik\n",
    "import psycopg2\n",
    "import sqlalchemy\n",
    "from sqlalchemy import create_engine\n",
    "\n",
    "# константы\n",
    "RANDOM_SEED = 42"
   ]
  },
  {
   "cell_type": "markdown",
   "id": "b8215886",
   "metadata": {},
   "source": [
    "## Подключение к базе данных"
   ]
  },
  {
   "cell_type": "code",
   "execution_count": 124,
   "id": "2599183f",
   "metadata": {},
   "outputs": [],
   "source": [
    "# конфигурация для подключения к базе данных\n",
    "db_config = {\n",
    "'user': 'praktikum_student', # имя пользователя,\n",
    "'pwd': 'Sdf4$2;d-d30pp', # пароль,\n",
    "'host': 'rc1b-wcoijxj3yxfsf3fs.mdb.yandexcloud.net',\n",
    "'port': 6432, # порт подключения,\n",
    "'db': 'data-science-vehicle-db' # название базы данных,\n",
    "} \n",
    "\n",
    "# создание подключения к базе данных\n",
    "connection = psycopg2.connect(\n",
    "    user=db_config['user'],\n",
    "    password=db_config['pwd'],\n",
    "    host=db_config['host'],\n",
    "    port=db_config['port'],\n",
    "    database=db_config['db']\n",
    ")\n",
    "\n",
    "# создаем курсора для выполнения запросов\n",
    "cursor = connection.cursor()"
   ]
  },
  {
   "cell_type": "markdown",
   "id": "ad1a9422",
   "metadata": {},
   "source": [
    "#### функция для выполнения запросов"
   ]
  },
  {
   "cell_type": "code",
   "execution_count": 125,
   "id": "938f3045",
   "metadata": {},
   "outputs": [],
   "source": [
    "# функция для выполнения запросов\n",
    "def request(query):\n",
    "    try:\n",
    "        cursor.execute(query)\n",
    "        result = cursor.fetchall()\n",
    "        result_df = pd.DataFrame(result, columns=[desc[0] for desc in cursor.description])\n",
    "        return result_df\n",
    "    except Exception as e:\n",
    "        print(f'Error: {e}')\n",
    "        connection.rollback()  # Откатываем транзакцию, чтобы избежать блокировки"
   ]
  },
  {
   "cell_type": "code",
   "execution_count": 23,
   "id": "f7d75765",
   "metadata": {},
   "outputs": [
    {
     "data": {
      "text/html": [
       "<div>\n",
       "<style scoped>\n",
       "    .dataframe tbody tr th:only-of-type {\n",
       "        vertical-align: middle;\n",
       "    }\n",
       "\n",
       "    .dataframe tbody tr th {\n",
       "        vertical-align: top;\n",
       "    }\n",
       "\n",
       "    .dataframe thead th {\n",
       "        text-align: right;\n",
       "    }\n",
       "</style>\n",
       "<table border=\"1\" class=\"dataframe\">\n",
       "  <thead>\n",
       "    <tr style=\"text-align: right;\">\n",
       "      <th></th>\n",
       "      <th>case_id</th>\n",
       "      <th>county_city_location</th>\n",
       "      <th>county_location</th>\n",
       "      <th>distance</th>\n",
       "      <th>direction</th>\n",
       "    </tr>\n",
       "  </thead>\n",
       "  <tbody>\n",
       "    <tr>\n",
       "      <th>0</th>\n",
       "      <td>4083072</td>\n",
       "      <td>1942</td>\n",
       "      <td>los angeles</td>\n",
       "      <td>528.0</td>\n",
       "      <td>north</td>\n",
       "    </tr>\n",
       "  </tbody>\n",
       "</table>\n",
       "</div>"
      ],
      "text/plain": [
       "   case_id county_city_location county_location  distance direction\n",
       "0  4083072                 1942     los angeles     528.0     north"
      ]
     },
     "metadata": {},
     "output_type": "display_data"
    }
   ],
   "source": [
    "# тестовый запрос\n",
    "query = '''\n",
    "SELECT case_id, county_city_location, county_location, distance, direction\n",
    "FROM collisions\n",
    "LIMIT 1;\n",
    "'''\n",
    "display(request(query))"
   ]
  },
  {
   "cell_type": "markdown",
   "id": "ac73bef5",
   "metadata": {},
   "source": [
    "<div style=\"padding: 30px 25px; border: 2px #6495ed solid\">\n",
    "\n",
    "- Подключение к базе данных успешно установлено.\n",
    "- Функция для выполнения запросов работает корректно.\n",
    "    \n",
    "</div>"
   ]
  },
  {
   "cell_type": "markdown",
   "id": "26cf00ee",
   "metadata": {
    "ExecuteTime": {
     "end_time": "2022-05-05T04:58:05.692448Z",
     "start_time": "2022-05-05T04:58:05.688565Z"
    }
   },
   "source": [
    "<div style=\"padding:0px 20px 10px; \n",
    "            color:#004346;\n",
    "            font-size:15px;\n",
    "            display:fill;\n",
    "            text-align:center;\n",
    "            border-radius:20px;\n",
    "            border: 5px double;\n",
    "            border-color:#201E20;\n",
    "            background-color: #E8F1F2;\n",
    "            overflow:hidden;\n",
    "            font-weight:400\"> \n",
    "\n",
    "# Первичное исследование таблиц базы данных\n",
    "\n",
    "</div>"
   ]
  },
  {
   "cell_type": "markdown",
   "id": "4168c39d",
   "metadata": {},
   "source": [
    "- Проверим все ли таблицы имеют набор данных;\n",
    "- Посмотрим количество таблиц;\n",
    "- Имеется ли общий ключ для связи таблиц."
   ]
  },
  {
   "cell_type": "code",
   "execution_count": 24,
   "id": "04cc0aa3",
   "metadata": {},
   "outputs": [],
   "source": [
    "# создание engine для подключения к базе данных\n",
    "engine = sqlalchemy.create_engine(\n",
    "    f\"postgresql://{db_config['user']}:{db_config['pwd']}@{db_config['host']}:{db_config['port']}/{db_config['db']}\"\n",
    ")\n",
    "# получение метаданных таблицы\n",
    "metadata = sqlalchemy.MetaData()\n",
    "metadata.reflect(bind=engine)"
   ]
  },
  {
   "cell_type": "markdown",
   "id": "0292ae05",
   "metadata": {},
   "source": [
    "__Общая информация о таблицах__"
   ]
  },
  {
   "cell_type": "code",
   "execution_count": 25,
   "id": "3722ce61",
   "metadata": {},
   "outputs": [
    {
     "name": "stdout",
     "output_type": "stream",
     "text": [
      "\n",
      "Таблица: case_ids;\n",
      "Количество записей: 1400000;\n",
      "Признаки: ['case_id', 'db_year'];\n",
      "Первичный ключ: Отсутствует     \n",
      "           \n",
      "\n",
      "Таблица: collisions;\n",
      "Количество записей: 1400000;\n",
      "Признаки: ['case_id', 'county_city_location', 'county_location', 'distance', 'direction', 'intersection', 'weather_1', 'location_type', 'collision_damage', 'party_count', 'primary_collision_factor', 'pcf_violation_category', 'type_of_collision', 'motor_vehicle_involved_with', 'road_surface', 'road_condition_1', 'lighting', 'control_device', 'collision_date', 'collision_time'];\n",
      "Первичный ключ: Отсутствует     \n",
      "           \n",
      "\n",
      "Таблица: parties;\n",
      "Количество записей: 2752408;\n",
      "Признаки: ['id', 'case_id', 'party_number', 'party_type', 'at_fault', 'insurance_premium', 'party_sobriety', 'party_drug_physical', 'cellphone_in_use'];\n",
      "Первичный ключ: Отсутствует     \n",
      "           \n",
      "\n",
      "Таблица: vehicles;\n",
      "Количество записей: 1021234;\n",
      "Признаки: ['id', 'case_id', 'party_number', 'vehicle_type', 'vehicle_transmission', 'vehicle_age'];\n",
      "Первичный ключ: Отсутствует     \n",
      "           \n"
     ]
    }
   ],
   "source": [
    "for table_name, table in metadata.tables.items():\n",
    "    query = f'SELECT COUNT(*) FROM {table_name};'\n",
    "    print(f'''\n",
    "Таблица: {table_name};\n",
    "Количество записей: {request(query).iloc[0][0]};\n",
    "Признаки: {table.columns.keys()};\n",
    "Первичный ключ: {table.primary_key.columns.keys() if table.primary_key else 'Отсутствует'}     \n",
    "           ''')"
   ]
  },
  {
   "cell_type": "markdown",
   "id": "f392820f",
   "metadata": {},
   "source": [
    "<div style=\"padding: 30px 25px; border: 2px #6495ed solid\">\n",
    "\n",
    "- В базе данных есть три основные таблицы, c наборами данных, но без явно указанных первичных ключей.\n",
    "\n",
    "- Таблица __'collisions'__ — общая информация о ДТП:\n",
    "    - Из описания данных известно, имеет уникальный `case_id`, который является уникальным идентификатором для каждого зарегистрированного происшествия;\n",
    "    - Эта таблица содержит общую информацию о происшествии, включая место, дату и время его происхождения, погодные условия, серьезность происшествия и другие характеристики.\n",
    "    \n",
    "- Таблица __'parties'__ — информация об участниках ДТП:\n",
    "    - Имеет неуникальный `case_id`, который связан с соответствующим ДТП в таблице 'collisions'.\n",
    "    - Каждая строка в этой таблице описывает одну из сторон, участвующих в ДТП. Например, если в ДТП участвуют две машины, то в этой таблице будет две строки с совпадающим `case_id`.\n",
    "    - Для создания уникального идентификатора участника можно использовать комбинацию `case_id` и `party_number`.\n",
    "\n",
    "- Таблица __'vehicles'__ — информация о пострадавших машинах:\n",
    "    - Имеет неуникальные `case_id` и неуникальные `party_number`, которые связаны с таблицами 'collisions' и 'parties'.\n",
    "    - Данная таблица содержит информацию о пострадавших машинах, и каждая строка описывает одно транспортное средство.\n",
    "    - Для создания уникального идентификатора машины можно использовать комбинацию `case_id` и `party_number`.\n",
    "\n",
    "\n",
    "</div>"
   ]
  },
  {
   "cell_type": "markdown",
   "id": "f46e745c",
   "metadata": {},
   "source": [
    "<div style=\"padding:0px 20px 10px; \n",
    "            color:#004346;\n",
    "            font-size:15px;\n",
    "            display:fill;\n",
    "            text-align:center;\n",
    "            border-radius:20px;\n",
    "            border: 5px double;\n",
    "            border-color:#201E20;\n",
    "            background-color: #E8F1F2;\n",
    "            overflow:hidden;\n",
    "            font-weight:400\"> \n",
    "\n",
    "# Анализ факторов ДТП\n",
    "\n",
    "</div>"
   ]
  },
  {
   "cell_type": "markdown",
   "id": "acc3ea87",
   "metadata": {},
   "source": [
    "## Зависимость количество аварий от месяца"
   ]
  },
  {
   "cell_type": "code",
   "execution_count": 26,
   "id": "aa7af3b4",
   "metadata": {},
   "outputs": [
    {
     "data": {
      "text/html": [
       "<div>\n",
       "<style scoped>\n",
       "    .dataframe tbody tr th:only-of-type {\n",
       "        vertical-align: middle;\n",
       "    }\n",
       "\n",
       "    .dataframe tbody tr th {\n",
       "        vertical-align: top;\n",
       "    }\n",
       "\n",
       "    .dataframe thead th {\n",
       "        text-align: right;\n",
       "    }\n",
       "</style>\n",
       "<table border=\"1\" class=\"dataframe\">\n",
       "  <thead>\n",
       "    <tr style=\"text-align: right;\">\n",
       "      <th></th>\n",
       "      <th>month_num</th>\n",
       "      <th>month</th>\n",
       "      <th>collision_count</th>\n",
       "    </tr>\n",
       "  </thead>\n",
       "  <tbody>\n",
       "    <tr>\n",
       "      <th>0</th>\n",
       "      <td>1</td>\n",
       "      <td>January</td>\n",
       "      <td>132044</td>\n",
       "    </tr>\n",
       "    <tr>\n",
       "      <th>1</th>\n",
       "      <td>2</td>\n",
       "      <td>February</td>\n",
       "      <td>128858</td>\n",
       "    </tr>\n",
       "    <tr>\n",
       "      <th>2</th>\n",
       "      <td>3</td>\n",
       "      <td>March</td>\n",
       "      <td>139581</td>\n",
       "    </tr>\n",
       "    <tr>\n",
       "      <th>3</th>\n",
       "      <td>4</td>\n",
       "      <td>April</td>\n",
       "      <td>130180</td>\n",
       "    </tr>\n",
       "    <tr>\n",
       "      <th>4</th>\n",
       "      <td>5</td>\n",
       "      <td>May</td>\n",
       "      <td>130316</td>\n",
       "    </tr>\n",
       "    <tr>\n",
       "      <th>5</th>\n",
       "      <td>6</td>\n",
       "      <td>June</td>\n",
       "      <td>102594</td>\n",
       "    </tr>\n",
       "    <tr>\n",
       "      <th>6</th>\n",
       "      <td>7</td>\n",
       "      <td>July</td>\n",
       "      <td>102227</td>\n",
       "    </tr>\n",
       "    <tr>\n",
       "      <th>7</th>\n",
       "      <td>8</td>\n",
       "      <td>August</td>\n",
       "      <td>104089</td>\n",
       "    </tr>\n",
       "    <tr>\n",
       "      <th>8</th>\n",
       "      <td>9</td>\n",
       "      <td>September</td>\n",
       "      <td>105159</td>\n",
       "    </tr>\n",
       "    <tr>\n",
       "      <th>9</th>\n",
       "      <td>10</td>\n",
       "      <td>October</td>\n",
       "      <td>112237</td>\n",
       "    </tr>\n",
       "    <tr>\n",
       "      <th>10</th>\n",
       "      <td>11</td>\n",
       "      <td>November</td>\n",
       "      <td>104770</td>\n",
       "    </tr>\n",
       "    <tr>\n",
       "      <th>11</th>\n",
       "      <td>12</td>\n",
       "      <td>December</td>\n",
       "      <td>107945</td>\n",
       "    </tr>\n",
       "  </tbody>\n",
       "</table>\n",
       "</div>"
      ],
      "text/plain": [
       "    month_num      month  collision_count\n",
       "0           1  January             132044\n",
       "1           2  February            128858\n",
       "2           3  March               139581\n",
       "3           4  April               130180\n",
       "4           5  May                 130316\n",
       "5           6  June                102594\n",
       "6           7  July                102227\n",
       "7           8  August              104089\n",
       "8           9  September           105159\n",
       "9          10  October             112237\n",
       "10         11  November            104770\n",
       "11         12  December            107945"
      ]
     },
     "metadata": {},
     "output_type": "display_data"
    }
   ],
   "source": [
    "# sql запрос\n",
    "query = '''\n",
    "SELECT CAST(EXTRACT(MONTH FROM COLLISION_DATE) AS INTEGER) AS month_num,\n",
    "       TO_CHAR(COLLISION_DATE, 'Month') AS month,\n",
    "       COUNT(*) AS collision_count\n",
    "FROM collisions\n",
    "GROUP BY month, month_num\n",
    "ORDER BY month_num;\n",
    "'''\n",
    "\n",
    "df = request(query)\n",
    "display(df)"
   ]
  },
  {
   "cell_type": "code",
   "execution_count": 27,
   "id": "2bf84b54",
   "metadata": {},
   "outputs": [
    {
     "data": {
      "image/png": "[encoded data removed]",
      "text/plain": [
       "<Figure size 1000x400 with 1 Axes>"
      ]
     },
     "metadata": {},
     "output_type": "display_data"
    }
   ],
   "source": [
    "# визуолизация результатов\n",
    "plt.figure(figsize=(10, 4))\n",
    "plt.bar(df['month'], df['collision_count'], color='teal')\n",
    "plt.xlabel('Месяц')\n",
    "plt.ylabel('Количество аварий')\n",
    "plt.title('Количество аварий по месяцам')\n",
    "plt.xticks(rotation=45, ha='right')\n",
    "plt.show()"
   ]
  },
  {
   "cell_type": "markdown",
   "id": "fbea0f73",
   "metadata": {},
   "source": [
    "- Видно, что количество аварий имеет явные сезонные колебания в течение года.\n",
    "- Наибольшее количество аварий обычно происходит в марте и октябре, что может быть связано с изменениями погоды и дорожных условий в эти месяцы.\n",
    "- Наименьшее количество аварий зафиксировано в июне и июле, возможно, из-за летнего сезона и лучших дорожных условий.\n",
    "- Аварийное количество кажется стабильным в период с августа по декабрь."
   ]
  },
  {
   "cell_type": "markdown",
   "id": "f9609f71",
   "metadata": {},
   "source": [
    "## Аналитические задачи\n",
    "\n",
    "Эти задачи позволят лучше понять данные и провести дополнительный анализ для определения факторов, влияющих на возникновение ДТП, а также выявить потенциальные меры для предотвращения аварий.\n"
   ]
  },
  {
   "cell_type": "markdown",
   "id": "4f08fde6",
   "metadata": {},
   "source": [
    "__Задача 1:__\n",
    "\n",
    "__Анализ серьезности повреждений транспортного средства, исходя из состояния дороги в момент ДТП.__\n",
    "- Исследовать связь между состоянием дороги (ROAD_SURFACE) в момент ДТП и серьезностью повреждений транспортного средства (COLLISION_DAMAGE). \n",
    "- Определить, какие состояния дороги преобладают при различных уровнях серьезности повреждений, и сделайте выводы о влиянии состояния дороги на серьезность ДТП.\n",
    "\n",
    "__Задача 2:__\n",
    "\n",
    "__Анализ частых причин ДТП.__\n",
    "- Используя таблицу \"parties\", определить самые частые причины ДТП (PCF_VIOLATION_CATEGORY). \n",
    "- Выстроить рейтинг причин в порядке убывания частоты аварий. \n",
    "- Определить рекомендации на основе этого анализа, чтобы предотвратить наиболее распространенные типы ДТП.\n",
    "\n",
    "__Задача 3:__\n",
    "\n",
    "__Анализ влияния уровня освещения на вероятность возникновения ДТП.__\n",
    "- Сравнить количество ДТП в зависимости от уровня освещения (LIGHTING). \n",
    "- Определить, в какое время суток и в каких условиях освещения ДТП происходят наиболее часто. \n",
    "- Проанализировать, как уровень освещения влияет на вероятность возникновения ДТП.\n",
    "\n",
    "__Задача 4:__\n",
    "\n",
    "__Анализ распределения количества участников в ДТП.__\n",
    "- Изучить количество участников (PARTY_COUNT) в каждом ДТП и определите распределение этой величины. \n",
    "- Определить, как часто происходят ДТП с большим количеством участников и сравните это с количеством ДТП с небольшим числом участников.\n",
    "\n",
    "__Задача 5:__\n",
    "\n",
    "__Анализ зависимости вероятности возникновения ДТП от погодных условий.__\n",
    "- Изучить влияние погодных условий (WEATHER_1) на вероятность возникновения ДТП. \n",
    "- Сравнить количество ДТП в различных погодных условиях и определите, какие погодные условия сопровождаются наибольшим риском возникновения аварий.\n",
    "\n",
    "__Задача 6:__\n",
    "\n",
    "__Анализ влияния уровня опьянения участников на тяжесть ДТП.__\n",
    "- Исследовать связь между уровнем опьянения участников ДТП (PARTY_SOBRIETY) и серьезностью аварий (COLLISION_DAMAGE). \n",
    "- Определить, какие уровни опьянения преобладают при различных уровнях серьезности повреждений транспортного средства. \n",
    "- Сравнить количество исходящихся аварий для каждого уровня опьянения и выявите, насколько опьянение участников влияет на тяжесть ДТП.\n",
    "\n",
    "__Задача 7:__\n",
    "__Анализ частоты ДТП в зависимости от времени суток и сотоянии дороги.__\n",
    "- Объединить таблицы \"collisions\" и \"vehicles\" по общему ключу \"case_id\".\n",
    "- Используя полученные данные для вычисления количества ДТП для каждого времени суток (утро, день, вечер, ночь) и типа дороги (городская, загородная, автострада).\n",
    "\n",
    "__Задача 8:__\n",
    "__Анализ влияния возраста автомобиля на тип аварий__\n",
    "- Объединить таблицы \"collisions\" и \" vehicles\" по общему ключу \"case_id\" и получить данные о типах ДТП и возрасте автомобилей.\n",
    "- Используя полученные данные, проанализируйте селичество и тип ДТП и связь их и возрастом автомобилей."
   ]
  },
  {
   "cell_type": "markdown",
   "id": "2d2e1ce0",
   "metadata": {},
   "source": [
    "### Анализ частых причин ДТП.\n",
    "Данный анализ поможет сосредоточить внимание на наиболее значимых проблемах и разработать эффективные стратегии для снижения аварийности и повышения безопасности на дорогах."
   ]
  },
  {
   "cell_type": "code",
   "execution_count": 28,
   "id": "d1567adc",
   "metadata": {},
   "outputs": [
    {
     "data": {
      "text/html": [
       "<div>\n",
       "<style scoped>\n",
       "    .dataframe tbody tr th:only-of-type {\n",
       "        vertical-align: middle;\n",
       "    }\n",
       "\n",
       "    .dataframe tbody tr th {\n",
       "        vertical-align: top;\n",
       "    }\n",
       "\n",
       "    .dataframe thead th {\n",
       "        text-align: right;\n",
       "    }\n",
       "</style>\n",
       "<table border=\"1\" class=\"dataframe\">\n",
       "  <thead>\n",
       "    <tr style=\"text-align: right;\">\n",
       "      <th></th>\n",
       "      <th>pcf_violation_category</th>\n",
       "      <th>collision_count</th>\n",
       "    </tr>\n",
       "  </thead>\n",
       "  <tbody>\n",
       "    <tr>\n",
       "      <th>0</th>\n",
       "      <td>speeding</td>\n",
       "      <td>438439</td>\n",
       "    </tr>\n",
       "    <tr>\n",
       "      <th>1</th>\n",
       "      <td>improper turning</td>\n",
       "      <td>238987</td>\n",
       "    </tr>\n",
       "    <tr>\n",
       "      <th>2</th>\n",
       "      <td>automobile right of way</td>\n",
       "      <td>158291</td>\n",
       "    </tr>\n",
       "    <tr>\n",
       "      <th>3</th>\n",
       "      <td>dui</td>\n",
       "      <td>110476</td>\n",
       "    </tr>\n",
       "    <tr>\n",
       "      <th>4</th>\n",
       "      <td>unsafe lane change</td>\n",
       "      <td>93962</td>\n",
       "    </tr>\n",
       "    <tr>\n",
       "      <th>5</th>\n",
       "      <td>traffic signals and signs</td>\n",
       "      <td>72751</td>\n",
       "    </tr>\n",
       "    <tr>\n",
       "      <th>6</th>\n",
       "      <td>unsafe starting or backing</td>\n",
       "      <td>55674</td>\n",
       "    </tr>\n",
       "    <tr>\n",
       "      <th>7</th>\n",
       "      <td>unknown</td>\n",
       "      <td>39558</td>\n",
       "    </tr>\n",
       "    <tr>\n",
       "      <th>8</th>\n",
       "      <td>wrong side of road</td>\n",
       "      <td>33631</td>\n",
       "    </tr>\n",
       "    <tr>\n",
       "      <th>9</th>\n",
       "      <td>following too closely</td>\n",
       "      <td>30033</td>\n",
       "    </tr>\n",
       "  </tbody>\n",
       "</table>\n",
       "</div>"
      ],
      "text/plain": [
       "       pcf_violation_category  collision_count\n",
       "0                    speeding           438439\n",
       "1            improper turning           238987\n",
       "2     automobile right of way           158291\n",
       "3                         dui           110476\n",
       "4          unsafe lane change            93962\n",
       "5   traffic signals and signs            72751\n",
       "6  unsafe starting or backing            55674\n",
       "7                     unknown            39558\n",
       "8          wrong side of road            33631\n",
       "9       following too closely            30033"
      ]
     },
     "metadata": {},
     "output_type": "display_data"
    }
   ],
   "source": [
    "# sql запрос\n",
    "query = '''\n",
    "SELECT PCF_VIOLATION_CATEGORY, \n",
    "       COUNT(*) AS collision_count\n",
    "FROM collisions\n",
    "GROUP BY PCF_VIOLATION_CATEGORY\n",
    "ORDER BY collision_count DESC\n",
    "LIMIT 10;\n",
    "'''\n",
    "\n",
    "df = request(query)\n",
    "display(df)"
   ]
  },
  {
   "cell_type": "code",
   "execution_count": 29,
   "id": "c4f46f3f",
   "metadata": {
    "code_folding": []
   },
   "outputs": [
    {
     "data": {
      "image/png": "[encoded data removed]",
      "text/plain": [
       "<Figure size 900x400 with 1 Axes>"
      ]
     },
     "metadata": {},
     "output_type": "display_data"
    }
   ],
   "source": [
    "# визуолизация результатов\n",
    "plt.figure(figsize=(9, 4))\n",
    "sns.barplot(x='collision_count', y='pcf_violation_category', data=df, color='teal')\n",
    "plt.xlabel('Количество аварий')\n",
    "plt.ylabel('Причина ДТП')\n",
    "plt.title('Рейтинг причин ДТП')\n",
    "plt.show()"
   ]
  },
  {
   "cell_type": "markdown",
   "id": "2689c4b0",
   "metadata": {},
   "source": [
    "__Из результатов запроса видно, что самыми частыми причинами ДТП в данной базе данных являются:__\n",
    "- Превышение скорости (Speeding) - 438,439 аварий.\n",
    "- Неправильный поворот (Improper Turning) - 238,987 аварий.\n",
    "- Автомобильное право проезда (Automobile Right of Way) - 158,291 аварий.\n",
    "- Вождение или езда на велосипеде в состоянии алкогольного или наркотического опьянения (DUI - Driving Under the Influence) - 110,476 аварий.\n",
    "\n",
    "__Основываясь на этом анализе, можно предложить следующие рекомендации для предотвращения наиболее распространенных типов ДТП:__\n",
    "- Повышать осведомленность и образованность водителей: Продвигать информационные кампании, обучающие водителей о безопасных практиках вождения, в том числе о соблюдении ограничений скорости и правильном повороте.\n",
    "- Развивать системы контроля скорости: Внедрение автоматических систем контроля скорости на дорогах может снизить количество ДТП, связанных с превышением скорости.\n",
    "- Расширить сеть камер наблюдения на дорогах: Установка камер на опасных участках дорог поможет отслеживать нарушения и устранять их.\n",
    "- Поддерживать безопасные дорожные условия: Проводить регулярный мониторинг дорожного покрытия и инфраструктуры, чтобы обеспечить безопасное движение.\n",
    "- Установить технологию, которая интегрирует алко-тест в систему зажигания автомобиля. Это поможет предотвращать аварии, связанные с вождением в состоянии алкогольного опьянения."
   ]
  },
  {
   "cell_type": "markdown",
   "id": "cb46a15b",
   "metadata": {},
   "source": [
    "### Анализ зависимости вероятности возникновения ДТП от погодных условий."
   ]
  },
  {
   "cell_type": "code",
   "execution_count": 30,
   "id": "69e016ec",
   "metadata": {},
   "outputs": [
    {
     "data": {
      "text/html": [
       "<div>\n",
       "<style scoped>\n",
       "    .dataframe tbody tr th:only-of-type {\n",
       "        vertical-align: middle;\n",
       "    }\n",
       "\n",
       "    .dataframe tbody tr th {\n",
       "        vertical-align: top;\n",
       "    }\n",
       "\n",
       "    .dataframe thead th {\n",
       "        text-align: right;\n",
       "    }\n",
       "</style>\n",
       "<table border=\"1\" class=\"dataframe\">\n",
       "  <thead>\n",
       "    <tr style=\"text-align: right;\">\n",
       "      <th></th>\n",
       "      <th>weather_1</th>\n",
       "      <th>collision_count</th>\n",
       "    </tr>\n",
       "  </thead>\n",
       "  <tbody>\n",
       "    <tr>\n",
       "      <th>0</th>\n",
       "      <td>clear</td>\n",
       "      <td>1121048</td>\n",
       "    </tr>\n",
       "    <tr>\n",
       "      <th>1</th>\n",
       "      <td>cloudy</td>\n",
       "      <td>203030</td>\n",
       "    </tr>\n",
       "    <tr>\n",
       "      <th>2</th>\n",
       "      <td>raining</td>\n",
       "      <td>57976</td>\n",
       "    </tr>\n",
       "    <tr>\n",
       "      <th>3</th>\n",
       "      <td>None</td>\n",
       "      <td>7259</td>\n",
       "    </tr>\n",
       "    <tr>\n",
       "      <th>4</th>\n",
       "      <td>fog</td>\n",
       "      <td>6156</td>\n",
       "    </tr>\n",
       "    <tr>\n",
       "      <th>5</th>\n",
       "      <td>snowing</td>\n",
       "      <td>2571</td>\n",
       "    </tr>\n",
       "    <tr>\n",
       "      <th>6</th>\n",
       "      <td>other</td>\n",
       "      <td>1516</td>\n",
       "    </tr>\n",
       "    <tr>\n",
       "      <th>7</th>\n",
       "      <td>wind</td>\n",
       "      <td>444</td>\n",
       "    </tr>\n",
       "  </tbody>\n",
       "</table>\n",
       "</div>"
      ],
      "text/plain": [
       "  weather_1  collision_count\n",
       "0     clear          1121048\n",
       "1    cloudy           203030\n",
       "2   raining            57976\n",
       "3      None             7259\n",
       "4       fog             6156\n",
       "5   snowing             2571\n",
       "6     other             1516\n",
       "7      wind              444"
      ]
     },
     "metadata": {},
     "output_type": "display_data"
    }
   ],
   "source": [
    "# sql запрос\n",
    "query = '''\n",
    "SELECT WEATHER_1,\n",
    "       COUNT(*) AS collision_count\n",
    "FROM collisions\n",
    "GROUP BY WEATHER_1\n",
    "ORDER BY collision_count DESC;\n",
    "'''\n",
    "\n",
    "df = request(query)\n",
    "display(df)"
   ]
  },
  {
   "cell_type": "code",
   "execution_count": 31,
   "id": "86b63f68",
   "metadata": {},
   "outputs": [
    {
     "data": {
      "image/png": "[encoded data removed]",
      "text/plain": [
       "<Figure size 900x300 with 1 Axes>"
      ]
     },
     "metadata": {},
     "output_type": "display_data"
    }
   ],
   "source": [
    "# визуолизация результатов\n",
    "plt.figure(figsize=(9, 3))\n",
    "sns.barplot(x='collision_count', y='weather_1', data=df, color='teal')\n",
    "plt.xlabel('Количество аварий')\n",
    "plt.ylabel('Погодные условия')\n",
    "plt.title('Анализ зависимости ДТП от погодных условий')\n",
    "plt.ticklabel_format(style='plain', axis='x')\n",
    "\n",
    "plt.show()"
   ]
  },
  {
   "cell_type": "markdown",
   "id": "e71bc6e6",
   "metadata": {},
   "source": [
    "__На основе результатов анализа зависимости вероятности возникновения ДТП от погодных условий, получены следующие данные:__\n",
    "- В ясную погоду (clear) зарегистрировано наибольшее количество аварий - 1,121,048 случаев.\n",
    "- За ясной погодой следует облачная погода (cloudy) с 203,030 авариями.\n",
    "- Дождливая погода (raining) оказывается третьей по частоте причиной ДТП с 57,976 авариями.\n",
    "- В условиях без указания погоды (None) произошло 7,259 аварий.\n",
    "- Туман (fog) сопровождается 6,156 авариями.\n",
    "- В снежную погоду (snowing) попало 2,571 аварий.\n",
    "- Другие погодные условия (other) были отмечены в 1,516 случаев.\n",
    "- Ветрено (wind) связано с 444 авариями.\n",
    "\n",
    "__На основе этих результатов можно сделать следующие выводы рекомендации:__\n",
    "- В ясную погоду произошли большинство оварий, что говорит, о там, что другие факторы могут оказать большее влияние на риск аварии.\n",
    "- При вождении в облачную погоду и дождь также необходимо соблюдать повышенную осторожность и соблюдать дистанцию.\n",
    "- В условиях тумана и снегопада водителям следует снизить скорость движения, использовать фары и габариты, чтобы быть видимыми другим участникам дорожного движения.\n"
   ]
  },
  {
   "cell_type": "markdown",
   "id": "45a24dce",
   "metadata": {},
   "source": [
    "### Анализ влияния возраста автомобиля на тип аварий\n",
    "Для более удобного анализа, автомобили были разделены на две категории: \"Новые\" - автомобили возрастом менее или равно 5 лет, и \"Старые\" - автомобили старше 5 лет."
   ]
  },
  {
   "cell_type": "code",
   "execution_count": 32,
   "id": "d0926703",
   "metadata": {},
   "outputs": [
    {
     "data": {
      "text/html": [
       "<div>\n",
       "<style scoped>\n",
       "    .dataframe tbody tr th:only-of-type {\n",
       "        vertical-align: middle;\n",
       "    }\n",
       "\n",
       "    .dataframe tbody tr th {\n",
       "        vertical-align: top;\n",
       "    }\n",
       "\n",
       "    .dataframe thead th {\n",
       "        text-align: right;\n",
       "    }\n",
       "</style>\n",
       "<table border=\"1\" class=\"dataframe\">\n",
       "  <thead>\n",
       "    <tr style=\"text-align: right;\">\n",
       "      <th></th>\n",
       "      <th>vehicle_category</th>\n",
       "      <th>type_of_collision</th>\n",
       "      <th>collision_count</th>\n",
       "    </tr>\n",
       "  </thead>\n",
       "  <tbody>\n",
       "    <tr>\n",
       "      <th>0</th>\n",
       "      <td>Новые автомобили</td>\n",
       "      <td>rear end</td>\n",
       "      <td>210736</td>\n",
       "    </tr>\n",
       "    <tr>\n",
       "      <th>1</th>\n",
       "      <td>Новые автомобили</td>\n",
       "      <td>broadside</td>\n",
       "      <td>143999</td>\n",
       "    </tr>\n",
       "    <tr>\n",
       "      <th>2</th>\n",
       "      <td>Новые автомобили</td>\n",
       "      <td>sideswipe</td>\n",
       "      <td>75521</td>\n",
       "    </tr>\n",
       "    <tr>\n",
       "      <th>3</th>\n",
       "      <td>Новые автомобили</td>\n",
       "      <td>hit object</td>\n",
       "      <td>72027</td>\n",
       "    </tr>\n",
       "    <tr>\n",
       "      <th>4</th>\n",
       "      <td>Новые автомобили</td>\n",
       "      <td>other</td>\n",
       "      <td>41445</td>\n",
       "    </tr>\n",
       "    <tr>\n",
       "      <th>5</th>\n",
       "      <td>Новые автомобили</td>\n",
       "      <td>head-on</td>\n",
       "      <td>30937</td>\n",
       "    </tr>\n",
       "    <tr>\n",
       "      <th>6</th>\n",
       "      <td>Новые автомобили</td>\n",
       "      <td>overturned</td>\n",
       "      <td>18089</td>\n",
       "    </tr>\n",
       "    <tr>\n",
       "      <th>7</th>\n",
       "      <td>Старые автомобили</td>\n",
       "      <td>rear end</td>\n",
       "      <td>151661</td>\n",
       "    </tr>\n",
       "    <tr>\n",
       "      <th>8</th>\n",
       "      <td>Старые автомобили</td>\n",
       "      <td>broadside</td>\n",
       "      <td>98836</td>\n",
       "    </tr>\n",
       "    <tr>\n",
       "      <th>9</th>\n",
       "      <td>Старые автомобили</td>\n",
       "      <td>sideswipe</td>\n",
       "      <td>48290</td>\n",
       "    </tr>\n",
       "    <tr>\n",
       "      <th>10</th>\n",
       "      <td>Старые автомобили</td>\n",
       "      <td>hit object</td>\n",
       "      <td>35385</td>\n",
       "    </tr>\n",
       "    <tr>\n",
       "      <th>11</th>\n",
       "      <td>Старые автомобили</td>\n",
       "      <td>other</td>\n",
       "      <td>28733</td>\n",
       "    </tr>\n",
       "    <tr>\n",
       "      <th>12</th>\n",
       "      <td>Старые автомобили</td>\n",
       "      <td>head-on</td>\n",
       "      <td>21573</td>\n",
       "    </tr>\n",
       "    <tr>\n",
       "      <th>13</th>\n",
       "      <td>Старые автомобили</td>\n",
       "      <td>overturned</td>\n",
       "      <td>12149</td>\n",
       "    </tr>\n",
       "  </tbody>\n",
       "</table>\n",
       "</div>"
      ],
      "text/plain": [
       "     vehicle_category type_of_collision  collision_count\n",
       "0    Новые автомобили          rear end           210736\n",
       "1    Новые автомобили         broadside           143999\n",
       "2    Новые автомобили         sideswipe            75521\n",
       "3    Новые автомобили        hit object            72027\n",
       "4    Новые автомобили             other            41445\n",
       "5    Новые автомобили           head-on            30937\n",
       "6    Новые автомобили        overturned            18089\n",
       "7   Старые автомобили          rear end           151661\n",
       "8   Старые автомобили         broadside            98836\n",
       "9   Старые автомобили         sideswipe            48290\n",
       "10  Старые автомобили        hit object            35385\n",
       "11  Старые автомобили             other            28733\n",
       "12  Старые автомобили           head-on            21573\n",
       "13  Старые автомобили        overturned            12149"
      ]
     },
     "metadata": {},
     "output_type": "display_data"
    }
   ],
   "source": [
    "# sql запрос\n",
    "query = '''\n",
    "SELECT \n",
    "    CASE\n",
    "        WHEN VEHICLE_AGE > 5 THEN 'Старые автомобили'\n",
    "        ELSE 'Новые автомобили'\n",
    "    END AS vehicle_category,\n",
    "    TYPE_OF_COLLISION,\n",
    "    COUNT(*) AS collision_count\n",
    "FROM collisions c\n",
    "     JOIN vehicles v ON c.CASE_ID = v.CASE_ID\n",
    "WHERE VEHICLE_AGE IS NOT NULL AND\n",
    "      TYPE_OF_COLLISION IS NOT NULL\n",
    "GROUP BY vehicle_category, TYPE_OF_COLLISION\n",
    "ORDER BY vehicle_category, collision_count DESC;\n",
    "'''\n",
    "\n",
    "df = request(query)\n",
    "display(df)"
   ]
  },
  {
   "cell_type": "code",
   "execution_count": 33,
   "id": "0fb30cf0",
   "metadata": {},
   "outputs": [
    {
     "data": {
      "image/png": "[encoded data removed]",
      "text/plain": [
       "<Figure size 1000x600 with 1 Axes>"
      ]
     },
     "metadata": {},
     "output_type": "display_data"
    }
   ],
   "source": [
    "# визуолизация результатов\n",
    "plt.figure(figsize=(10, 6))\n",
    "sns.barplot(x='type_of_collision', y='collision_count', hue='vehicle_category', data=df)\n",
    "plt.xlabel('Тип аварии')\n",
    "plt.ylabel('Количество аварий')\n",
    "plt.title('Распределение типов аварий в зависимости от возраста автомобиля')\n",
    "plt.legend(title='Категория автомобиля', loc='upper right')\n",
    "plt.xticks(rotation=45, ha='right')\n",
    "plt.show()"
   ]
  },
  {
   "cell_type": "markdown",
   "id": "a9e11259",
   "metadata": {},
   "source": [
    "- Проведенный анализ показывает, что независимо от возрастной категории автомобилей, самыми частыми типами аварий являются \"rear end\" (столкновение сзади) и \"broadside\" (боковое столкновение). При этом количество столкновений в категории \"Старые автомобили\" ниже, чем в категории \"Новые автомобили\". Однако, это можно объяснить общим количеством старых автомобилей, которые могут быть менее представлены на дорогах по сравнению с новыми автомобилями.\n",
    "\n",
    "- Важно обратить внимание, что типы аварий остаются стабильными независимо от возраста автомобилей, что подчеркивает необходимость предоставления дополнительного внимания на профилактику  по предотвращению столкновений сзади и боковых столкновений, так как они являются наиболее распространенными.\n"
   ]
  },
  {
   "cell_type": "markdown",
   "id": "88e8cb5f",
   "metadata": {},
   "source": [
    "### Анализ частоты ДТП в зависимости от времени суток и состояния дороги."
   ]
  },
  {
   "cell_type": "code",
   "execution_count": 34,
   "id": "e9a55b2d",
   "metadata": {},
   "outputs": [
    {
     "data": {
      "text/html": [
       "<div>\n",
       "<style scoped>\n",
       "    .dataframe tbody tr th:only-of-type {\n",
       "        vertical-align: middle;\n",
       "    }\n",
       "\n",
       "    .dataframe tbody tr th {\n",
       "        vertical-align: top;\n",
       "    }\n",
       "\n",
       "    .dataframe thead th {\n",
       "        text-align: right;\n",
       "    }\n",
       "</style>\n",
       "<table border=\"1\" class=\"dataframe\">\n",
       "  <thead>\n",
       "    <tr style=\"text-align: right;\">\n",
       "      <th></th>\n",
       "      <th>time_of_day</th>\n",
       "      <th>road_surface</th>\n",
       "      <th>collision_count</th>\n",
       "    </tr>\n",
       "  </thead>\n",
       "  <tbody>\n",
       "    <tr>\n",
       "      <th>0</th>\n",
       "      <td>Вечер</td>\n",
       "      <td>dry</td>\n",
       "      <td>212148</td>\n",
       "    </tr>\n",
       "    <tr>\n",
       "      <th>1</th>\n",
       "      <td>Вечер</td>\n",
       "      <td>wet</td>\n",
       "      <td>20743</td>\n",
       "    </tr>\n",
       "    <tr>\n",
       "      <th>2</th>\n",
       "      <td>Вечер</td>\n",
       "      <td>snowy</td>\n",
       "      <td>941</td>\n",
       "    </tr>\n",
       "    <tr>\n",
       "      <th>3</th>\n",
       "      <td>Вечер</td>\n",
       "      <td>slippery</td>\n",
       "      <td>179</td>\n",
       "    </tr>\n",
       "    <tr>\n",
       "      <th>4</th>\n",
       "      <td>День</td>\n",
       "      <td>dry</td>\n",
       "      <td>415081</td>\n",
       "    </tr>\n",
       "    <tr>\n",
       "      <th>5</th>\n",
       "      <td>День</td>\n",
       "      <td>wet</td>\n",
       "      <td>33386</td>\n",
       "    </tr>\n",
       "    <tr>\n",
       "      <th>6</th>\n",
       "      <td>День</td>\n",
       "      <td>snowy</td>\n",
       "      <td>1708</td>\n",
       "    </tr>\n",
       "    <tr>\n",
       "      <th>7</th>\n",
       "      <td>День</td>\n",
       "      <td>slippery</td>\n",
       "      <td>330</td>\n",
       "    </tr>\n",
       "    <tr>\n",
       "      <th>8</th>\n",
       "      <td>Ночь</td>\n",
       "      <td>dry</td>\n",
       "      <td>63079</td>\n",
       "    </tr>\n",
       "    <tr>\n",
       "      <th>9</th>\n",
       "      <td>Ночь</td>\n",
       "      <td>wet</td>\n",
       "      <td>8966</td>\n",
       "    </tr>\n",
       "    <tr>\n",
       "      <th>10</th>\n",
       "      <td>Ночь</td>\n",
       "      <td>snowy</td>\n",
       "      <td>423</td>\n",
       "    </tr>\n",
       "    <tr>\n",
       "      <th>11</th>\n",
       "      <td>Ночь</td>\n",
       "      <td>slippery</td>\n",
       "      <td>114</td>\n",
       "    </tr>\n",
       "    <tr>\n",
       "      <th>12</th>\n",
       "      <td>Утро</td>\n",
       "      <td>dry</td>\n",
       "      <td>225446</td>\n",
       "    </tr>\n",
       "    <tr>\n",
       "      <th>13</th>\n",
       "      <td>Утро</td>\n",
       "      <td>wet</td>\n",
       "      <td>26775</td>\n",
       "    </tr>\n",
       "    <tr>\n",
       "      <th>14</th>\n",
       "      <td>Утро</td>\n",
       "      <td>snowy</td>\n",
       "      <td>1890</td>\n",
       "    </tr>\n",
       "    <tr>\n",
       "      <th>15</th>\n",
       "      <td>Утро</td>\n",
       "      <td>slippery</td>\n",
       "      <td>275</td>\n",
       "    </tr>\n",
       "  </tbody>\n",
       "</table>\n",
       "</div>"
      ],
      "text/plain": [
       "   time_of_day road_surface  collision_count\n",
       "0        Вечер          dry           212148\n",
       "1        Вечер          wet            20743\n",
       "2        Вечер        snowy              941\n",
       "3        Вечер     slippery              179\n",
       "4         День          dry           415081\n",
       "5         День          wet            33386\n",
       "6         День        snowy             1708\n",
       "7         День     slippery              330\n",
       "8         Ночь          dry            63079\n",
       "9         Ночь          wet             8966\n",
       "10        Ночь        snowy              423\n",
       "11        Ночь     slippery              114\n",
       "12        Утро          dry           225446\n",
       "13        Утро          wet            26775\n",
       "14        Утро        snowy             1890\n",
       "15        Утро     slippery              275"
      ]
     },
     "metadata": {},
     "output_type": "display_data"
    }
   ],
   "source": [
    "# sql запрос\n",
    "query = '''\n",
    "SELECT \n",
    "    CASE \n",
    "        WHEN EXTRACT(HOUR FROM collision_time) >= 0 AND EXTRACT(HOUR FROM collision_time) < 6 THEN 'Ночь'\n",
    "        WHEN EXTRACT(HOUR FROM collision_time) >= 6 AND EXTRACT(HOUR FROM collision_time) < 12 THEN 'Утро'\n",
    "        WHEN EXTRACT(HOUR FROM collision_time) >= 12 AND EXTRACT(HOUR FROM collision_time) < 18 THEN 'День'\n",
    "        WHEN EXTRACT(HOUR FROM collision_time) >= 18 AND EXTRACT(HOUR FROM collision_time) < 24 THEN 'Вечер'\n",
    "    END AS time_of_day,\n",
    "    road_surface,\n",
    "    COUNT(*) AS collision_count\n",
    "FROM collisions c\n",
    "     JOIN vehicles v ON c.case_id = v.case_id\n",
    "WHERE road_surface IS NOT NULL AND collision_time IS NOT NULL\n",
    "GROUP BY time_of_day, road_surface\n",
    "ORDER BY time_of_day, collision_count DESC;\n",
    "'''\n",
    "\n",
    "df = request(query)\n",
    "display(df)"
   ]
  },
  {
   "cell_type": "code",
   "execution_count": 35,
   "id": "5fa10728",
   "metadata": {
    "code_folding": [
     0,
     4,
     13,
     22,
     31
    ]
   },
   "outputs": [
    {
     "data": {
      "image/png": "[encoded data removed]",
      "text/plain": [
       "<Figure size 1200x800 with 4 Axes>"
      ]
     },
     "metadata": {},
     "output_type": "display_data"
    }
   ],
   "source": [
    "# визуолизация результатов\n",
    "fig, axes = plt.subplots(2, 2, figsize=(12, 8))\n",
    "fig.suptitle('Анализ частоты ДТП в зависимости от времени суток и состояния дороги')\n",
    "\n",
    "sns.barplot(x='time_of_day',\n",
    "            y='collision_count',\n",
    "            data=df[df['road_surface'] == 'dry'],\n",
    "            ax=axes[0, 0],\n",
    "            palette='Blues')\n",
    "axes[0, 0].set_title('Сухая дорога')\n",
    "axes[0, 0].set_xlabel('Время суток')\n",
    "axes[0, 0].set_ylabel('Количество аварий')\n",
    "\n",
    "sns.barplot(x='time_of_day',\n",
    "            y='collision_count',\n",
    "            data=df[df['road_surface'] == 'wet'],\n",
    "            ax=axes[0, 1],\n",
    "            palette='Greens')\n",
    "axes[0, 1].set_title('Мокрая дорога')\n",
    "axes[0, 1].set_xlabel('Время суток')\n",
    "axes[0, 1].set_ylabel('Количество аварий')\n",
    "\n",
    "sns.barplot(x='time_of_day', \n",
    "            y='collision_count', \n",
    "            data=df[df['road_surface'] == 'snowy'], \n",
    "            ax=axes[1, 0], \n",
    "            palette='Oranges')\n",
    "axes[1, 0].set_title('Снежная дорога')\n",
    "axes[1, 0].set_xlabel('Время суток')\n",
    "axes[1, 0].set_ylabel('Количество аварий')\n",
    "\n",
    "sns.barplot(x='time_of_day', \n",
    "            y='collision_count', \n",
    "            data=df[df['road_surface'] == 'slippery'], \n",
    "            ax=axes[1, 1], \n",
    "            palette='Reds')\n",
    "axes[1, 1].set_title('Скользкая дорога')\n",
    "axes[1, 1].set_xlabel('Время суток')\n",
    "axes[1, 1].set_ylabel('Количество аварий')\n",
    "\n",
    "plt.tight_layout()\n",
    "plt.show()"
   ]
  },
  {
   "cell_type": "markdown",
   "id": "302786bc",
   "metadata": {},
   "source": [
    "__Анализ частоты ДТП в зависимости от времени суток и состояния дороги позволил выявить интересные тенденции и сделать следующие выводы:__\n",
    "\n",
    "- Наибольшее количество ДТП происходит на сухой дороге, что можно объяснить тем, что сухая дорога обеспечивает лучшее сцепление между шинами автомобиля и дорожным покрытием. Это может приводить к повышенной скорости движения, большей агрессивному вождению и возможному несоблюдению правил дорожного движения, так как водители чувствуют себя более уверенно на сухой дороге. Также, наличие сухого дорожного покрытия способствует более свободному движению автомобилей, что может привести к увеличению числа ДТП.\n",
    "\n",
    "- С другой стороны, наличие дождя, снега или скользкого дорожного покрытия создает более опасные условия для движения, что заставляет водителей быть более осторожными, снизить скорость и быть более внимательными к дорожной обстановке или совсем отказаться от использования автомобиля. Это может приводить к снижению количества ДТП в условиях плохой погоды.\n",
    "\n",
    "- Вне зависимости от состояния дороги (сухой, мокрый, снежный или скользкий), большинство ДТП происходят утром и днем. Это может быть связано с увеличенным движением транспорта в этот период.\n",
    "\n",
    "- В случае, когда дорога заснежена (снежное состояние), наибольшее количество ДТП происходит именно утром. Это может быть связано с тем, что утром снег еще не успели полностью очистить, и дороги оказываются скользкими и опасными для движения.\n",
    "\n",
    "- Таким образом, данные результаты могут помочь сфокусироваться на участках дорог, которые являются наиболее опасными в зависимости от времени суток и состояния дороги. Это может быть полезной информацией для дальнейшего анализа и разработки модели."
   ]
  },
  {
   "cell_type": "markdown",
   "id": "9badd78d",
   "metadata": {},
   "source": [
    "<div style=\"padding:0px 20px 10px; \n",
    "            color:#004346;\n",
    "            font-size:15px;\n",
    "            display:fill;\n",
    "            text-align:center;\n",
    "            border-radius:20px;\n",
    "            border: 5px double;\n",
    "            border-color:#201E20;\n",
    "            background-color: #E8F1F2;\n",
    "            overflow:hidden;\n",
    "            font-weight:400\"> \n",
    "\n",
    "# Подготовка данных к построению моделей\n",
    "\n",
    "</div>"
   ]
  },
  {
   "cell_type": "markdown",
   "id": "7bbe092a",
   "metadata": {},
   "source": [
    "Подготовим набор данных на основе первичного предположения заказчика:\n",
    "\n",
    "- Выберем только те случаи, где виновником является автомобиль (car).\n",
    "- Учтем случаи, когда происшествие привело к значительным повреждениям автомобиля у любого из участников, за исключением типа SCRATCH (царапина).\n",
    "- Для построения модели мы ограничимся данными только за 2012 год, поскольку они являются наиболее актуальными."
   ]
  },
  {
   "cell_type": "code",
   "execution_count": 126,
   "id": "aa84296a",
   "metadata": {},
   "outputs": [
    {
     "data": {
      "text/html": [
       "<div>\n",
       "<style scoped>\n",
       "    .dataframe tbody tr th:only-of-type {\n",
       "        vertical-align: middle;\n",
       "    }\n",
       "\n",
       "    .dataframe tbody tr th {\n",
       "        vertical-align: top;\n",
       "    }\n",
       "\n",
       "    .dataframe thead th {\n",
       "        text-align: right;\n",
       "    }\n",
       "</style>\n",
       "<table border=\"1\" class=\"dataframe\">\n",
       "  <thead>\n",
       "    <tr style=\"text-align: right;\">\n",
       "      <th></th>\n",
       "      <th>id</th>\n",
       "      <th>case_id</th>\n",
       "      <th>party_number</th>\n",
       "      <th>party_type</th>\n",
       "      <th>at_fault</th>\n",
       "      <th>insurance_premium</th>\n",
       "      <th>party_sobriety</th>\n",
       "      <th>party_drug_physical</th>\n",
       "      <th>cellphone_in_use</th>\n",
       "      <th>id</th>\n",
       "      <th>...</th>\n",
       "      <th>primary_collision_factor</th>\n",
       "      <th>pcf_violation_category</th>\n",
       "      <th>type_of_collision</th>\n",
       "      <th>motor_vehicle_involved_with</th>\n",
       "      <th>road_surface</th>\n",
       "      <th>road_condition_1</th>\n",
       "      <th>lighting</th>\n",
       "      <th>control_device</th>\n",
       "      <th>collision_date</th>\n",
       "      <th>collision_time</th>\n",
       "    </tr>\n",
       "  </thead>\n",
       "  <tbody>\n",
       "    <tr>\n",
       "      <th>0</th>\n",
       "      <td>2406376</td>\n",
       "      <td>5454846</td>\n",
       "      <td>3</td>\n",
       "      <td>car</td>\n",
       "      <td>0</td>\n",
       "      <td>28.0</td>\n",
       "      <td>had not been drinking</td>\n",
       "      <td>None</td>\n",
       "      <td>0.0</td>\n",
       "      <td>1326456</td>\n",
       "      <td>...</td>\n",
       "      <td>vehicle code violation</td>\n",
       "      <td>traffic signals and signs</td>\n",
       "      <td>broadside</td>\n",
       "      <td>other motor vehicle</td>\n",
       "      <td>dry</td>\n",
       "      <td>normal</td>\n",
       "      <td>dark with street lights</td>\n",
       "      <td>functioning</td>\n",
       "      <td>2012-01-10</td>\n",
       "      <td>19:26:00</td>\n",
       "    </tr>\n",
       "    <tr>\n",
       "      <th>1</th>\n",
       "      <td>2419055</td>\n",
       "      <td>5461655</td>\n",
       "      <td>1</td>\n",
       "      <td>car</td>\n",
       "      <td>1</td>\n",
       "      <td>67.0</td>\n",
       "      <td>had not been drinking</td>\n",
       "      <td>None</td>\n",
       "      <td>0.0</td>\n",
       "      <td>1333128</td>\n",
       "      <td>...</td>\n",
       "      <td>vehicle code violation</td>\n",
       "      <td>speeding</td>\n",
       "      <td>rear end</td>\n",
       "      <td>other motor vehicle</td>\n",
       "      <td>dry</td>\n",
       "      <td>normal</td>\n",
       "      <td>dark with street lights not functioning</td>\n",
       "      <td>none</td>\n",
       "      <td>2012-01-20</td>\n",
       "      <td>17:39:00</td>\n",
       "    </tr>\n",
       "    <tr>\n",
       "      <th>2</th>\n",
       "      <td>2429262</td>\n",
       "      <td>5467091</td>\n",
       "      <td>1</td>\n",
       "      <td>car</td>\n",
       "      <td>1</td>\n",
       "      <td>18.0</td>\n",
       "      <td>had not been drinking</td>\n",
       "      <td>None</td>\n",
       "      <td>0.0</td>\n",
       "      <td>1338661</td>\n",
       "      <td>...</td>\n",
       "      <td>vehicle code violation</td>\n",
       "      <td>improper turning</td>\n",
       "      <td>hit object</td>\n",
       "      <td>fixed object</td>\n",
       "      <td>dry</td>\n",
       "      <td>normal</td>\n",
       "      <td>dark with no street lights</td>\n",
       "      <td>none</td>\n",
       "      <td>2012-01-14</td>\n",
       "      <td>22:56:00</td>\n",
       "    </tr>\n",
       "    <tr>\n",
       "      <th>3</th>\n",
       "      <td>2459476</td>\n",
       "      <td>5483391</td>\n",
       "      <td>3</td>\n",
       "      <td>car</td>\n",
       "      <td>1</td>\n",
       "      <td>28.0</td>\n",
       "      <td>had not been drinking</td>\n",
       "      <td>None</td>\n",
       "      <td>0.0</td>\n",
       "      <td>1355295</td>\n",
       "      <td>...</td>\n",
       "      <td>vehicle code violation</td>\n",
       "      <td>speeding</td>\n",
       "      <td>rear end</td>\n",
       "      <td>other motor vehicle</td>\n",
       "      <td>dry</td>\n",
       "      <td>normal</td>\n",
       "      <td>dark with street lights</td>\n",
       "      <td>none</td>\n",
       "      <td>2012-01-04</td>\n",
       "      <td>19:05:00</td>\n",
       "    </tr>\n",
       "    <tr>\n",
       "      <th>4</th>\n",
       "      <td>2485784</td>\n",
       "      <td>5497526</td>\n",
       "      <td>1</td>\n",
       "      <td>car</td>\n",
       "      <td>1</td>\n",
       "      <td>26.0</td>\n",
       "      <td>had not been drinking</td>\n",
       "      <td>None</td>\n",
       "      <td>0.0</td>\n",
       "      <td>1369471</td>\n",
       "      <td>...</td>\n",
       "      <td>vehicle code violation</td>\n",
       "      <td>improper turning</td>\n",
       "      <td>overturned</td>\n",
       "      <td>non-collision</td>\n",
       "      <td>dry</td>\n",
       "      <td>normal</td>\n",
       "      <td>daylight</td>\n",
       "      <td>none</td>\n",
       "      <td>2012-01-15</td>\n",
       "      <td>09:55:00</td>\n",
       "    </tr>\n",
       "  </tbody>\n",
       "</table>\n",
       "<p>5 rows × 35 columns</p>\n",
       "</div>"
      ],
      "text/plain": [
       "        id  case_id  party_number party_type  at_fault  insurance_premium  \\\n",
       "0  2406376  5454846             3        car         0               28.0   \n",
       "1  2419055  5461655             1        car         1               67.0   \n",
       "2  2429262  5467091             1        car         1               18.0   \n",
       "3  2459476  5483391             3        car         1               28.0   \n",
       "4  2485784  5497526             1        car         1               26.0   \n",
       "\n",
       "          party_sobriety party_drug_physical  cellphone_in_use       id  ...  \\\n",
       "0  had not been drinking                None               0.0  1326456  ...   \n",
       "1  had not been drinking                None               0.0  1333128  ...   \n",
       "2  had not been drinking                None               0.0  1338661  ...   \n",
       "3  had not been drinking                None               0.0  1355295  ...   \n",
       "4  had not been drinking                None               0.0  1369471  ...   \n",
       "\n",
       "  primary_collision_factor     pcf_violation_category type_of_collision  \\\n",
       "0   vehicle code violation  traffic signals and signs         broadside   \n",
       "1   vehicle code violation                   speeding          rear end   \n",
       "2   vehicle code violation           improper turning        hit object   \n",
       "3   vehicle code violation                   speeding          rear end   \n",
       "4   vehicle code violation           improper turning        overturned   \n",
       "\n",
       "  motor_vehicle_involved_with  road_surface road_condition_1  \\\n",
       "0         other motor vehicle           dry           normal   \n",
       "1         other motor vehicle           dry           normal   \n",
       "2                fixed object           dry           normal   \n",
       "3         other motor vehicle           dry           normal   \n",
       "4               non-collision           dry           normal   \n",
       "\n",
       "                                  lighting control_device  collision_date  \\\n",
       "0                  dark with street lights    functioning      2012-01-10   \n",
       "1  dark with street lights not functioning           none      2012-01-20   \n",
       "2               dark with no street lights           none      2012-01-14   \n",
       "3                  dark with street lights           none      2012-01-04   \n",
       "4                                 daylight           none      2012-01-15   \n",
       "\n",
       "  collision_time  \n",
       "0       19:26:00  \n",
       "1       17:39:00  \n",
       "2       22:56:00  \n",
       "3       19:05:00  \n",
       "4       09:55:00  \n",
       "\n",
       "[5 rows x 35 columns]"
      ]
     },
     "metadata": {},
     "output_type": "display_data"
    }
   ],
   "source": [
    "# sql запрос\n",
    "query = '''\n",
    "SELECT *\n",
    "FROM parties p INNER JOIN\n",
    "     vehicles v ON p.case_id = v.case_id AND p.party_number = v.party_number LEFT JOIN\n",
    "     collisions c ON p.case_id = c.case_id\n",
    "WHERE p.case_id IN (SELECT case_id\n",
    "                    FROM parties\n",
    "                    WHERE PARTY_TYPE = 'car' AND\n",
    "                          AT_FAULT = 1) AND\n",
    "      c.COLLISION_DAMAGE NOT IN ('SCRATCH') AND\n",
    "      EXTRACT(YEAR FROM c.COLLISION_DATE) = 2012;\n",
    "\n",
    "'''\n",
    "\n",
    "df = request(query)\n",
    "display(df.head())"
   ]
  },
  {
   "cell_type": "markdown",
   "id": "f856f1c0",
   "metadata": {},
   "source": [
    "## Первичный отбор факторов, необходимых для построения модели\n",
    "\n",
    "__Признаки не подходящие для дальнейшего анализа:__\n",
    "- Признаки `id`, `case_id` можно заменить уникальным идентификатором датафрейма.\n",
    "- `party_number` - Номер участника происшествия: не несет информации для анализа, а используется для структурирования базы данных, его так же можно удалить.\n",
    "- `party_type` - Тип участника происшествия: содержит значения: 'car', 'building', 'road signs', 'other', 'road bumper', None. Необходимо оставить записи только с участником 'car', остальные записи не несут дополнительной информации о месте происшествия, тк она будет дублироваться соответствующей записью с машиной. Затем данный признак так же следует удалить.\n",
    "- `county_city_location` - Номер географических районов, где произошло ДТП: содержит много уникальных значений и не будет использовано в построении модели, тк это приведет к уменьшению обобщающей способности.\n",
    "\n",
    "Следующие признаки, так же малозначемы для построения Модели, так как они определяются уже после ДТП и при прогнозировании не доступны:\n",
    "- `party_count` - Количество участников\n",
    "- `primary_collision_factor` - Основной фактор аварии\n",
    "- `pcf_violation_category` - Категория нарушения\n",
    "- `type_of_collision` - Тип аварии\n",
    "- `motor_vehicle_involved_with` - Дополнительные участники ДТП\n",
    "- `intersection` - Является ли место происшествие перекрёстком\n",
    "- `collision_damage` - Серьёзность происшествия\n",
    "\n",
    "__Признаки которые могут оказать косвенное влияние:__\n",
    "- `location_type` - Тип дороги\n",
    "- `direction` - Направление движения\n",
    "- `county_location` - Названия географических районов, где произошло ДТП\n",
    "- `vehicle_transmission` - Тип КПП\n",
    "- `vehicle_type` - Тип кузова\n",
    "- `insurance_premium` - Сумма страховки: возможно, при наличии страховки, водитель чувствует излишнюю уверенности и это может повлиять на его манеру вождения, на данный момент этот признак следует оставить.\n",
    "- `distance` - Расстояние от главной дороги (метры)\n",
    "- `cellphone_in_use` Наличие - Телефона в автомобиле (возможности разговаривать по громкой связи)\n",
    "\n",
    "__Важные признаки:__\n",
    "- `party_sobriety` - Трезвость участника\n",
    "- `party_drug_physical` - Состояние участника\n",
    "- `vehicle_age` - Возраст автомобиля (в годах)\n",
    "- `road_surface` - Состояние дороги\n",
    "- `road_condition_1` - Дорожное состояние\n",
    "- `lighting` - Освещение\n",
    "- `control_device` - Работоспособность устройств управления\n",
    "- `collision_date` - Дата происшествия\n",
    "- `collision_time` - Время происшествия\n",
    "- `weather_1` - Погода\n",
    "\n",
    "- `at_fault` - Виновность участника: является целевым признаком"
   ]
  },
  {
   "cell_type": "markdown",
   "id": "4d83b080",
   "metadata": {},
   "source": [
    "__Пнрвичная подготовка данных__"
   ]
  },
  {
   "cell_type": "code",
   "execution_count": 127,
   "id": "2fed7deb",
   "metadata": {},
   "outputs": [],
   "source": [
    "# фильтрайия по типу участника происшествия \n",
    "df = df[df['party_type']=='car']\n",
    "# удаление малозначемых признаков\n",
    "df = df.drop(['id', 'case_id', 'party_number', 'party_type', 'county_city_location', \n",
    "             'party_count', 'primary_collision_factor', 'pcf_violation_category', 'type_of_collision', \n",
    "             'motor_vehicle_involved_with', 'intersection', 'collision_damage'], axis=1)\n",
    "# добавление `index`\n",
    "df = df.reset_index()"
   ]
  },
  {
   "cell_type": "markdown",
   "id": "a542fd63",
   "metadata": {},
   "source": [
    "<div style=\"padding:0px 20px 10px; \n",
    "            color:#004346;\n",
    "            font-size:15px;\n",
    "            display:fill;\n",
    "            text-align:center;\n",
    "            border-radius:20px;\n",
    "            border: 5px double;\n",
    "            border-color:#201E20;\n",
    "            background-color: #E8F1F2;\n",
    "            overflow:hidden;\n",
    "            font-weight:400\"> \n",
    "\n",
    "# Предобработка и исследовательский анализ данных\n",
    "\n",
    "## Общая информация\n",
    "\n",
    "</div>"
   ]
  },
  {
   "cell_type": "code",
   "execution_count": 128,
   "id": "21331bdf",
   "metadata": {},
   "outputs": [
    {
     "name": "stdout",
     "output_type": "stream",
     "text": [
      "<class 'pandas.core.frame.DataFrame'>\n",
      "RangeIndex: 96966 entries, 0 to 96965\n",
      "Data columns (total 20 columns):\n",
      " #   Column                Non-Null Count  Dtype  \n",
      "---  ------                --------------  -----  \n",
      " 0   index                 96966 non-null  int64  \n",
      " 1   at_fault              96966 non-null  int64  \n",
      " 2   insurance_premium     96214 non-null  float64\n",
      " 3   party_sobriety        95570 non-null  object \n",
      " 4   party_drug_physical   3942 non-null   object \n",
      " 5   cellphone_in_use      87913 non-null  float64\n",
      " 6   vehicle_type          96966 non-null  object \n",
      " 7   vehicle_transmission  95199 non-null  object \n",
      " 8   vehicle_age           94545 non-null  float64\n",
      " 9   county_location       96966 non-null  object \n",
      " 10  distance              96966 non-null  float64\n",
      " 11  direction             71771 non-null  object \n",
      " 12  weather_1             96725 non-null  object \n",
      " 13  location_type         41203 non-null  object \n",
      " 14  road_surface          96268 non-null  object \n",
      " 15  road_condition_1      96505 non-null  object \n",
      " 16  lighting              96696 non-null  object \n",
      " 17  control_device        96555 non-null  object \n",
      " 18  collision_date        96966 non-null  object \n",
      " 19  collision_time        96860 non-null  object \n",
      "dtypes: float64(4), int64(2), object(14)\n",
      "memory usage: 14.8+ MB\n"
     ]
    },
    {
     "data": {
      "text/plain": [
       "None"
      ]
     },
     "metadata": {},
     "output_type": "display_data"
    }
   ],
   "source": [
    "display(df.info())"
   ]
  },
  {
   "cell_type": "code",
   "execution_count": 129,
   "id": "ec663505",
   "metadata": {},
   "outputs": [],
   "source": [
    "# функция для проверки пропусков\n",
    "def f_isna(x):\n",
    "    print(f\"Количество пропусков в столбце {x}: {df[x].isna().sum()/len(df)}%\")\n",
    "    \n",
    "# функция для проверки линейной зависимости с целевым признаком\n",
    "def f_corr(x):\n",
    "    print(f\"Линейная связь с целевым признаком: {df[['at_fault', x]].corr().iloc()[0][1]}\")\n",
    "\n",
    "# функция для проверки нелинейной зависимости phik с целевым признаком\n",
    "def f_phik(x):\n",
    "    phik = df[['at_fault', x]].phik_matrix().iloc()[0][1]\n",
    "    print(f\"Phik: {phik}\")"
   ]
  },
  {
   "cell_type": "markdown",
   "id": "97c18cb7",
   "metadata": {},
   "source": [
    "- Присутствуют пропуски, обработку которых проведем в следующих шагах, так как нет единой стратегии их заполнения."
   ]
  },
  {
   "cell_type": "markdown",
   "id": "6b0304ef",
   "metadata": {},
   "source": [
    "<div style=\"padding:0px 20px 10px; \n",
    "            color:#004346;\n",
    "            font-size:15px;\n",
    "            display:fill;\n",
    "            text-align:center;\n",
    "            border-radius:20px;\n",
    "            border: 5px double;\n",
    "            border-color:#201E20;\n",
    "            background-color: #E8F1F2;\n",
    "            overflow:hidden;\n",
    "            font-weight:400\"> \n",
    "\n",
    "## Анализ и обработка числовых признаков\n",
    "    \n",
    "</div>"
   ]
  },
  {
   "cell_type": "code",
   "execution_count": 130,
   "id": "239c8c56",
   "metadata": {},
   "outputs": [
    {
     "data": {
      "text/html": [
       "<div>\n",
       "<style scoped>\n",
       "    .dataframe tbody tr th:only-of-type {\n",
       "        vertical-align: middle;\n",
       "    }\n",
       "\n",
       "    .dataframe tbody tr th {\n",
       "        vertical-align: top;\n",
       "    }\n",
       "\n",
       "    .dataframe thead th {\n",
       "        text-align: right;\n",
       "    }\n",
       "</style>\n",
       "<table border=\"1\" class=\"dataframe\">\n",
       "  <thead>\n",
       "    <tr style=\"text-align: right;\">\n",
       "      <th></th>\n",
       "      <th>count</th>\n",
       "      <th>mean</th>\n",
       "      <th>std</th>\n",
       "      <th>min</th>\n",
       "      <th>25%</th>\n",
       "      <th>50%</th>\n",
       "      <th>75%</th>\n",
       "      <th>max</th>\n",
       "    </tr>\n",
       "  </thead>\n",
       "  <tbody>\n",
       "    <tr>\n",
       "      <th>at_fault</th>\n",
       "      <td>96966.0</td>\n",
       "      <td>0.475734</td>\n",
       "      <td>0.499413</td>\n",
       "      <td>0.0</td>\n",
       "      <td>0.0</td>\n",
       "      <td>0.0</td>\n",
       "      <td>1.0</td>\n",
       "      <td>1.0</td>\n",
       "    </tr>\n",
       "    <tr>\n",
       "      <th>insurance_premium</th>\n",
       "      <td>96214.0</td>\n",
       "      <td>38.530370</td>\n",
       "      <td>16.248737</td>\n",
       "      <td>0.0</td>\n",
       "      <td>25.0</td>\n",
       "      <td>36.0</td>\n",
       "      <td>50.0</td>\n",
       "      <td>104.0</td>\n",
       "    </tr>\n",
       "    <tr>\n",
       "      <th>cellphone_in_use</th>\n",
       "      <td>87913.0</td>\n",
       "      <td>0.020714</td>\n",
       "      <td>0.142425</td>\n",
       "      <td>0.0</td>\n",
       "      <td>0.0</td>\n",
       "      <td>0.0</td>\n",
       "      <td>0.0</td>\n",
       "      <td>1.0</td>\n",
       "    </tr>\n",
       "    <tr>\n",
       "      <th>vehicle_age</th>\n",
       "      <td>94545.0</td>\n",
       "      <td>5.206071</td>\n",
       "      <td>3.120605</td>\n",
       "      <td>0.0</td>\n",
       "      <td>3.0</td>\n",
       "      <td>5.0</td>\n",
       "      <td>7.0</td>\n",
       "      <td>161.0</td>\n",
       "    </tr>\n",
       "    <tr>\n",
       "      <th>distance</th>\n",
       "      <td>96966.0</td>\n",
       "      <td>701.654741</td>\n",
       "      <td>5668.534327</td>\n",
       "      <td>0.0</td>\n",
       "      <td>0.0</td>\n",
       "      <td>100.0</td>\n",
       "      <td>500.0</td>\n",
       "      <td>1584000.0</td>\n",
       "    </tr>\n",
       "  </tbody>\n",
       "</table>\n",
       "</div>"
      ],
      "text/plain": [
       "                     count        mean          std  min   25%    50%    75%  \\\n",
       "at_fault           96966.0    0.475734     0.499413  0.0   0.0    0.0    1.0   \n",
       "insurance_premium  96214.0   38.530370    16.248737  0.0  25.0   36.0   50.0   \n",
       "cellphone_in_use   87913.0    0.020714     0.142425  0.0   0.0    0.0    0.0   \n",
       "vehicle_age        94545.0    5.206071     3.120605  0.0   3.0    5.0    7.0   \n",
       "distance           96966.0  701.654741  5668.534327  0.0   0.0  100.0  500.0   \n",
       "\n",
       "                         max  \n",
       "at_fault                 1.0  \n",
       "insurance_premium      104.0  \n",
       "cellphone_in_use         1.0  \n",
       "vehicle_age            161.0  \n",
       "distance           1584000.0  "
      ]
     },
     "execution_count": 130,
     "metadata": {},
     "output_type": "execute_result"
    }
   ],
   "source": [
    "df[['at_fault', 'insurance_premium', 'cellphone_in_use', 'vehicle_age', 'distance']].describe().T"
   ]
  },
  {
   "cell_type": "markdown",
   "id": "64d1c42d",
   "metadata": {},
   "source": [
    "### at_fault - виновность участника ДТП\n",
    "Данный признак является целевым."
   ]
  },
  {
   "cell_type": "code",
   "execution_count": 131,
   "id": "6e4d2e40",
   "metadata": {},
   "outputs": [
    {
     "name": "stdout",
     "output_type": "stream",
     "text": [
      "Количество пропусков в столбце at_fault: 0.0%\n"
     ]
    }
   ],
   "source": [
    "f_isna('at_fault')"
   ]
  },
  {
   "cell_type": "code",
   "execution_count": 132,
   "id": "4511b1ca",
   "metadata": {},
   "outputs": [
    {
     "data": {
      "image/png": "[encoded data removed]",
      "text/plain": [
       "<Figure size 640x480 with 1 Axes>"
      ]
     },
     "metadata": {},
     "output_type": "display_data"
    }
   ],
   "source": [
    "# баланс целевого признака\n",
    "data = [df['at_fault'].value_counts()[0], df['at_fault'].value_counts()[1]]\n",
    "labels = ['Пострадавший', 'Виновник']\n",
    "\n",
    "colors = sns.color_palette('pastel')[ 0:5 ]\n",
    "\n",
    "plt.pie(data, labels = labels, colors = colors, autopct='%.0f%%')\n",
    "plt.show()"
   ]
  },
  {
   "cell_type": "markdown",
   "id": "e1e244bf",
   "metadata": {},
   "source": [
    "- Пропуски отсутствуют.\n",
    "- Баланс целевого признака хороший, 52% и 48%"
   ]
  },
  {
   "cell_type": "markdown",
   "id": "702a897b",
   "metadata": {},
   "source": [
    "### insurance_premium - сумма страховки"
   ]
  },
  {
   "cell_type": "code",
   "execution_count": 133,
   "id": "45c2c278",
   "metadata": {},
   "outputs": [
    {
     "name": "stdout",
     "output_type": "stream",
     "text": [
      "Количество пропусков в столбце insurance_premium: 0.0077552956706474436%\n",
      "Линейная связь с целевым признаком: -0.1265770035282736\n",
      "interval columns not set, guessing: ['at_fault', 'insurance_premium']\n",
      "Phik: 0.26655673497640947\n"
     ]
    }
   ],
   "source": [
    "# статистика\n",
    "f_isna('insurance_premium')\n",
    "f_corr('insurance_premium')\n",
    "f_phik('insurance_premium')"
   ]
  },
  {
   "cell_type": "code",
   "execution_count": 135,
   "id": "37bafde3",
   "metadata": {},
   "outputs": [
    {
     "data": {
      "image/png": "[encoded data removed]",
      "text/plain": [
       "<Figure size 800x300 with 1 Axes>"
      ]
     },
     "metadata": {},
     "output_type": "display_data"
    }
   ],
   "source": [
    "# визуализация количества подтверждённых заказов\n",
    "plt.figure(figsize=(8,3))\n",
    "plt.hist(df['insurance_premium'], bins=40, color='teal')\n",
    "plt.grid(True)\n",
    "plt.title('Количество записей относительно суммы страховки')\n",
    "plt.xlabel('Сумма страховки', fontsize=12)\n",
    "plt.ylabel('количество записей', fontsize=12)\n",
    "\n",
    "plt.show()"
   ]
  },
  {
   "cell_type": "markdown",
   "id": "f476f90c",
   "metadata": {},
   "source": [
    "В случае отсутствия данных в данном признаке, мы заменим пропуски на значение 0, поскольку это может указывать на отсутствие страховки у соответствующего участника."
   ]
  },
  {
   "cell_type": "code",
   "execution_count": 136,
   "id": "6998f986",
   "metadata": {},
   "outputs": [],
   "source": [
    "df['insurance_premium'] = df['insurance_premium'].fillna(0)"
   ]
  },
  {
   "cell_type": "code",
   "execution_count": 137,
   "id": "69dd9501",
   "metadata": {},
   "outputs": [
    {
     "name": "stdout",
     "output_type": "stream",
     "text": [
      "Количество пропусков в столбце insurance_premium: 0.0%\n",
      "Линейная связь с целевым признаком: -0.1342323952683906\n",
      "interval columns not set, guessing: ['at_fault', 'insurance_premium']\n",
      "Phik: 0.2738341854198687\n"
     ]
    }
   ],
   "source": [
    "# обновленная статистика\n",
    "f_isna('insurance_premium')\n",
    "f_corr('insurance_premium')\n",
    "f_phik('insurance_premium')"
   ]
  },
  {
   "cell_type": "markdown",
   "id": "800b5301",
   "metadata": {},
   "source": [
    "- Пропуски заполнены.\n",
    "- После заполнения пропусков, связь данного признака с целевым усилился."
   ]
  },
  {
   "cell_type": "markdown",
   "id": "6492b52b",
   "metadata": {},
   "source": [
    "### cellphone_in_use -  наличие телефона в автомобиле"
   ]
  },
  {
   "cell_type": "code",
   "execution_count": 138,
   "id": "2ad31262",
   "metadata": {
    "code_folding": []
   },
   "outputs": [
    {
     "name": "stdout",
     "output_type": "stream",
     "text": [
      "Количество пропусков в столбце cellphone_in_use: 0.09336262194996184%\n",
      "Линейная связь с целевым признаком: 0.014180192123375134\n",
      "interval columns not set, guessing: ['at_fault', 'cellphone_in_use']\n",
      "Phik: 0.021504475537408408\n"
     ]
    }
   ],
   "source": [
    "# статистика\n",
    "f_isna('cellphone_in_use')\n",
    "f_corr('cellphone_in_use')\n",
    "f_phik('cellphone_in_use')"
   ]
  },
  {
   "cell_type": "markdown",
   "id": "5e5f9ada",
   "metadata": {},
   "source": [
    "- Связь данного признака с целевым переменным является слабой.\n",
    "- Следует учесть, что в настоящее время большинство людей используют смартфоны, что делает данный признак менее актуальным для исследования. Рекомендуется исключить данный признак из анализа и построения моделей."
   ]
  },
  {
   "cell_type": "code",
   "execution_count": 139,
   "id": "402a09e6",
   "metadata": {},
   "outputs": [],
   "source": [
    "df = df.drop('cellphone_in_use', axis=1)"
   ]
  },
  {
   "cell_type": "markdown",
   "id": "bcb3f2c6",
   "metadata": {},
   "source": [
    "- Данный признак не имеет репрезентативной силы.\n",
    "- Было принято решение исключить данный признак из дальнейшего анализа."
   ]
  },
  {
   "cell_type": "markdown",
   "id": "37ba78e0",
   "metadata": {},
   "source": [
    "#### vehicle_age - возраст автомобиля (в годах)"
   ]
  },
  {
   "cell_type": "code",
   "execution_count": 141,
   "id": "fef8b779",
   "metadata": {},
   "outputs": [
    {
     "name": "stdout",
     "output_type": "stream",
     "text": [
      "Количество пропусков в столбце vehicle_age: 0.024967514386485985%\n"
     ]
    }
   ],
   "source": [
    "# пропуски\n",
    "f_isna('vehicle_age')"
   ]
  },
  {
   "cell_type": "markdown",
   "id": "1384046d",
   "metadata": {},
   "source": [
    "Данные о возрасте автомобилей невозможно восстановить на основе остальных данных, то разумным решением будет исключить записи с пропущенными значениями возраста из анализа."
   ]
  },
  {
   "cell_type": "code",
   "execution_count": 146,
   "id": "1bf95832",
   "metadata": {},
   "outputs": [],
   "source": [
    "# обработка пропусков\n",
    "df = df.dropna(subset=['vehicle_age']).copy()"
   ]
  },
  {
   "cell_type": "code",
   "execution_count": 147,
   "id": "713c887b",
   "metadata": {},
   "outputs": [
    {
     "data": {
      "image/png": "[encoded data removed]",
      "text/plain": [
       "<Figure size 800x300 with 1 Axes>"
      ]
     },
     "metadata": {},
     "output_type": "display_data"
    }
   ],
   "source": [
    "# boxplot для признака vehicle_age\n",
    "plt.figure(figsize=(8,3))\n",
    "plt.boxplot(df['vehicle_age'], vert=False, boxprops=dict(color='skyblue'), whiskerprops=dict(color='blue'))\n",
    "plt.grid(True)\n",
    "plt.title('Возраст автомобилей')\n",
    "plt.show()"
   ]
  },
  {
   "cell_type": "markdown",
   "id": "24127c16",
   "metadata": {},
   "source": [
    "Рекомендуется ограничить максимальный возраст автомобилей, исходя из значений 25-го и 75-го квантилей, чтобы исключить аномальные значения."
   ]
  },
  {
   "cell_type": "code",
   "execution_count": 155,
   "id": "4929f389",
   "metadata": {},
   "outputs": [
    {
     "name": "stdout",
     "output_type": "stream",
     "text": [
      "Порог аномальных значений: 19 лет\n"
     ]
    }
   ],
   "source": [
    "# рассчет орога аномальных значений\n",
    "q1 = df['vehicle_age'].quantile(0.25)\n",
    "q3 = df['vehicle_age'].quantile(0.75)\n",
    "print(f'Порог аномальных значений: {int(q3+2.5*(q3-q1))} лет')"
   ]
  },
  {
   "cell_type": "code",
   "execution_count": 153,
   "id": "5a760734",
   "metadata": {},
   "outputs": [],
   "source": [
    "df = df[df['vehicle_age']<=(q3+2.5*(q3-q1))]"
   ]
  },
  {
   "cell_type": "code",
   "execution_count": 156,
   "id": "817136ca",
   "metadata": {},
   "outputs": [
    {
     "name": "stdout",
     "output_type": "stream",
     "text": [
      "Линейная связь с целевым признаком: -0.09687363531102493\n",
      "interval columns not set, guessing: ['at_fault', 'vehicle_age']\n",
      "Phik: 0.22307408419985225\n"
     ]
    }
   ],
   "source": [
    "# статистика\n",
    "f_corr('vehicle_age')\n",
    "f_phik('vehicle_age')"
   ]
  },
  {
   "cell_type": "markdown",
   "id": "2d32fb08",
   "metadata": {},
   "source": [
    "- Обработаны пропуски и аномальные значения.\n",
    "- Присутствует связь данного признака с целевым."
   ]
  },
  {
   "cell_type": "markdown",
   "id": "c7d4305b",
   "metadata": {},
   "source": [
    "### distance - расстояние от главной дороги"
   ]
  },
  {
   "cell_type": "code",
   "execution_count": 160,
   "id": "d8716dde",
   "metadata": {},
   "outputs": [
    {
     "name": "stdout",
     "output_type": "stream",
     "text": [
      "Количество пропусков в столбце distance: 0.0%\n",
      "Линейная связь с целевым признаком: 0.04048321671376471\n",
      "interval columns not set, guessing: ['at_fault', 'distance']\n",
      "Phik: 0.0008939222252192158\n"
     ]
    }
   ],
   "source": [
    "# статистика\n",
    "f_isna('distance')\n",
    "f_corr('distance')\n",
    "f_phik('distance')"
   ]
  },
  {
   "cell_type": "markdown",
   "id": "872a892c",
   "metadata": {},
   "source": [
    "Связь данного признака с целевым переменным является слабой. Рекомендуется исключить данный признак из анализа и построения моделей."
   ]
  },
  {
   "cell_type": "code",
   "execution_count": 182,
   "id": "ea2a0411",
   "metadata": {},
   "outputs": [],
   "source": [
    "df = df.dropna(subset=['distance']).copy()"
   ]
  },
  {
   "cell_type": "markdown",
   "id": "3835e8a5",
   "metadata": {},
   "source": [
    "- Данный признак не имеет репрезентативной силы.\n",
    "- Было принято решение исключить данный признак из дальнейшего анализа."
   ]
  },
  {
   "cell_type": "markdown",
   "id": "812cff14",
   "metadata": {},
   "source": [
    "<div style=\"padding:0px 20px 10px; \n",
    "            color:#004346;\n",
    "            font-size:15px;\n",
    "            display:fill;\n",
    "            text-align:center;\n",
    "            border-radius:20px;\n",
    "            border: 5px double;\n",
    "            border-color:#201E20;\n",
    "            background-color: #E8F1F2;\n",
    "            overflow:hidden;\n",
    "            font-weight:400\"> \n",
    "\n",
    "## Анализ категориальные признаков\n",
    "    \n",
    "</div>"
   ]
  },
  {
   "cell_type": "code",
   "execution_count": null,
   "id": "c0cbef0f",
   "metadata": {},
   "outputs": [],
   "source": []
  },
  {
   "cell_type": "code",
   "execution_count": null,
   "id": "47eb326c",
   "metadata": {},
   "outputs": [],
   "source": []
  },
  {
   "cell_type": "markdown",
   "id": "908f3b59",
   "metadata": {},
   "source": [
    "## Создайте модель для оценки водительского риска"
   ]
  },
  {
   "cell_type": "code",
   "execution_count": 70,
   "id": "5f6c9179",
   "metadata": {},
   "outputs": [
    {
     "name": "stdout",
     "output_type": "stream",
     "text": [
      "<class 'pandas.core.frame.DataFrame'>\n",
      "RangeIndex: 96966 entries, 0 to 96965\n",
      "Data columns (total 20 columns):\n",
      " #   Column                Non-Null Count  Dtype  \n",
      "---  ------                --------------  -----  \n",
      " 0   index                 96966 non-null  int64  \n",
      " 1   at_fault              96966 non-null  int64  \n",
      " 2   insurance_premium     96214 non-null  float64\n",
      " 3   party_sobriety        95570 non-null  object \n",
      " 4   party_drug_physical   3942 non-null   object \n",
      " 5   cellphone_in_use      87913 non-null  float64\n",
      " 6   vehicle_type          96966 non-null  object \n",
      " 7   vehicle_transmission  95199 non-null  object \n",
      " 8   vehicle_age           94545 non-null  float64\n",
      " 9   county_location       96966 non-null  object \n",
      " 10  distance              96966 non-null  float64\n",
      " 11  direction             71771 non-null  object \n",
      " 12  weather_1             96725 non-null  object \n",
      " 13  location_type         41203 non-null  object \n",
      " 14  road_surface          96268 non-null  object \n",
      " 15  road_condition_1      96505 non-null  object \n",
      " 16  lighting              96696 non-null  object \n",
      " 17  control_device        96555 non-null  object \n",
      " 18  collision_date        96966 non-null  object \n",
      " 19  collision_time        96860 non-null  object \n",
      "dtypes: float64(4), int64(2), object(14)\n",
      "memory usage: 14.8+ MB\n"
     ]
    }
   ],
   "source": [
    "df.info()"
   ]
  },
  {
   "cell_type": "markdown",
   "id": "ecec8b9f",
   "metadata": {},
   "source": [
    "## Проведите анализ важности факторов ДТП"
   ]
  },
  {
   "cell_type": "code",
   "execution_count": null,
   "id": "ea0ea7dd",
   "metadata": {},
   "outputs": [],
   "source": []
  },
  {
   "cell_type": "markdown",
   "id": "d2c3d823",
   "metadata": {},
   "source": [
    "## Выводы"
   ]
  },
  {
   "cell_type": "code",
   "execution_count": null,
   "id": "07ee2719",
   "metadata": {},
   "outputs": [],
   "source": [
    "# Закрываем курсор и соединение\n",
    "#cursor.close()\n",
    "#connection.close()"
   ]
  }
 ],
 "metadata": {
  "kernelspec": {
   "display_name": "Python 3 (ipykernel)",
   "language": "python",
   "name": "python3"
  },
  "language_info": {
   "codemirror_mode": {
    "name": "ipython",
    "version": 3
   },
   "file_extension": ".py",
   "mimetype": "text/x-python",
   "name": "python",
   "nbconvert_exporter": "python",
   "pygments_lexer": "ipython3",
   "version": "3.10.9"
  },
  "toc": {
   "base_numbering": 1,
   "nav_menu": {},
   "number_sections": false,
   "sideBar": true,
   "skip_h1_title": false,
   "title_cell": "Table of Contents",
   "title_sidebar": "Contents",
   "toc_cell": false,
   "toc_position": {},
   "toc_section_display": true,
   "toc_window_display": false
  },
  "varInspector": {
   "cols": {
    "lenName": 16,
    "lenType": 16,
    "lenVar": 40
   },
   "kernels_config": {
    "python": {
     "delete_cmd_postfix": "",
     "delete_cmd_prefix": "del ",
     "library": "var_list.py",
     "varRefreshCmd": "print(var_dic_list())"
    },
    "r": {
     "delete_cmd_postfix": ") ",
     "delete_cmd_prefix": "rm(",
     "library": "var_list.r",
     "varRefreshCmd": "cat(var_dic_list()) "
    }
   },
   "types_to_exclude": [
    "module",
    "function",
    "builtin_function_or_method",
    "instance",
    "_Feature"
   ],
   "window_display": false
  }
 },
 "nbformat": 4,
 "nbformat_minor": 5
}
